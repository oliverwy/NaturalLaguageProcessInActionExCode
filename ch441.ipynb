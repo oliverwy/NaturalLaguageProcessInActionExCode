{
 "metadata": {
  "language_info": {
   "codemirror_mode": {
    "name": "ipython",
    "version": 3
   },
   "file_extension": ".py",
   "mimetype": "text/x-python",
   "name": "python",
   "nbconvert_exporter": "python",
   "pygments_lexer": "ipython3",
   "version": "3.8.5-final"
  },
  "orig_nbformat": 2,
  "kernelspec": {
   "name": "python3",
   "display_name": "Python 3",
   "language": "python"
  }
 },
 "nbformat": 4,
 "nbformat_minor": 2,
 "cells": [
  {
   "cell_type": "code",
   "execution_count": 1,
   "metadata": {},
   "outputs": [],
   "source": [
    "import pandas as pd\n",
    "from nlpia.data.loaders import get_data\n",
    "pd.options.display.width=120"
   ]
  },
  {
   "cell_type": "code",
   "execution_count": 2,
   "metadata": {},
   "outputs": [],
   "source": [
    "sms=get_data('sms-spam')\n",
    "index=['sms{}{}'.format(i,'!'*j) for (i,j) in zip(range(len(sms)),sms.spam)]"
   ]
  },
  {
   "cell_type": "code",
   "execution_count": 3,
   "metadata": {},
   "outputs": [],
   "source": [
    "sms.index=index"
   ]
  },
  {
   "cell_type": "code",
   "execution_count": 4,
   "metadata": {},
   "outputs": [
    {
     "output_type": "execute_result",
     "data": {
      "text/plain": [
       "       spam                                               text\n",
       "sms0      0  Go until jurong point, crazy.. Available only ...\n",
       "sms1      0                      Ok lar... Joking wif u oni...\n",
       "sms2!     1  Free entry in 2 a wkly comp to win FA Cup fina...\n",
       "sms3      0  U dun say so early hor... U c already then say...\n",
       "sms4      0  Nah I don't think he goes to usf, he lives aro...\n",
       "sms5!     1  FreeMsg Hey there darling it's been 3 week's n..."
      ],
      "text/html": "<div>\n<style scoped>\n    .dataframe tbody tr th:only-of-type {\n        vertical-align: middle;\n    }\n\n    .dataframe tbody tr th {\n        vertical-align: top;\n    }\n\n    .dataframe thead th {\n        text-align: right;\n    }\n</style>\n<table border=\"1\" class=\"dataframe\">\n  <thead>\n    <tr style=\"text-align: right;\">\n      <th></th>\n      <th>spam</th>\n      <th>text</th>\n    </tr>\n  </thead>\n  <tbody>\n    <tr>\n      <th>sms0</th>\n      <td>0</td>\n      <td>Go until jurong point, crazy.. Available only ...</td>\n    </tr>\n    <tr>\n      <th>sms1</th>\n      <td>0</td>\n      <td>Ok lar... Joking wif u oni...</td>\n    </tr>\n    <tr>\n      <th>sms2!</th>\n      <td>1</td>\n      <td>Free entry in 2 a wkly comp to win FA Cup fina...</td>\n    </tr>\n    <tr>\n      <th>sms3</th>\n      <td>0</td>\n      <td>U dun say so early hor... U c already then say...</td>\n    </tr>\n    <tr>\n      <th>sms4</th>\n      <td>0</td>\n      <td>Nah I don't think he goes to usf, he lives aro...</td>\n    </tr>\n    <tr>\n      <th>sms5!</th>\n      <td>1</td>\n      <td>FreeMsg Hey there darling it's been 3 week's n...</td>\n    </tr>\n  </tbody>\n</table>\n</div>"
     },
     "metadata": {},
     "execution_count": 4
    }
   ],
   "source": [
    "sms.head(6)"
   ]
  },
  {
   "cell_type": "code",
   "execution_count": 5,
   "metadata": {},
   "outputs": [],
   "source": [
    "from sklearn.feature_extraction.text import TfidfVectorizer\n",
    "from nltk.tokenize.casual import casual_tokenize\n",
    "tfidf=TfidfVectorizer(tokenizer=casual_tokenize)\n",
    "tfidf_docs=tfidf.fit_transform(raw_documents=sms.text).toarray()"
   ]
  },
  {
   "cell_type": "code",
   "execution_count": 6,
   "metadata": {},
   "outputs": [
    {
     "output_type": "execute_result",
     "data": {
      "text/plain": [
       "9232"
      ]
     },
     "metadata": {},
     "execution_count": 6
    }
   ],
   "source": [
    "len(tfidf.vocabulary_)"
   ]
  },
  {
   "cell_type": "code",
   "execution_count": 7,
   "metadata": {},
   "outputs": [],
   "source": [
    "tfidf_docs=pd.DataFrame(tfidf_docs)\n"
   ]
  },
  {
   "cell_type": "code",
   "execution_count": 8,
   "metadata": {},
   "outputs": [],
   "source": [
    "tfidf_docs=tfidf_docs-tfidf_docs.mean()\n"
   ]
  },
  {
   "cell_type": "code",
   "execution_count": 9,
   "metadata": {},
   "outputs": [
    {
     "output_type": "execute_result",
     "data": {
      "text/plain": [
       "       0        1         2         3         4         5         6         7         8         9     ...      9222  \\\n",
       "0 -0.025643 -0.00584 -0.000228 -0.000053 -0.000156 -0.000943 -0.000463 -0.006695 -0.004035 -0.002745  ... -0.000264   \n",
       "1 -0.025643 -0.00584 -0.000228 -0.000053 -0.000156 -0.000943 -0.000463 -0.006695 -0.004035 -0.002745  ... -0.000264   \n",
       "\n",
       "       9223          9224      9225      9226      9227     9228      9229      9230      9231  \n",
       "0 -0.000426 -7.667659e-07 -0.001598 -0.000148 -0.000099 -0.00066 -0.000055 -0.000055 -0.000055  \n",
       "1 -0.000426 -7.667659e-07 -0.001598 -0.000148 -0.000099 -0.00066 -0.000055 -0.000055 -0.000055  \n",
       "\n",
       "[2 rows x 9232 columns]"
      ],
      "text/html": "<div>\n<style scoped>\n    .dataframe tbody tr th:only-of-type {\n        vertical-align: middle;\n    }\n\n    .dataframe tbody tr th {\n        vertical-align: top;\n    }\n\n    .dataframe thead th {\n        text-align: right;\n    }\n</style>\n<table border=\"1\" class=\"dataframe\">\n  <thead>\n    <tr style=\"text-align: right;\">\n      <th></th>\n      <th>0</th>\n      <th>1</th>\n      <th>2</th>\n      <th>3</th>\n      <th>4</th>\n      <th>5</th>\n      <th>6</th>\n      <th>7</th>\n      <th>8</th>\n      <th>9</th>\n      <th>...</th>\n      <th>9222</th>\n      <th>9223</th>\n      <th>9224</th>\n      <th>9225</th>\n      <th>9226</th>\n      <th>9227</th>\n      <th>9228</th>\n      <th>9229</th>\n      <th>9230</th>\n      <th>9231</th>\n    </tr>\n  </thead>\n  <tbody>\n    <tr>\n      <th>0</th>\n      <td>-0.025643</td>\n      <td>-0.00584</td>\n      <td>-0.000228</td>\n      <td>-0.000053</td>\n      <td>-0.000156</td>\n      <td>-0.000943</td>\n      <td>-0.000463</td>\n      <td>-0.006695</td>\n      <td>-0.004035</td>\n      <td>-0.002745</td>\n      <td>...</td>\n      <td>-0.000264</td>\n      <td>-0.000426</td>\n      <td>-7.667659e-07</td>\n      <td>-0.001598</td>\n      <td>-0.000148</td>\n      <td>-0.000099</td>\n      <td>-0.00066</td>\n      <td>-0.000055</td>\n      <td>-0.000055</td>\n      <td>-0.000055</td>\n    </tr>\n    <tr>\n      <th>1</th>\n      <td>-0.025643</td>\n      <td>-0.00584</td>\n      <td>-0.000228</td>\n      <td>-0.000053</td>\n      <td>-0.000156</td>\n      <td>-0.000943</td>\n      <td>-0.000463</td>\n      <td>-0.006695</td>\n      <td>-0.004035</td>\n      <td>-0.002745</td>\n      <td>...</td>\n      <td>-0.000264</td>\n      <td>-0.000426</td>\n      <td>-7.667659e-07</td>\n      <td>-0.001598</td>\n      <td>-0.000148</td>\n      <td>-0.000099</td>\n      <td>-0.00066</td>\n      <td>-0.000055</td>\n      <td>-0.000055</td>\n      <td>-0.000055</td>\n    </tr>\n  </tbody>\n</table>\n<p>2 rows × 9232 columns</p>\n</div>"
     },
     "metadata": {},
     "execution_count": 9
    }
   ],
   "source": [
    "tfidf_docs.head(2)"
   ]
  },
  {
   "cell_type": "code",
   "execution_count": 10,
   "metadata": {},
   "outputs": [
    {
     "output_type": "execute_result",
     "data": {
      "text/plain": [
       "(4837, 9232)"
      ]
     },
     "metadata": {},
     "execution_count": 10
    }
   ],
   "source": [
    "tfidf_docs.shape"
   ]
  },
  {
   "cell_type": "code",
   "execution_count": 11,
   "metadata": {},
   "outputs": [
    {
     "output_type": "execute_result",
     "data": {
      "text/plain": [
       "638"
      ]
     },
     "metadata": {},
     "execution_count": 11
    }
   ],
   "source": [
    "sms.spam.sum()"
   ]
  },
  {
   "cell_type": "code",
   "execution_count": 12,
   "metadata": {},
   "outputs": [],
   "source": [
    "from sklearn.decomposition import PCA\n",
    "pca=PCA(n_components=16)\n",
    "pca=pca.fit(tfidf_docs)\n",
    "pca_topic_vectors=pca.transform(tfidf_docs)\n",
    "colums=['topic{}'.format(i) for i in range(pca.n_components)]\n",
    "pca_topic_vectors=pd.DataFrame(pca_topic_vectors,columns=colums,index=index)\n"
   ]
  },
  {
   "cell_type": "code",
   "execution_count": 13,
   "metadata": {},
   "outputs": [
    {
     "output_type": "execute_result",
     "data": {
      "text/plain": [
       "       topic0  topic1  topic2  topic3  topic4  topic5  topic6  topic7  topic8  topic9  topic10  topic11  topic12  \\\n",
       "sms0    0.201   0.003   0.037   0.011  -0.019  -0.053   0.040  -0.065   0.011  -0.080    0.009    0.002   -0.006   \n",
       "sms1    0.404  -0.094  -0.078   0.051   0.100   0.047   0.023   0.065   0.023  -0.023   -0.005    0.038    0.036   \n",
       "sms2!  -0.030  -0.048   0.090  -0.067   0.091  -0.043  -0.000  -0.001  -0.057   0.051    0.128    0.024    0.019   \n",
       "sms3    0.329  -0.033  -0.035  -0.016   0.052   0.056  -0.165  -0.074   0.063  -0.107    0.020    0.029    0.050   \n",
       "sms4    0.002   0.031   0.038   0.034  -0.075  -0.093  -0.044   0.061  -0.045   0.029    0.030   -0.012    0.042   \n",
       "sms5!  -0.016   0.059   0.014  -0.006   0.122  -0.040   0.005   0.167  -0.023   0.065    0.040    0.057   -0.010   \n",
       "\n",
       "       topic13  topic14  topic15  \n",
       "sms0    -0.028   -0.006    0.039  \n",
       "sms1    -0.041    0.053   -0.034  \n",
       "sms2!   -0.023   -0.039    0.054  \n",
       "sms3    -0.071    0.019   -0.074  \n",
       "sms4     0.021   -0.082   -0.024  \n",
       "sms5!    0.090    0.013    0.027  "
      ],
      "text/html": "<div>\n<style scoped>\n    .dataframe tbody tr th:only-of-type {\n        vertical-align: middle;\n    }\n\n    .dataframe tbody tr th {\n        vertical-align: top;\n    }\n\n    .dataframe thead th {\n        text-align: right;\n    }\n</style>\n<table border=\"1\" class=\"dataframe\">\n  <thead>\n    <tr style=\"text-align: right;\">\n      <th></th>\n      <th>topic0</th>\n      <th>topic1</th>\n      <th>topic2</th>\n      <th>topic3</th>\n      <th>topic4</th>\n      <th>topic5</th>\n      <th>topic6</th>\n      <th>topic7</th>\n      <th>topic8</th>\n      <th>topic9</th>\n      <th>topic10</th>\n      <th>topic11</th>\n      <th>topic12</th>\n      <th>topic13</th>\n      <th>topic14</th>\n      <th>topic15</th>\n    </tr>\n  </thead>\n  <tbody>\n    <tr>\n      <th>sms0</th>\n      <td>0.201</td>\n      <td>0.003</td>\n      <td>0.037</td>\n      <td>0.011</td>\n      <td>-0.019</td>\n      <td>-0.053</td>\n      <td>0.040</td>\n      <td>-0.065</td>\n      <td>0.011</td>\n      <td>-0.080</td>\n      <td>0.009</td>\n      <td>0.002</td>\n      <td>-0.006</td>\n      <td>-0.028</td>\n      <td>-0.006</td>\n      <td>0.039</td>\n    </tr>\n    <tr>\n      <th>sms1</th>\n      <td>0.404</td>\n      <td>-0.094</td>\n      <td>-0.078</td>\n      <td>0.051</td>\n      <td>0.100</td>\n      <td>0.047</td>\n      <td>0.023</td>\n      <td>0.065</td>\n      <td>0.023</td>\n      <td>-0.023</td>\n      <td>-0.005</td>\n      <td>0.038</td>\n      <td>0.036</td>\n      <td>-0.041</td>\n      <td>0.053</td>\n      <td>-0.034</td>\n    </tr>\n    <tr>\n      <th>sms2!</th>\n      <td>-0.030</td>\n      <td>-0.048</td>\n      <td>0.090</td>\n      <td>-0.067</td>\n      <td>0.091</td>\n      <td>-0.043</td>\n      <td>-0.000</td>\n      <td>-0.001</td>\n      <td>-0.057</td>\n      <td>0.051</td>\n      <td>0.128</td>\n      <td>0.024</td>\n      <td>0.019</td>\n      <td>-0.023</td>\n      <td>-0.039</td>\n      <td>0.054</td>\n    </tr>\n    <tr>\n      <th>sms3</th>\n      <td>0.329</td>\n      <td>-0.033</td>\n      <td>-0.035</td>\n      <td>-0.016</td>\n      <td>0.052</td>\n      <td>0.056</td>\n      <td>-0.165</td>\n      <td>-0.074</td>\n      <td>0.063</td>\n      <td>-0.107</td>\n      <td>0.020</td>\n      <td>0.029</td>\n      <td>0.050</td>\n      <td>-0.071</td>\n      <td>0.019</td>\n      <td>-0.074</td>\n    </tr>\n    <tr>\n      <th>sms4</th>\n      <td>0.002</td>\n      <td>0.031</td>\n      <td>0.038</td>\n      <td>0.034</td>\n      <td>-0.075</td>\n      <td>-0.093</td>\n      <td>-0.044</td>\n      <td>0.061</td>\n      <td>-0.045</td>\n      <td>0.029</td>\n      <td>0.030</td>\n      <td>-0.012</td>\n      <td>0.042</td>\n      <td>0.021</td>\n      <td>-0.082</td>\n      <td>-0.024</td>\n    </tr>\n    <tr>\n      <th>sms5!</th>\n      <td>-0.016</td>\n      <td>0.059</td>\n      <td>0.014</td>\n      <td>-0.006</td>\n      <td>0.122</td>\n      <td>-0.040</td>\n      <td>0.005</td>\n      <td>0.167</td>\n      <td>-0.023</td>\n      <td>0.065</td>\n      <td>0.040</td>\n      <td>0.057</td>\n      <td>-0.010</td>\n      <td>0.090</td>\n      <td>0.013</td>\n      <td>0.027</td>\n    </tr>\n  </tbody>\n</table>\n</div>"
     },
     "metadata": {},
     "execution_count": 13
    }
   ],
   "source": [
    "pca_topic_vectors.round(3).head(6)"
   ]
  },
  {
   "cell_type": "code",
   "execution_count": 14,
   "metadata": {},
   "outputs": [],
   "source": [
    "tfidf.vocabulary_\n",
    "colums_nums,terms=zip(*sorted(zip(tfidf.vocabulary_.values(),tfidf.vocabulary_.keys())))"
   ]
  },
  {
   "cell_type": "code",
   "execution_count": 15,
   "metadata": {},
   "outputs": [
    {
     "output_type": "execute_result",
     "data": {
      "text/plain": [
       "            !      \"      #   #150  ...      …      ┾    〨ud      鈥\n",
       "topic0 -0.071  0.008 -0.001 -0.000  ... -0.002  0.001  0.001  0.001\n",
       "topic1  0.064  0.008  0.000 -0.000  ...  0.003  0.001  0.001  0.001\n",
       "topic2  0.071  0.027  0.000  0.001  ...  0.002 -0.001 -0.001 -0.001\n",
       "topic3 -0.059 -0.032 -0.001 -0.000  ...  0.001  0.000  0.000  0.000\n",
       "\n",
       "[4 rows x 9232 columns]"
      ],
      "text/html": "<div>\n<style scoped>\n    .dataframe tbody tr th:only-of-type {\n        vertical-align: middle;\n    }\n\n    .dataframe tbody tr th {\n        vertical-align: top;\n    }\n\n    .dataframe thead th {\n        text-align: right;\n    }\n</style>\n<table border=\"1\" class=\"dataframe\">\n  <thead>\n    <tr style=\"text-align: right;\">\n      <th></th>\n      <th>!</th>\n      <th>\"</th>\n      <th>#</th>\n      <th>#150</th>\n      <th>...</th>\n      <th>…</th>\n      <th>┾</th>\n      <th>〨ud</th>\n      <th>鈥</th>\n    </tr>\n  </thead>\n  <tbody>\n    <tr>\n      <th>topic0</th>\n      <td>-0.071</td>\n      <td>0.008</td>\n      <td>-0.001</td>\n      <td>-0.000</td>\n      <td>...</td>\n      <td>-0.002</td>\n      <td>0.001</td>\n      <td>0.001</td>\n      <td>0.001</td>\n    </tr>\n    <tr>\n      <th>topic1</th>\n      <td>0.064</td>\n      <td>0.008</td>\n      <td>0.000</td>\n      <td>-0.000</td>\n      <td>...</td>\n      <td>0.003</td>\n      <td>0.001</td>\n      <td>0.001</td>\n      <td>0.001</td>\n    </tr>\n    <tr>\n      <th>topic2</th>\n      <td>0.071</td>\n      <td>0.027</td>\n      <td>0.000</td>\n      <td>0.001</td>\n      <td>...</td>\n      <td>0.002</td>\n      <td>-0.001</td>\n      <td>-0.001</td>\n      <td>-0.001</td>\n    </tr>\n    <tr>\n      <th>topic3</th>\n      <td>-0.059</td>\n      <td>-0.032</td>\n      <td>-0.001</td>\n      <td>-0.000</td>\n      <td>...</td>\n      <td>0.001</td>\n      <td>0.000</td>\n      <td>0.000</td>\n      <td>0.000</td>\n    </tr>\n  </tbody>\n</table>\n<p>4 rows × 9232 columns</p>\n</div>"
     },
     "metadata": {},
     "execution_count": 15
    }
   ],
   "source": [
    "weight=pd.DataFrame(pca.components_,columns=terms,index=['topic{}'.format(i) for i in range(16)])\n",
    "pd.options.display.max_columns=8\n",
    "weight.head(4).round(3)"
   ]
  },
  {
   "cell_type": "code",
   "execution_count": 16,
   "metadata": {},
   "outputs": [
    {
     "output_type": "execute_result",
     "data": {
      "text/plain": [
       "            !   ;)    :)  half  off  free  crazy  deal  only    $   80    %\n",
       "topic0   -7.1  0.1  -0.5  -0.0 -0.4  -2.0   -0.0  -0.1  -2.2  0.3 -0.0 -0.0\n",
       "topic1    6.4  0.0   7.4   0.1  0.4  -2.3   -0.2  -0.1  -3.8 -0.1 -0.0 -0.2\n",
       "topic2    7.1  0.2  -0.1   0.0  0.3   4.4    0.1  -0.1   0.7  0.0  0.0  0.1\n",
       "topic3   -5.9 -0.3  -7.0   0.2  0.3  -0.2    0.0   0.1  -2.3  0.1 -0.1 -0.3\n",
       "topic4   38.1 -0.1 -12.4  -0.1 -0.2   9.9    0.1  -0.2   3.0  0.3  0.1 -0.1\n",
       "topic5  -26.5  0.1  -1.5  -0.3 -0.7  -1.3   -0.6  -0.2  -1.8 -0.9  0.0  0.0\n",
       "topic6  -10.9 -0.5  19.9  -0.4 -0.9  -0.6   -0.2  -0.1  -1.4 -0.0 -0.0 -0.1\n",
       "topic7   16.1  0.1 -17.9   0.8  0.8  -2.9    0.0   0.1  -1.9 -0.3  0.0 -0.1\n",
       "topic8   34.3  0.1   5.3  -0.5 -0.5   0.1   -0.4  -0.4   3.1 -0.6 -0.0 -0.2\n",
       "topic9    7.5 -0.3  16.4   1.4 -0.9   6.4   -0.5  -0.4   3.2 -0.4 -0.0  0.0\n",
       "topic10 -32.0 -0.2 -10.6   0.1  0.0  12.6    0.1   0.0   0.5 -0.0 -0.0 -0.2\n",
       "topic11  20.8  0.4  30.2   0.5  1.4  -3.6    0.2   0.1   0.6 -0.4  0.0 -0.3\n",
       "topic12 -19.6 -0.3  43.8  -0.2  0.4  -1.3   -0.4   0.1   2.9  0.2 -0.0  0.2\n",
       "topic13  24.9 -0.2  17.9  -0.2  0.5   7.5    0.6   0.2  -3.5 -0.4  0.0 -0.3\n",
       "topic14  -0.5 -0.1  16.5  -0.0 -0.8   7.1    0.2  -0.1   3.5  0.0  0.0 -0.3\n",
       "topic15  -3.8 -0.6   2.8  -0.1 -1.3  -2.5   -0.6   0.5   2.9 -0.4  0.1 -0.1"
      ],
      "text/html": "<div>\n<style scoped>\n    .dataframe tbody tr th:only-of-type {\n        vertical-align: middle;\n    }\n\n    .dataframe tbody tr th {\n        vertical-align: top;\n    }\n\n    .dataframe thead th {\n        text-align: right;\n    }\n</style>\n<table border=\"1\" class=\"dataframe\">\n  <thead>\n    <tr style=\"text-align: right;\">\n      <th></th>\n      <th>!</th>\n      <th>;)</th>\n      <th>:)</th>\n      <th>half</th>\n      <th>off</th>\n      <th>free</th>\n      <th>crazy</th>\n      <th>deal</th>\n      <th>only</th>\n      <th>$</th>\n      <th>80</th>\n      <th>%</th>\n    </tr>\n  </thead>\n  <tbody>\n    <tr>\n      <th>topic0</th>\n      <td>-7.1</td>\n      <td>0.1</td>\n      <td>-0.5</td>\n      <td>-0.0</td>\n      <td>-0.4</td>\n      <td>-2.0</td>\n      <td>-0.0</td>\n      <td>-0.1</td>\n      <td>-2.2</td>\n      <td>0.3</td>\n      <td>-0.0</td>\n      <td>-0.0</td>\n    </tr>\n    <tr>\n      <th>topic1</th>\n      <td>6.4</td>\n      <td>0.0</td>\n      <td>7.4</td>\n      <td>0.1</td>\n      <td>0.4</td>\n      <td>-2.3</td>\n      <td>-0.2</td>\n      <td>-0.1</td>\n      <td>-3.8</td>\n      <td>-0.1</td>\n      <td>-0.0</td>\n      <td>-0.2</td>\n    </tr>\n    <tr>\n      <th>topic2</th>\n      <td>7.1</td>\n      <td>0.2</td>\n      <td>-0.1</td>\n      <td>0.0</td>\n      <td>0.3</td>\n      <td>4.4</td>\n      <td>0.1</td>\n      <td>-0.1</td>\n      <td>0.7</td>\n      <td>0.0</td>\n      <td>0.0</td>\n      <td>0.1</td>\n    </tr>\n    <tr>\n      <th>topic3</th>\n      <td>-5.9</td>\n      <td>-0.3</td>\n      <td>-7.0</td>\n      <td>0.2</td>\n      <td>0.3</td>\n      <td>-0.2</td>\n      <td>0.0</td>\n      <td>0.1</td>\n      <td>-2.3</td>\n      <td>0.1</td>\n      <td>-0.1</td>\n      <td>-0.3</td>\n    </tr>\n    <tr>\n      <th>topic4</th>\n      <td>38.1</td>\n      <td>-0.1</td>\n      <td>-12.4</td>\n      <td>-0.1</td>\n      <td>-0.2</td>\n      <td>9.9</td>\n      <td>0.1</td>\n      <td>-0.2</td>\n      <td>3.0</td>\n      <td>0.3</td>\n      <td>0.1</td>\n      <td>-0.1</td>\n    </tr>\n    <tr>\n      <th>topic5</th>\n      <td>-26.5</td>\n      <td>0.1</td>\n      <td>-1.5</td>\n      <td>-0.3</td>\n      <td>-0.7</td>\n      <td>-1.3</td>\n      <td>-0.6</td>\n      <td>-0.2</td>\n      <td>-1.8</td>\n      <td>-0.9</td>\n      <td>0.0</td>\n      <td>0.0</td>\n    </tr>\n    <tr>\n      <th>topic6</th>\n      <td>-10.9</td>\n      <td>-0.5</td>\n      <td>19.9</td>\n      <td>-0.4</td>\n      <td>-0.9</td>\n      <td>-0.6</td>\n      <td>-0.2</td>\n      <td>-0.1</td>\n      <td>-1.4</td>\n      <td>-0.0</td>\n      <td>-0.0</td>\n      <td>-0.1</td>\n    </tr>\n    <tr>\n      <th>topic7</th>\n      <td>16.1</td>\n      <td>0.1</td>\n      <td>-17.9</td>\n      <td>0.8</td>\n      <td>0.8</td>\n      <td>-2.9</td>\n      <td>0.0</td>\n      <td>0.1</td>\n      <td>-1.9</td>\n      <td>-0.3</td>\n      <td>0.0</td>\n      <td>-0.1</td>\n    </tr>\n    <tr>\n      <th>topic8</th>\n      <td>34.3</td>\n      <td>0.1</td>\n      <td>5.3</td>\n      <td>-0.5</td>\n      <td>-0.5</td>\n      <td>0.1</td>\n      <td>-0.4</td>\n      <td>-0.4</td>\n      <td>3.1</td>\n      <td>-0.6</td>\n      <td>-0.0</td>\n      <td>-0.2</td>\n    </tr>\n    <tr>\n      <th>topic9</th>\n      <td>7.5</td>\n      <td>-0.3</td>\n      <td>16.4</td>\n      <td>1.4</td>\n      <td>-0.9</td>\n      <td>6.4</td>\n      <td>-0.5</td>\n      <td>-0.4</td>\n      <td>3.2</td>\n      <td>-0.4</td>\n      <td>-0.0</td>\n      <td>0.0</td>\n    </tr>\n    <tr>\n      <th>topic10</th>\n      <td>-32.0</td>\n      <td>-0.2</td>\n      <td>-10.6</td>\n      <td>0.1</td>\n      <td>0.0</td>\n      <td>12.6</td>\n      <td>0.1</td>\n      <td>0.0</td>\n      <td>0.5</td>\n      <td>-0.0</td>\n      <td>-0.0</td>\n      <td>-0.2</td>\n    </tr>\n    <tr>\n      <th>topic11</th>\n      <td>20.8</td>\n      <td>0.4</td>\n      <td>30.2</td>\n      <td>0.5</td>\n      <td>1.4</td>\n      <td>-3.6</td>\n      <td>0.2</td>\n      <td>0.1</td>\n      <td>0.6</td>\n      <td>-0.4</td>\n      <td>0.0</td>\n      <td>-0.3</td>\n    </tr>\n    <tr>\n      <th>topic12</th>\n      <td>-19.6</td>\n      <td>-0.3</td>\n      <td>43.8</td>\n      <td>-0.2</td>\n      <td>0.4</td>\n      <td>-1.3</td>\n      <td>-0.4</td>\n      <td>0.1</td>\n      <td>2.9</td>\n      <td>0.2</td>\n      <td>-0.0</td>\n      <td>0.2</td>\n    </tr>\n    <tr>\n      <th>topic13</th>\n      <td>24.9</td>\n      <td>-0.2</td>\n      <td>17.9</td>\n      <td>-0.2</td>\n      <td>0.5</td>\n      <td>7.5</td>\n      <td>0.6</td>\n      <td>0.2</td>\n      <td>-3.5</td>\n      <td>-0.4</td>\n      <td>0.0</td>\n      <td>-0.3</td>\n    </tr>\n    <tr>\n      <th>topic14</th>\n      <td>-0.5</td>\n      <td>-0.1</td>\n      <td>16.5</td>\n      <td>-0.0</td>\n      <td>-0.8</td>\n      <td>7.1</td>\n      <td>0.2</td>\n      <td>-0.1</td>\n      <td>3.5</td>\n      <td>0.0</td>\n      <td>0.0</td>\n      <td>-0.3</td>\n    </tr>\n    <tr>\n      <th>topic15</th>\n      <td>-3.8</td>\n      <td>-0.6</td>\n      <td>2.8</td>\n      <td>-0.1</td>\n      <td>-1.3</td>\n      <td>-2.5</td>\n      <td>-0.6</td>\n      <td>0.5</td>\n      <td>2.9</td>\n      <td>-0.4</td>\n      <td>0.1</td>\n      <td>-0.1</td>\n    </tr>\n  </tbody>\n</table>\n</div>"
     },
     "metadata": {},
     "execution_count": 16
    }
   ],
   "source": [
    "pd.options.display.max_columns=12\n",
    "deals=weight['! ;) :) half off free crazy deal only $ 80 %'.split()].round(3)*100\n",
    "deals"
   ]
  },
  {
   "cell_type": "code",
   "execution_count": 17,
   "metadata": {},
   "outputs": [
    {
     "output_type": "execute_result",
     "data": {
      "text/plain": [
       "topic0    -11.9\n",
       "topic1      7.6\n",
       "topic2     12.7\n",
       "topic3    -15.4\n",
       "topic4     38.4\n",
       "topic5    -33.7\n",
       "topic6      4.8\n",
       "topic7     -5.2\n",
       "topic8     40.3\n",
       "topic9     32.4\n",
       "topic10   -29.7\n",
       "topic11    49.9\n",
       "topic12    25.8\n",
       "topic13    47.0\n",
       "topic14    25.5\n",
       "topic15    -3.1\n",
       "dtype: float64"
      ]
     },
     "metadata": {},
     "execution_count": 17
    }
   ],
   "source": [
    "deals.T.sum()"
   ]
  },
  {
   "cell_type": "code",
   "execution_count": 18,
   "metadata": {},
   "outputs": [],
   "source": [
    "from sklearn.decomposition import TruncatedSVD\n",
    "svd=TruncatedSVD(n_components=16,n_iter=100)\n",
    "svd_topic_vectors=svd.fit_transform(tfidf_docs.values)"
   ]
  },
  {
   "cell_type": "code",
   "execution_count": 19,
   "metadata": {},
   "outputs": [
    {
     "output_type": "execute_result",
     "data": {
      "text/plain": [
       "(4837, 16)"
      ]
     },
     "metadata": {},
     "execution_count": 19
    }
   ],
   "source": [
    "svd_topic_vectors.shape"
   ]
  },
  {
   "cell_type": "code",
   "execution_count": 20,
   "metadata": {},
   "outputs": [],
   "source": [
    "svd_topic_vectors=pd.DataFrame(svd_topic_vectors,columns=colums,index=index)"
   ]
  },
  {
   "cell_type": "code",
   "execution_count": 21,
   "metadata": {},
   "outputs": [
    {
     "output_type": "execute_result",
     "data": {
      "text/plain": [
       "       topic0  topic1  topic2  topic3  topic4  topic5  ...  topic10  topic11  topic12  topic13  topic14  topic15\n",
       "sms0    0.201   0.003   0.037   0.011  -0.019  -0.053  ...    0.007   -0.007    0.002   -0.036   -0.014    0.037\n",
       "sms1    0.404  -0.094  -0.078   0.051   0.100   0.047  ...   -0.004    0.036    0.043   -0.021    0.051   -0.042\n",
       "sms2!  -0.030  -0.048   0.090  -0.067   0.091  -0.043  ...    0.125    0.023    0.026   -0.020   -0.042    0.052\n",
       "sms3    0.329  -0.033  -0.035  -0.016   0.052   0.056  ...    0.022    0.023    0.073   -0.046    0.022   -0.070\n",
       "sms4    0.002   0.031   0.038   0.034  -0.075  -0.093  ...    0.028   -0.009    0.027    0.034   -0.083   -0.021\n",
       "\n",
       "[5 rows x 16 columns]"
      ],
      "text/html": "<div>\n<style scoped>\n    .dataframe tbody tr th:only-of-type {\n        vertical-align: middle;\n    }\n\n    .dataframe tbody tr th {\n        vertical-align: top;\n    }\n\n    .dataframe thead th {\n        text-align: right;\n    }\n</style>\n<table border=\"1\" class=\"dataframe\">\n  <thead>\n    <tr style=\"text-align: right;\">\n      <th></th>\n      <th>topic0</th>\n      <th>topic1</th>\n      <th>topic2</th>\n      <th>topic3</th>\n      <th>topic4</th>\n      <th>topic5</th>\n      <th>...</th>\n      <th>topic10</th>\n      <th>topic11</th>\n      <th>topic12</th>\n      <th>topic13</th>\n      <th>topic14</th>\n      <th>topic15</th>\n    </tr>\n  </thead>\n  <tbody>\n    <tr>\n      <th>sms0</th>\n      <td>0.201</td>\n      <td>0.003</td>\n      <td>0.037</td>\n      <td>0.011</td>\n      <td>-0.019</td>\n      <td>-0.053</td>\n      <td>...</td>\n      <td>0.007</td>\n      <td>-0.007</td>\n      <td>0.002</td>\n      <td>-0.036</td>\n      <td>-0.014</td>\n      <td>0.037</td>\n    </tr>\n    <tr>\n      <th>sms1</th>\n      <td>0.404</td>\n      <td>-0.094</td>\n      <td>-0.078</td>\n      <td>0.051</td>\n      <td>0.100</td>\n      <td>0.047</td>\n      <td>...</td>\n      <td>-0.004</td>\n      <td>0.036</td>\n      <td>0.043</td>\n      <td>-0.021</td>\n      <td>0.051</td>\n      <td>-0.042</td>\n    </tr>\n    <tr>\n      <th>sms2!</th>\n      <td>-0.030</td>\n      <td>-0.048</td>\n      <td>0.090</td>\n      <td>-0.067</td>\n      <td>0.091</td>\n      <td>-0.043</td>\n      <td>...</td>\n      <td>0.125</td>\n      <td>0.023</td>\n      <td>0.026</td>\n      <td>-0.020</td>\n      <td>-0.042</td>\n      <td>0.052</td>\n    </tr>\n    <tr>\n      <th>sms3</th>\n      <td>0.329</td>\n      <td>-0.033</td>\n      <td>-0.035</td>\n      <td>-0.016</td>\n      <td>0.052</td>\n      <td>0.056</td>\n      <td>...</td>\n      <td>0.022</td>\n      <td>0.023</td>\n      <td>0.073</td>\n      <td>-0.046</td>\n      <td>0.022</td>\n      <td>-0.070</td>\n    </tr>\n    <tr>\n      <th>sms4</th>\n      <td>0.002</td>\n      <td>0.031</td>\n      <td>0.038</td>\n      <td>0.034</td>\n      <td>-0.075</td>\n      <td>-0.093</td>\n      <td>...</td>\n      <td>0.028</td>\n      <td>-0.009</td>\n      <td>0.027</td>\n      <td>0.034</td>\n      <td>-0.083</td>\n      <td>-0.021</td>\n    </tr>\n  </tbody>\n</table>\n<p>5 rows × 16 columns</p>\n</div>"
     },
     "metadata": {},
     "execution_count": 21
    }
   ],
   "source": [
    "svd_topic_vectors.round(3).head(5)"
   ]
  },
  {
   "cell_type": "code",
   "execution_count": 22,
   "metadata": {},
   "outputs": [
    {
     "output_type": "execute_result",
     "data": {
      "text/plain": [
       "topic0    -9.592327e-14\n",
       "topic1    -1.780798e-13\n",
       "topic2    -1.030287e-13\n",
       "topic3    -7.238654e-14\n",
       "topic4     1.679767e-13\n",
       "topic5     2.393641e-13\n",
       "topic6     5.861978e-14\n",
       "topic7    -1.099121e-13\n",
       "topic8     1.176836e-14\n",
       "topic9    -3.086420e-13\n",
       "topic10    2.220446e-15\n",
       "topic11    3.952394e-14\n",
       "topic12    7.627232e-14\n",
       "topic13    7.527312e-14\n",
       "topic14    3.241851e-14\n",
       "topic15   -7.549517e-14\n",
       "dtype: float64"
      ]
     },
     "metadata": {},
     "execution_count": 22
    }
   ],
   "source": [
    "svd_topic_vectors.T.sum(axis=1)"
   ]
  },
  {
   "cell_type": "code",
   "execution_count": 23,
   "metadata": {},
   "outputs": [
    {
     "output_type": "execute_result",
     "data": {
      "text/plain": [
       "array([0.24673077, 0.45489254, 0.23184245, ..., 0.19987923, 0.19586677,\n",
       "       0.15022858])"
      ]
     },
     "metadata": {},
     "execution_count": 23
    }
   ],
   "source": [
    "import numpy as np\n",
    "np.linalg.norm(svd_topic_vectors,axis=1)"
   ]
  },
  {
   "cell_type": "code",
   "execution_count": 24,
   "metadata": {},
   "outputs": [],
   "source": [
    "import numpy as np\n",
    "svd_topic_vectors=(svd_topic_vectors.T/np.linalg.norm(svd_topic_vectors,axis=1)).T"
   ]
  },
  {
   "cell_type": "code",
   "execution_count": 25,
   "metadata": {},
   "outputs": [
    {
     "output_type": "execute_result",
     "data": {
      "text/plain": [
       "         topic0    topic1    topic2    topic3    topic4    topic5  ...   topic10   topic11   topic12   topic13  \\\n",
       "sms0   0.815339  0.011229  0.150911  0.044478 -0.077920 -0.214706  ...  0.030397 -0.029076  0.010069 -0.144022   \n",
       "sms1   0.888956 -0.206368 -0.170397  0.111870  0.219957  0.103543  ... -0.009661  0.078080  0.095108 -0.045777   \n",
       "sms2! -0.131376 -0.207488  0.389017 -0.289237  0.391411 -0.186100  ...  0.541174  0.100243  0.110209 -0.087526   \n",
       "sms3   0.778228 -0.077499 -0.081756 -0.037400  0.123524  0.131796  ...  0.051789  0.054281  0.171660 -0.108844   \n",
       "sms4   0.011327  0.161933  0.201076  0.177766 -0.391843 -0.485564  ...  0.147053 -0.045737  0.140988  0.177142   \n",
       "sms5! -0.062710  0.229681  0.055002 -0.023813  0.479835 -0.157510  ...  0.160236  0.214765 -0.143838  0.295326   \n",
       "\n",
       "        topic14   topic15  \n",
       "sms0  -0.055770  0.149626  \n",
       "sms1   0.111280 -0.092359  \n",
       "sms2! -0.183288  0.225754  \n",
       "sms3   0.052625 -0.164697  \n",
       "sms4  -0.438170 -0.107920  \n",
       "sms5! -0.002431  0.078353  \n",
       "\n",
       "[6 rows x 16 columns]"
      ],
      "text/html": "<div>\n<style scoped>\n    .dataframe tbody tr th:only-of-type {\n        vertical-align: middle;\n    }\n\n    .dataframe tbody tr th {\n        vertical-align: top;\n    }\n\n    .dataframe thead th {\n        text-align: right;\n    }\n</style>\n<table border=\"1\" class=\"dataframe\">\n  <thead>\n    <tr style=\"text-align: right;\">\n      <th></th>\n      <th>topic0</th>\n      <th>topic1</th>\n      <th>topic2</th>\n      <th>topic3</th>\n      <th>topic4</th>\n      <th>topic5</th>\n      <th>...</th>\n      <th>topic10</th>\n      <th>topic11</th>\n      <th>topic12</th>\n      <th>topic13</th>\n      <th>topic14</th>\n      <th>topic15</th>\n    </tr>\n  </thead>\n  <tbody>\n    <tr>\n      <th>sms0</th>\n      <td>0.815339</td>\n      <td>0.011229</td>\n      <td>0.150911</td>\n      <td>0.044478</td>\n      <td>-0.077920</td>\n      <td>-0.214706</td>\n      <td>...</td>\n      <td>0.030397</td>\n      <td>-0.029076</td>\n      <td>0.010069</td>\n      <td>-0.144022</td>\n      <td>-0.055770</td>\n      <td>0.149626</td>\n    </tr>\n    <tr>\n      <th>sms1</th>\n      <td>0.888956</td>\n      <td>-0.206368</td>\n      <td>-0.170397</td>\n      <td>0.111870</td>\n      <td>0.219957</td>\n      <td>0.103543</td>\n      <td>...</td>\n      <td>-0.009661</td>\n      <td>0.078080</td>\n      <td>0.095108</td>\n      <td>-0.045777</td>\n      <td>0.111280</td>\n      <td>-0.092359</td>\n    </tr>\n    <tr>\n      <th>sms2!</th>\n      <td>-0.131376</td>\n      <td>-0.207488</td>\n      <td>0.389017</td>\n      <td>-0.289237</td>\n      <td>0.391411</td>\n      <td>-0.186100</td>\n      <td>...</td>\n      <td>0.541174</td>\n      <td>0.100243</td>\n      <td>0.110209</td>\n      <td>-0.087526</td>\n      <td>-0.183288</td>\n      <td>0.225754</td>\n    </tr>\n    <tr>\n      <th>sms3</th>\n      <td>0.778228</td>\n      <td>-0.077499</td>\n      <td>-0.081756</td>\n      <td>-0.037400</td>\n      <td>0.123524</td>\n      <td>0.131796</td>\n      <td>...</td>\n      <td>0.051789</td>\n      <td>0.054281</td>\n      <td>0.171660</td>\n      <td>-0.108844</td>\n      <td>0.052625</td>\n      <td>-0.164697</td>\n    </tr>\n    <tr>\n      <th>sms4</th>\n      <td>0.011327</td>\n      <td>0.161933</td>\n      <td>0.201076</td>\n      <td>0.177766</td>\n      <td>-0.391843</td>\n      <td>-0.485564</td>\n      <td>...</td>\n      <td>0.147053</td>\n      <td>-0.045737</td>\n      <td>0.140988</td>\n      <td>0.177142</td>\n      <td>-0.438170</td>\n      <td>-0.107920</td>\n    </tr>\n    <tr>\n      <th>sms5!</th>\n      <td>-0.062710</td>\n      <td>0.229681</td>\n      <td>0.055002</td>\n      <td>-0.023813</td>\n      <td>0.479835</td>\n      <td>-0.157510</td>\n      <td>...</td>\n      <td>0.160236</td>\n      <td>0.214765</td>\n      <td>-0.143838</td>\n      <td>0.295326</td>\n      <td>-0.002431</td>\n      <td>0.078353</td>\n    </tr>\n  </tbody>\n</table>\n<p>6 rows × 16 columns</p>\n</div>"
     },
     "metadata": {},
     "execution_count": 25
    }
   ],
   "source": [
    "svd_topic_vectors.head(6)"
   ]
  },
  {
   "cell_type": "code",
   "execution_count": 26,
   "metadata": {},
   "outputs": [
    {
     "output_type": "execute_result",
     "data": {
      "text/plain": [
       "       sms0  sms1  sms2!  sms3  sms4  sms5!  sms6  sms7  sms8!  sms9!\n",
       "sms0    1.0   0.6   -0.1   0.6  -0.0   -0.3  -0.3  -0.1   -0.3   -0.3\n",
       "sms1    0.6   1.0   -0.2   0.8  -0.2    0.0  -0.2  -0.2   -0.1   -0.1\n",
       "sms2!  -0.1  -0.2    1.0  -0.2   0.1    0.4   0.0   0.3    0.5    0.4\n",
       "sms3    0.6   0.8   -0.2   1.0  -0.2   -0.3  -0.1  -0.3   -0.2   -0.1\n",
       "sms4   -0.0  -0.2    0.1  -0.2   1.0    0.2   0.0   0.1   -0.4   -0.2\n",
       "sms5!  -0.3   0.0    0.4  -0.3   0.2    1.0  -0.1   0.1    0.3    0.4\n",
       "sms6   -0.3  -0.2    0.0  -0.1   0.0   -0.1   1.0   0.1   -0.2   -0.2\n",
       "sms7   -0.1  -0.2    0.3  -0.3   0.1    0.1   0.1   1.0    0.1    0.4\n",
       "sms8!  -0.3  -0.1    0.5  -0.2  -0.4    0.3  -0.2   0.1    1.0    0.3\n",
       "sms9!  -0.3  -0.1    0.4  -0.1  -0.2    0.4  -0.2   0.4    0.3    1.0"
      ],
      "text/html": "<div>\n<style scoped>\n    .dataframe tbody tr th:only-of-type {\n        vertical-align: middle;\n    }\n\n    .dataframe tbody tr th {\n        vertical-align: top;\n    }\n\n    .dataframe thead th {\n        text-align: right;\n    }\n</style>\n<table border=\"1\" class=\"dataframe\">\n  <thead>\n    <tr style=\"text-align: right;\">\n      <th></th>\n      <th>sms0</th>\n      <th>sms1</th>\n      <th>sms2!</th>\n      <th>sms3</th>\n      <th>sms4</th>\n      <th>sms5!</th>\n      <th>sms6</th>\n      <th>sms7</th>\n      <th>sms8!</th>\n      <th>sms9!</th>\n    </tr>\n  </thead>\n  <tbody>\n    <tr>\n      <th>sms0</th>\n      <td>1.0</td>\n      <td>0.6</td>\n      <td>-0.1</td>\n      <td>0.6</td>\n      <td>-0.0</td>\n      <td>-0.3</td>\n      <td>-0.3</td>\n      <td>-0.1</td>\n      <td>-0.3</td>\n      <td>-0.3</td>\n    </tr>\n    <tr>\n      <th>sms1</th>\n      <td>0.6</td>\n      <td>1.0</td>\n      <td>-0.2</td>\n      <td>0.8</td>\n      <td>-0.2</td>\n      <td>0.0</td>\n      <td>-0.2</td>\n      <td>-0.2</td>\n      <td>-0.1</td>\n      <td>-0.1</td>\n    </tr>\n    <tr>\n      <th>sms2!</th>\n      <td>-0.1</td>\n      <td>-0.2</td>\n      <td>1.0</td>\n      <td>-0.2</td>\n      <td>0.1</td>\n      <td>0.4</td>\n      <td>0.0</td>\n      <td>0.3</td>\n      <td>0.5</td>\n      <td>0.4</td>\n    </tr>\n    <tr>\n      <th>sms3</th>\n      <td>0.6</td>\n      <td>0.8</td>\n      <td>-0.2</td>\n      <td>1.0</td>\n      <td>-0.2</td>\n      <td>-0.3</td>\n      <td>-0.1</td>\n      <td>-0.3</td>\n      <td>-0.2</td>\n      <td>-0.1</td>\n    </tr>\n    <tr>\n      <th>sms4</th>\n      <td>-0.0</td>\n      <td>-0.2</td>\n      <td>0.1</td>\n      <td>-0.2</td>\n      <td>1.0</td>\n      <td>0.2</td>\n      <td>0.0</td>\n      <td>0.1</td>\n      <td>-0.4</td>\n      <td>-0.2</td>\n    </tr>\n    <tr>\n      <th>sms5!</th>\n      <td>-0.3</td>\n      <td>0.0</td>\n      <td>0.4</td>\n      <td>-0.3</td>\n      <td>0.2</td>\n      <td>1.0</td>\n      <td>-0.1</td>\n      <td>0.1</td>\n      <td>0.3</td>\n      <td>0.4</td>\n    </tr>\n    <tr>\n      <th>sms6</th>\n      <td>-0.3</td>\n      <td>-0.2</td>\n      <td>0.0</td>\n      <td>-0.1</td>\n      <td>0.0</td>\n      <td>-0.1</td>\n      <td>1.0</td>\n      <td>0.1</td>\n      <td>-0.2</td>\n      <td>-0.2</td>\n    </tr>\n    <tr>\n      <th>sms7</th>\n      <td>-0.1</td>\n      <td>-0.2</td>\n      <td>0.3</td>\n      <td>-0.3</td>\n      <td>0.1</td>\n      <td>0.1</td>\n      <td>0.1</td>\n      <td>1.0</td>\n      <td>0.1</td>\n      <td>0.4</td>\n    </tr>\n    <tr>\n      <th>sms8!</th>\n      <td>-0.3</td>\n      <td>-0.1</td>\n      <td>0.5</td>\n      <td>-0.2</td>\n      <td>-0.4</td>\n      <td>0.3</td>\n      <td>-0.2</td>\n      <td>0.1</td>\n      <td>1.0</td>\n      <td>0.3</td>\n    </tr>\n    <tr>\n      <th>sms9!</th>\n      <td>-0.3</td>\n      <td>-0.1</td>\n      <td>0.4</td>\n      <td>-0.1</td>\n      <td>-0.2</td>\n      <td>0.4</td>\n      <td>-0.2</td>\n      <td>0.4</td>\n      <td>0.3</td>\n      <td>1.0</td>\n    </tr>\n  </tbody>\n</table>\n</div>"
     },
     "metadata": {},
     "execution_count": 26
    }
   ],
   "source": [
    "svd_topic_vectors.iloc[:10].dot(svd_topic_vectors.iloc[:10].T).round(1)"
   ]
  },
  {
   "cell_type": "code",
   "execution_count": 27,
   "metadata": {},
   "outputs": [],
   "source": [
    "from sklearn.feature_extraction.text import CountVectorizer\n",
    "from nltk.tokenize import casual_tokenize\n",
    "np.random.seed(42)\n",
    "counter=CountVectorizer(tokenizer=casual_tokenize)\n",
    "bow_docs=pd.DataFrame(counter.fit_transform(raw_documents=sms.text).toarray(),index=index)"
   ]
  },
  {
   "cell_type": "code",
   "execution_count": 28,
   "metadata": {},
   "outputs": [],
   "source": [
    "colums_nums,terms=zip(*sorted(zip(counter.vocabulary_.values(),counter.vocabulary_.keys())))\n",
    "bow_docs.columns=terms"
   ]
  },
  {
   "cell_type": "code",
   "execution_count": 29,
   "metadata": {},
   "outputs": [
    {
     "output_type": "execute_result",
     "data": {
      "text/plain": [
       "9232"
      ]
     },
     "metadata": {},
     "execution_count": 29
    }
   ],
   "source": [
    "len(terms)"
   ]
  },
  {
   "cell_type": "code",
   "execution_count": 30,
   "metadata": {},
   "outputs": [
    {
     "output_type": "stream",
     "name": "stdout",
     "text": [
      "Go\nuntil\njurong\npoint,\ncrazy..\nAvailable\nonly\nin\nbugis\nn\ngreat\nworld\nla\ne\nbuffet...\nCine\nthere\ngot\namore\nwat...\n"
     ]
    }
   ],
   "source": [
    "for item in sms.loc['sms0'].text.split():\n",
    "    print(item)"
   ]
  },
  {
   "cell_type": "code",
   "execution_count": 31,
   "metadata": {},
   "outputs": [
    {
     "output_type": "execute_result",
     "data": {
      "text/plain": [
       "       !  \"  #  #150  #5000  $  ...  ’  “  …  ┾  〨ud  鈥\n",
       "sms0   0  0  0     0      0  0  ...  0  0  0  0    0  0\n",
       "sms1   0  0  0     0      0  0  ...  0  0  0  0    0  0\n",
       "sms2!  0  0  0     0      0  0  ...  0  0  0  0    0  0\n",
       "sms3   0  0  0     0      0  0  ...  0  0  0  0    0  0\n",
       "sms4   0  0  0     0      0  0  ...  0  0  0  0    0  0\n",
       "\n",
       "[5 rows x 9232 columns]"
      ],
      "text/html": "<div>\n<style scoped>\n    .dataframe tbody tr th:only-of-type {\n        vertical-align: middle;\n    }\n\n    .dataframe tbody tr th {\n        vertical-align: top;\n    }\n\n    .dataframe thead th {\n        text-align: right;\n    }\n</style>\n<table border=\"1\" class=\"dataframe\">\n  <thead>\n    <tr style=\"text-align: right;\">\n      <th></th>\n      <th>!</th>\n      <th>\"</th>\n      <th>#</th>\n      <th>#150</th>\n      <th>#5000</th>\n      <th>$</th>\n      <th>...</th>\n      <th>’</th>\n      <th>“</th>\n      <th>…</th>\n      <th>┾</th>\n      <th>〨ud</th>\n      <th>鈥</th>\n    </tr>\n  </thead>\n  <tbody>\n    <tr>\n      <th>sms0</th>\n      <td>0</td>\n      <td>0</td>\n      <td>0</td>\n      <td>0</td>\n      <td>0</td>\n      <td>0</td>\n      <td>...</td>\n      <td>0</td>\n      <td>0</td>\n      <td>0</td>\n      <td>0</td>\n      <td>0</td>\n      <td>0</td>\n    </tr>\n    <tr>\n      <th>sms1</th>\n      <td>0</td>\n      <td>0</td>\n      <td>0</td>\n      <td>0</td>\n      <td>0</td>\n      <td>0</td>\n      <td>...</td>\n      <td>0</td>\n      <td>0</td>\n      <td>0</td>\n      <td>0</td>\n      <td>0</td>\n      <td>0</td>\n    </tr>\n    <tr>\n      <th>sms2!</th>\n      <td>0</td>\n      <td>0</td>\n      <td>0</td>\n      <td>0</td>\n      <td>0</td>\n      <td>0</td>\n      <td>...</td>\n      <td>0</td>\n      <td>0</td>\n      <td>0</td>\n      <td>0</td>\n      <td>0</td>\n      <td>0</td>\n    </tr>\n    <tr>\n      <th>sms3</th>\n      <td>0</td>\n      <td>0</td>\n      <td>0</td>\n      <td>0</td>\n      <td>0</td>\n      <td>0</td>\n      <td>...</td>\n      <td>0</td>\n      <td>0</td>\n      <td>0</td>\n      <td>0</td>\n      <td>0</td>\n      <td>0</td>\n    </tr>\n    <tr>\n      <th>sms4</th>\n      <td>0</td>\n      <td>0</td>\n      <td>0</td>\n      <td>0</td>\n      <td>0</td>\n      <td>0</td>\n      <td>...</td>\n      <td>0</td>\n      <td>0</td>\n      <td>0</td>\n      <td>0</td>\n      <td>0</td>\n      <td>0</td>\n    </tr>\n  </tbody>\n</table>\n<p>5 rows × 9232 columns</p>\n</div>"
     },
     "metadata": {},
     "execution_count": 31
    }
   ],
   "source": [
    "bow_docs.head(5)"
   ]
  },
  {
   "cell_type": "code",
   "execution_count": 32,
   "metadata": {},
   "outputs": [
    {
     "output_type": "execute_result",
     "data": {
      "text/plain": [
       ",            1\n",
       "..           1\n",
       "...          2\n",
       "amore        1\n",
       "available    1\n",
       "Name: sms0, dtype: int64"
      ]
     },
     "metadata": {},
     "execution_count": 32
    }
   ],
   "source": [
    "bow_docs.loc['sms0'][bow_docs.loc['sms0']>0].head()"
   ]
  },
  {
   "cell_type": "code",
   "execution_count": 33,
   "metadata": {},
   "outputs": [
    {
     "output_type": "execute_result",
     "data": {
      "text/plain": [
       "(16, 9232)"
      ]
     },
     "metadata": {},
     "execution_count": 33
    }
   ],
   "source": [
    "from sklearn.decomposition import LatentDirichletAllocation as LDiA\n",
    "ldia=LDiA(n_components=16,learning_method='batch')\n",
    "ldia=ldia.fit(bow_docs)\n",
    "ldia.components_.shape"
   ]
  },
  {
   "cell_type": "code",
   "execution_count": 34,
   "metadata": {},
   "outputs": [],
   "source": [
    "pd.set_option('display.width',75)\n",
    "components=pd.DataFrame(ldia.components_.T,index=terms,columns=colums)"
   ]
  },
  {
   "cell_type": "code",
   "execution_count": 35,
   "metadata": {},
   "outputs": [
    {
     "output_type": "execute_result",
     "data": {
      "text/plain": [
       "    topic0  topic1  topic2   topic3   topic4  topic5  ...  topic10  \\\n",
       "!  184.034  15.001  72.224  394.952   45.481  36.135  ...   37.424   \n",
       "\"    0.681   4.222   2.413    0.063  152.351   0.063  ...    8.421   \n",
       "#    0.063   0.063   0.063    0.063    0.063   2.065  ...    0.063   \n",
       "\n",
       "   topic11  topic12  topic13  topic14  topic15  \n",
       "!   44.181   64.397  297.295   41.161   11.703  \n",
       "\"   11.419    0.065   62.717   12.269    0.063  \n",
       "#    0.063    1.068    4.055    0.063    0.063  \n",
       "\n",
       "[3 rows x 16 columns]"
      ],
      "text/html": "<div>\n<style scoped>\n    .dataframe tbody tr th:only-of-type {\n        vertical-align: middle;\n    }\n\n    .dataframe tbody tr th {\n        vertical-align: top;\n    }\n\n    .dataframe thead th {\n        text-align: right;\n    }\n</style>\n<table border=\"1\" class=\"dataframe\">\n  <thead>\n    <tr style=\"text-align: right;\">\n      <th></th>\n      <th>topic0</th>\n      <th>topic1</th>\n      <th>topic2</th>\n      <th>topic3</th>\n      <th>topic4</th>\n      <th>topic5</th>\n      <th>...</th>\n      <th>topic10</th>\n      <th>topic11</th>\n      <th>topic12</th>\n      <th>topic13</th>\n      <th>topic14</th>\n      <th>topic15</th>\n    </tr>\n  </thead>\n  <tbody>\n    <tr>\n      <th>!</th>\n      <td>184.034</td>\n      <td>15.001</td>\n      <td>72.224</td>\n      <td>394.952</td>\n      <td>45.481</td>\n      <td>36.135</td>\n      <td>...</td>\n      <td>37.424</td>\n      <td>44.181</td>\n      <td>64.397</td>\n      <td>297.295</td>\n      <td>41.161</td>\n      <td>11.703</td>\n    </tr>\n    <tr>\n      <th>\"</th>\n      <td>0.681</td>\n      <td>4.222</td>\n      <td>2.413</td>\n      <td>0.063</td>\n      <td>152.351</td>\n      <td>0.063</td>\n      <td>...</td>\n      <td>8.421</td>\n      <td>11.419</td>\n      <td>0.065</td>\n      <td>62.717</td>\n      <td>12.269</td>\n      <td>0.063</td>\n    </tr>\n    <tr>\n      <th>#</th>\n      <td>0.063</td>\n      <td>0.063</td>\n      <td>0.063</td>\n      <td>0.063</td>\n      <td>0.063</td>\n      <td>2.065</td>\n      <td>...</td>\n      <td>0.063</td>\n      <td>0.063</td>\n      <td>1.068</td>\n      <td>4.055</td>\n      <td>0.063</td>\n      <td>0.063</td>\n    </tr>\n  </tbody>\n</table>\n<p>3 rows × 16 columns</p>\n</div>"
     },
     "metadata": {},
     "execution_count": 35
    }
   ],
   "source": [
    "components.round(3).head(3)"
   ]
  },
  {
   "cell_type": "code",
   "execution_count": 36,
   "metadata": {},
   "outputs": [
    {
     "output_type": "execute_result",
     "data": {
      "text/plain": [
       "!       394.952246\n",
       ".       218.049724\n",
       "to      119.533134\n",
       "u       118.857546\n",
       "call    111.948541\n",
       "£       107.358914\n",
       ",        96.954384\n",
       "*        90.314783\n",
       "your     90.215961\n",
       "is       75.750037\n",
       "Name: topic3, dtype: float64"
      ]
     },
     "metadata": {},
     "execution_count": 36
    }
   ],
   "source": [
    "components.topic3.sort_values(ascending=False)[:10]"
   ]
  },
  {
   "cell_type": "code",
   "execution_count": 37,
   "metadata": {},
   "outputs": [],
   "source": [
    "ldia16_topic_vector=ldia.transform(bow_docs)\n",
    "ldia16_topic_vector=pd.DataFrame(ldia16_topic_vector,index=index,columns=colums)"
   ]
  },
  {
   "cell_type": "code",
   "execution_count": 38,
   "metadata": {},
   "outputs": [
    {
     "output_type": "execute_result",
     "data": {
      "text/plain": [
       "       topic0  topic1  topic2  topic3  topic4  topic5  ...  topic10  \\\n",
       "sms0     0.00    0.62    0.00    0.00    0.00    0.00  ...     0.00   \n",
       "sms1     0.01    0.01    0.01    0.01    0.01    0.01  ...     0.01   \n",
       "sms2!    0.00    0.00    0.00    0.00    0.00    0.00  ...     0.00   \n",
       "sms3     0.00    0.00    0.00    0.00    0.09    0.00  ...     0.00   \n",
       "sms4     0.39    0.00    0.33    0.00    0.00    0.00  ...     0.00   \n",
       "\n",
       "       topic11  topic12  topic13  topic14  topic15  \n",
       "sms0      0.00     0.00     0.00     0.00     0.00  \n",
       "sms1      0.12     0.01     0.01     0.01     0.01  \n",
       "sms2!     0.00     0.00     0.00     0.00     0.00  \n",
       "sms3      0.00     0.00     0.00     0.00     0.00  \n",
       "sms4      0.00     0.09     0.00     0.00     0.00  \n",
       "\n",
       "[5 rows x 16 columns]"
      ],
      "text/html": "<div>\n<style scoped>\n    .dataframe tbody tr th:only-of-type {\n        vertical-align: middle;\n    }\n\n    .dataframe tbody tr th {\n        vertical-align: top;\n    }\n\n    .dataframe thead th {\n        text-align: right;\n    }\n</style>\n<table border=\"1\" class=\"dataframe\">\n  <thead>\n    <tr style=\"text-align: right;\">\n      <th></th>\n      <th>topic0</th>\n      <th>topic1</th>\n      <th>topic2</th>\n      <th>topic3</th>\n      <th>topic4</th>\n      <th>topic5</th>\n      <th>...</th>\n      <th>topic10</th>\n      <th>topic11</th>\n      <th>topic12</th>\n      <th>topic13</th>\n      <th>topic14</th>\n      <th>topic15</th>\n    </tr>\n  </thead>\n  <tbody>\n    <tr>\n      <th>sms0</th>\n      <td>0.00</td>\n      <td>0.62</td>\n      <td>0.00</td>\n      <td>0.00</td>\n      <td>0.00</td>\n      <td>0.00</td>\n      <td>...</td>\n      <td>0.00</td>\n      <td>0.00</td>\n      <td>0.00</td>\n      <td>0.00</td>\n      <td>0.00</td>\n      <td>0.00</td>\n    </tr>\n    <tr>\n      <th>sms1</th>\n      <td>0.01</td>\n      <td>0.01</td>\n      <td>0.01</td>\n      <td>0.01</td>\n      <td>0.01</td>\n      <td>0.01</td>\n      <td>...</td>\n      <td>0.01</td>\n      <td>0.12</td>\n      <td>0.01</td>\n      <td>0.01</td>\n      <td>0.01</td>\n      <td>0.01</td>\n    </tr>\n    <tr>\n      <th>sms2!</th>\n      <td>0.00</td>\n      <td>0.00</td>\n      <td>0.00</td>\n      <td>0.00</td>\n      <td>0.00</td>\n      <td>0.00</td>\n      <td>...</td>\n      <td>0.00</td>\n      <td>0.00</td>\n      <td>0.00</td>\n      <td>0.00</td>\n      <td>0.00</td>\n      <td>0.00</td>\n    </tr>\n    <tr>\n      <th>sms3</th>\n      <td>0.00</td>\n      <td>0.00</td>\n      <td>0.00</td>\n      <td>0.00</td>\n      <td>0.09</td>\n      <td>0.00</td>\n      <td>...</td>\n      <td>0.00</td>\n      <td>0.00</td>\n      <td>0.00</td>\n      <td>0.00</td>\n      <td>0.00</td>\n      <td>0.00</td>\n    </tr>\n    <tr>\n      <th>sms4</th>\n      <td>0.39</td>\n      <td>0.00</td>\n      <td>0.33</td>\n      <td>0.00</td>\n      <td>0.00</td>\n      <td>0.00</td>\n      <td>...</td>\n      <td>0.00</td>\n      <td>0.00</td>\n      <td>0.09</td>\n      <td>0.00</td>\n      <td>0.00</td>\n      <td>0.00</td>\n    </tr>\n  </tbody>\n</table>\n<p>5 rows × 16 columns</p>\n</div>"
     },
     "metadata": {},
     "execution_count": 38
    }
   ],
   "source": [
    "ldia16_topic_vector.round(2).head()"
   ]
  },
  {
   "cell_type": "code",
   "execution_count": 39,
   "metadata": {},
   "outputs": [],
   "source": [
    "from sklearn.discriminant_analysis import LinearDiscriminantAnalysis as LDA\n",
    "from sklearn.model_selection import train_test_split\n",
    "x_train,x_test,y_train,y_test=train_test_split(ldia16_topic_vector,sms.spam,test_size=0.5,random_state=271828)"
   ]
  },
  {
   "cell_type": "code",
   "execution_count": 40,
   "metadata": {},
   "outputs": [],
   "source": [
    "lda=LDA(n_components=1)\n",
    "ida=lda.fit(x_train,y_train)\n",
    "sms['ldia16_spam']=lda.predict(ldia16_topic_vector)"
   ]
  },
  {
   "source": [
    "round(float(lda.score(x_test,y_test)),2)"
   ],
   "cell_type": "code",
   "metadata": {},
   "execution_count": 41,
   "outputs": [
    {
     "output_type": "execute_result",
     "data": {
      "text/plain": [
       "0.94"
      ]
     },
     "metadata": {},
     "execution_count": 41
    }
   ]
  },
  {
   "cell_type": "code",
   "execution_count": 42,
   "metadata": {},
   "outputs": [
    {
     "output_type": "execute_result",
     "data": {
      "text/plain": [
       "            topic0    topic1    topic2    topic3    topic4    topic5  \\\n",
       "sms2221   0.006250  0.006250  0.006250  0.006250  0.006250  0.392123   \n",
       "sms2934   0.002976  0.002976  0.002976  0.002976  0.002976  0.002976   \n",
       "sms2794   0.004808  0.178790  0.297406  0.004808  0.004808  0.156295   \n",
       "sms412    0.006944  0.006944  0.006944  0.006944  0.006944  0.006944   \n",
       "sms1187!  0.001894  0.001894  0.001894  0.186246  0.001894  0.001894   \n",
       "...            ...       ...       ...       ...       ...       ...   \n",
       "sms3946   0.004167  0.004167  0.004167  0.004167  0.004167  0.937500   \n",
       "sms3872   0.006944  0.006944  0.565757  0.006944  0.006944  0.006944   \n",
       "sms4332   0.002404  0.002404  0.245351  0.002404  0.002404  0.002404   \n",
       "sms3105   0.001330  0.001330  0.001330  0.001330  0.001330  0.319720   \n",
       "sms4671   0.617387  0.006944  0.006944  0.006944  0.006944  0.006944   \n",
       "\n",
       "          ...   topic10   topic11   topic12   topic13   topic14   topic15  \n",
       "sms2221   ...  0.006250  0.006250  0.520377  0.006250  0.006250  0.006250  \n",
       "sms2934   ...  0.002976  0.002976  0.152411  0.805922  0.002976  0.002976  \n",
       "sms2794   ...  0.004808  0.004808  0.004808  0.309817  0.004808  0.004808  \n",
       "sms412    ...  0.006944  0.006944  0.006944  0.006944  0.006944  0.006944  \n",
       "sms1187!  ...  0.001894  0.001894  0.001894  0.177872  0.001894  0.001894  \n",
       "...       ...       ...       ...       ...       ...       ...       ...  \n",
       "sms3946   ...  0.004167  0.004167  0.004167  0.004167  0.004167  0.004167  \n",
       "sms3872   ...  0.006944  0.006944  0.188976  0.006944  0.006944  0.006944  \n",
       "sms4332   ...  0.002404  0.002404  0.162163  0.002404  0.002404  0.002404  \n",
       "sms3105   ...  0.001330  0.001330  0.001330  0.314669  0.001330  0.001330  \n",
       "sms4671   ...  0.006944  0.006944  0.006944  0.006944  0.285391  0.006944  \n",
       "\n",
       "[2419 rows x 16 columns]"
      ],
      "text/html": "<div>\n<style scoped>\n    .dataframe tbody tr th:only-of-type {\n        vertical-align: middle;\n    }\n\n    .dataframe tbody tr th {\n        vertical-align: top;\n    }\n\n    .dataframe thead th {\n        text-align: right;\n    }\n</style>\n<table border=\"1\" class=\"dataframe\">\n  <thead>\n    <tr style=\"text-align: right;\">\n      <th></th>\n      <th>topic0</th>\n      <th>topic1</th>\n      <th>topic2</th>\n      <th>topic3</th>\n      <th>topic4</th>\n      <th>topic5</th>\n      <th>...</th>\n      <th>topic10</th>\n      <th>topic11</th>\n      <th>topic12</th>\n      <th>topic13</th>\n      <th>topic14</th>\n      <th>topic15</th>\n    </tr>\n  </thead>\n  <tbody>\n    <tr>\n      <th>sms2221</th>\n      <td>0.006250</td>\n      <td>0.006250</td>\n      <td>0.006250</td>\n      <td>0.006250</td>\n      <td>0.006250</td>\n      <td>0.392123</td>\n      <td>...</td>\n      <td>0.006250</td>\n      <td>0.006250</td>\n      <td>0.520377</td>\n      <td>0.006250</td>\n      <td>0.006250</td>\n      <td>0.006250</td>\n    </tr>\n    <tr>\n      <th>sms2934</th>\n      <td>0.002976</td>\n      <td>0.002976</td>\n      <td>0.002976</td>\n      <td>0.002976</td>\n      <td>0.002976</td>\n      <td>0.002976</td>\n      <td>...</td>\n      <td>0.002976</td>\n      <td>0.002976</td>\n      <td>0.152411</td>\n      <td>0.805922</td>\n      <td>0.002976</td>\n      <td>0.002976</td>\n    </tr>\n    <tr>\n      <th>sms2794</th>\n      <td>0.004808</td>\n      <td>0.178790</td>\n      <td>0.297406</td>\n      <td>0.004808</td>\n      <td>0.004808</td>\n      <td>0.156295</td>\n      <td>...</td>\n      <td>0.004808</td>\n      <td>0.004808</td>\n      <td>0.004808</td>\n      <td>0.309817</td>\n      <td>0.004808</td>\n      <td>0.004808</td>\n    </tr>\n    <tr>\n      <th>sms412</th>\n      <td>0.006944</td>\n      <td>0.006944</td>\n      <td>0.006944</td>\n      <td>0.006944</td>\n      <td>0.006944</td>\n      <td>0.006944</td>\n      <td>...</td>\n      <td>0.006944</td>\n      <td>0.006944</td>\n      <td>0.006944</td>\n      <td>0.006944</td>\n      <td>0.006944</td>\n      <td>0.006944</td>\n    </tr>\n    <tr>\n      <th>sms1187!</th>\n      <td>0.001894</td>\n      <td>0.001894</td>\n      <td>0.001894</td>\n      <td>0.186246</td>\n      <td>0.001894</td>\n      <td>0.001894</td>\n      <td>...</td>\n      <td>0.001894</td>\n      <td>0.001894</td>\n      <td>0.001894</td>\n      <td>0.177872</td>\n      <td>0.001894</td>\n      <td>0.001894</td>\n    </tr>\n    <tr>\n      <th>...</th>\n      <td>...</td>\n      <td>...</td>\n      <td>...</td>\n      <td>...</td>\n      <td>...</td>\n      <td>...</td>\n      <td>...</td>\n      <td>...</td>\n      <td>...</td>\n      <td>...</td>\n      <td>...</td>\n      <td>...</td>\n      <td>...</td>\n    </tr>\n    <tr>\n      <th>sms3946</th>\n      <td>0.004167</td>\n      <td>0.004167</td>\n      <td>0.004167</td>\n      <td>0.004167</td>\n      <td>0.004167</td>\n      <td>0.937500</td>\n      <td>...</td>\n      <td>0.004167</td>\n      <td>0.004167</td>\n      <td>0.004167</td>\n      <td>0.004167</td>\n      <td>0.004167</td>\n      <td>0.004167</td>\n    </tr>\n    <tr>\n      <th>sms3872</th>\n      <td>0.006944</td>\n      <td>0.006944</td>\n      <td>0.565757</td>\n      <td>0.006944</td>\n      <td>0.006944</td>\n      <td>0.006944</td>\n      <td>...</td>\n      <td>0.006944</td>\n      <td>0.006944</td>\n      <td>0.188976</td>\n      <td>0.006944</td>\n      <td>0.006944</td>\n      <td>0.006944</td>\n    </tr>\n    <tr>\n      <th>sms4332</th>\n      <td>0.002404</td>\n      <td>0.002404</td>\n      <td>0.245351</td>\n      <td>0.002404</td>\n      <td>0.002404</td>\n      <td>0.002404</td>\n      <td>...</td>\n      <td>0.002404</td>\n      <td>0.002404</td>\n      <td>0.162163</td>\n      <td>0.002404</td>\n      <td>0.002404</td>\n      <td>0.002404</td>\n    </tr>\n    <tr>\n      <th>sms3105</th>\n      <td>0.001330</td>\n      <td>0.001330</td>\n      <td>0.001330</td>\n      <td>0.001330</td>\n      <td>0.001330</td>\n      <td>0.319720</td>\n      <td>...</td>\n      <td>0.001330</td>\n      <td>0.001330</td>\n      <td>0.001330</td>\n      <td>0.314669</td>\n      <td>0.001330</td>\n      <td>0.001330</td>\n    </tr>\n    <tr>\n      <th>sms4671</th>\n      <td>0.617387</td>\n      <td>0.006944</td>\n      <td>0.006944</td>\n      <td>0.006944</td>\n      <td>0.006944</td>\n      <td>0.006944</td>\n      <td>...</td>\n      <td>0.006944</td>\n      <td>0.006944</td>\n      <td>0.006944</td>\n      <td>0.006944</td>\n      <td>0.285391</td>\n      <td>0.006944</td>\n    </tr>\n  </tbody>\n</table>\n<p>2419 rows × 16 columns</p>\n</div>"
     },
     "metadata": {},
     "execution_count": 42
    }
   ],
   "source": [
    "x_test"
   ]
  },
  {
   "cell_type": "code",
   "execution_count": 43,
   "metadata": {},
   "outputs": [
    {
     "output_type": "execute_result",
     "data": {
      "text/plain": [
       "sms2221     0\n",
       "sms2934     0\n",
       "sms2794     0\n",
       "sms412      0\n",
       "sms1187!    1\n",
       "           ..\n",
       "sms3946     0\n",
       "sms3872     0\n",
       "sms4332     0\n",
       "sms3105     0\n",
       "sms4671     0\n",
       "Name: spam, Length: 2419, dtype: int64"
      ]
     },
     "metadata": {},
     "execution_count": 43
    }
   ],
   "source": [
    "y_test"
   ]
  },
  {
   "cell_type": "code",
   "execution_count": 44,
   "metadata": {},
   "outputs": [
    {
     "output_type": "execute_result",
     "data": {
      "text/plain": [
       "2419"
      ]
     },
     "metadata": {},
     "execution_count": 44
    }
   ],
   "source": [
    "len(y_test)"
   ]
  },
  {
   "cell_type": "code",
   "execution_count": 45,
   "metadata": {},
   "outputs": [
    {
     "output_type": "execute_result",
     "data": {
      "text/plain": [
       "2418"
      ]
     },
     "metadata": {},
     "execution_count": 45
    }
   ],
   "source": [
    "len(x_train)"
   ]
  },
  {
   "cell_type": "code",
   "execution_count": null,
   "metadata": {},
   "outputs": [],
   "source": []
  }
 ]
}