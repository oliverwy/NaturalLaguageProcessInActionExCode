{
 "metadata": {
  "language_info": {
   "codemirror_mode": {
    "name": "ipython",
    "version": 3
   },
   "file_extension": ".py",
   "mimetype": "text/x-python",
   "name": "python",
   "nbconvert_exporter": "python",
   "pygments_lexer": "ipython3",
   "version": "3.8.5-final"
  },
  "orig_nbformat": 2,
  "kernelspec": {
   "name": "python3",
   "display_name": "Python 3",
   "language": "python"
  }
 },
 "nbformat": 4,
 "nbformat_minor": 2,
 "cells": [
  {
   "cell_type": "code",
   "execution_count": 1,
   "metadata": {},
   "outputs": [],
   "source": [
    "import os\n",
    "from nlpia.loaders import get_data\n",
    "from gensim.models import KeyedVectors"
   ]
  },
  {
   "cell_type": "code",
   "execution_count": 2,
   "metadata": {},
   "outputs": [],
   "source": [
    "wv=KeyedVectors.load_word2vec_format('/home/oliver/anaconda3/lib/python3.8/site-packages/nlpia/bigdata/GoogleNews-vectors-negative300.bin',binary=True)"
   ]
  },
  {
   "cell_type": "code",
   "execution_count": 3,
   "metadata": {},
   "outputs": [
    {
     "output_type": "execute_result",
     "data": {
      "text/plain": [
       "3000000"
      ]
     },
     "metadata": {},
     "execution_count": 3
    }
   ],
   "source": [
    "len(wv.vocab)"
   ]
  },
  {
   "cell_type": "code",
   "execution_count": 4,
   "metadata": {},
   "outputs": [],
   "source": [
    "import pandas as pd\n",
    "vocab=pd.Series(wv.vocab)"
   ]
  },
  {
   "cell_type": "code",
   "execution_count": 5,
   "metadata": {},
   "outputs": [
    {
     "output_type": "execute_result",
     "data": {
      "text/plain": [
       "Starwood_Hotels_HOT    Vocab(count:2000000, index:1000000)\n",
       "Tammy_Kilborn          Vocab(count:1999999, index:1000001)\n",
       "aortic_aneurism        Vocab(count:1999998, index:1000002)\n",
       "Spragins_Hall          Vocab(count:1999997, index:1000003)\n",
       "Ed_Iacobucci           Vocab(count:1999996, index:1000004)\n",
       "Seilheimer             Vocab(count:1999995, index:1000005)\n",
       "dtype: object"
      ]
     },
     "metadata": {},
     "execution_count": 5
    }
   ],
   "source": [
    "vocab.iloc[1000000:1000006]"
   ]
  },
  {
   "cell_type": "code",
   "execution_count": 6,
   "metadata": {},
   "outputs": [
    {
     "output_type": "execute_result",
     "data": {
      "text/plain": [
       "array([ 0.15625   ,  0.18652344,  0.33203125,  0.55859375,  0.03637695,\n",
       "       -0.09375   , -0.05029297,  0.16796875, -0.0625    ,  0.09912109,\n",
       "       -0.0291748 ,  0.39257812,  0.05395508,  0.35351562, -0.02270508,\n",
       "        0.05957031,  0.06640625, -0.24511719,  0.32617188, -0.00149536,\n",
       "        0.46875   , -0.00534058,  0.03271484,  0.36523438, -0.3046875 ,\n",
       "       -0.08984375,  0.04956055,  0.08691406,  0.18847656, -0.16992188,\n",
       "       -0.1328125 , -0.19433594,  0.11230469, -0.33984375,  0.03588867,\n",
       "        0.07373047,  0.1328125 ,  0.02270508, -0.06005859,  0.421875  ,\n",
       "        0.25195312, -0.39257812,  0.01733398, -0.28320312, -0.33203125,\n",
       "        0.12890625, -0.16992188,  0.21289062,  0.15039062,  0.12207031,\n",
       "        0.15820312,  0.02307129, -0.359375  , -0.046875  ,  0.01672363,\n",
       "        0.14257812, -0.01477051,  0.3828125 , -0.06079102, -0.390625  ,\n",
       "        0.06176758, -0.06738281, -0.06884766,  0.1640625 , -0.08007812,\n",
       "        0.2421875 ,  0.02380371,  0.07177734, -0.03808594,  0.51953125,\n",
       "       -0.12255859,  0.10498047, -0.43945312, -0.30273438, -0.01733398,\n",
       "       -0.19238281, -0.34765625, -0.30664062, -0.21972656, -0.06079102,\n",
       "       -0.34570312, -0.55078125, -0.13867188, -0.11621094, -0.02038574,\n",
       "        0.18066406, -0.08789062, -0.00268555,  0.00848389, -0.171875  ,\n",
       "       -0.51171875, -0.36132812, -0.20214844,  0.15429688,  0.28320312,\n",
       "       -0.234375  ,  0.23925781, -0.18945312, -0.06787109, -0.1640625 ,\n",
       "        0.08935547, -0.19726562,  0.19628906,  0.09130859, -0.27539062,\n",
       "        0.17285156, -0.01428223,  0.00527954, -0.04638672, -0.22460938,\n",
       "        0.23535156, -0.05371094,  0.02844238,  0.3046875 ,  0.44921875,\n",
       "        0.06494141, -0.140625  , -0.00878906, -0.04614258, -0.19921875,\n",
       "       -0.75      , -0.3515625 , -0.25      , -0.33789062, -0.00167084,\n",
       "       -0.00994873,  0.11474609,  0.09228516, -0.21484375,  0.31445312,\n",
       "        0.13378906,  0.25976562, -0.00270081,  0.09570312, -0.03222656,\n",
       "       -0.16894531,  0.19433594,  0.453125  , -0.15527344, -0.02270508,\n",
       "       -0.05053711, -0.234375  , -0.05004883, -0.20019531, -0.18359375,\n",
       "        0.28515625, -0.23339844, -0.17089844,  0.05444336, -0.18847656,\n",
       "       -0.00357056,  0.28710938, -0.1015625 ,  0.13085938, -0.10302734,\n",
       "       -0.37890625,  0.25195312,  0.00289917, -0.24121094, -0.06640625,\n",
       "        0.20019531,  0.03540039,  0.296875  ,  0.22167969, -0.02563477,\n",
       "       -0.56640625,  0.21289062,  0.24707031,  0.17773438,  0.17382812,\n",
       "       -0.0534668 ,  0.1484375 ,  0.11474609,  0.03613281, -0.33789062,\n",
       "       -0.25585938,  0.0480957 , -0.10742188, -0.05126953, -0.15820312,\n",
       "       -0.09814453,  0.26757812,  0.5703125 , -0.25390625, -0.21484375,\n",
       "       -0.03320312, -0.16796875,  0.26171875,  0.29492188,  0.13671875,\n",
       "        0.26757812, -0.01416016,  0.06445312, -0.00787354, -0.14941406,\n",
       "        0.01721191, -0.07177734, -0.16601562,  0.15527344, -0.22167969,\n",
       "        0.00469971, -0.2578125 , -0.0703125 , -0.12109375,  0.234375  ,\n",
       "       -0.06933594,  0.32617188, -0.39648438, -0.21679688,  0.06030273,\n",
       "       -0.01495361,  0.09619141,  0.04248047, -0.10253906, -0.24707031,\n",
       "       -0.06298828,  0.44726562,  0.13378906,  0.14648438, -0.30859375,\n",
       "       -0.40625   ,  0.31640625, -0.18847656, -0.20703125,  0.16601562,\n",
       "        0.22851562,  0.25976562,  0.38867188, -0.09472656, -0.51953125,\n",
       "       -0.265625  ,  0.11083984,  0.05395508,  0.25585938, -0.34765625,\n",
       "       -0.18164062,  0.32421875, -0.21289062, -0.02307129, -0.03662109,\n",
       "        0.359375  , -0.05419922,  0.20019531, -0.75390625,  0.18457031,\n",
       "        0.359375  , -0.53515625, -0.03442383, -0.203125  , -0.24023438,\n",
       "        0.09326172, -0.11474609, -0.12988281,  0.02880859, -0.02270508,\n",
       "       -0.19824219,  0.14648438, -0.08056641,  0.1796875 , -0.234375  ,\n",
       "       -0.09619141,  0.01043701,  0.03833008,  0.07666016,  0.17871094,\n",
       "        0.46289062, -0.05004883, -0.21972656, -0.07080078,  0.06787109,\n",
       "       -0.08398438, -0.328125  ,  0.02600098,  0.07080078,  0.00157928,\n",
       "        0.19042969,  0.49804688, -0.23632812,  0.07617188, -0.22070312,\n",
       "        0.11474609, -0.06103516,  0.34179688, -0.18945312,  0.3671875 ,\n",
       "       -0.18164062,  0.48632812,  0.12402344,  0.04150391,  0.12695312,\n",
       "       -0.15722656,  0.16210938, -0.21386719, -0.24316406,  0.15917969,\n",
       "        0.17480469, -0.06396484, -0.10693359,  0.07617188,  0.20410156],\n",
       "      dtype=float32)"
      ]
     },
     "metadata": {},
     "execution_count": 6
    }
   ],
   "source": [
    "wv['Illini']"
   ]
  },
  {
   "cell_type": "code",
   "execution_count": 7,
   "metadata": {},
   "outputs": [
    {
     "output_type": "execute_result",
     "data": {
      "text/plain": [
       "3.36538"
      ]
     },
     "metadata": {},
     "execution_count": 7
    }
   ],
   "source": [
    "import numpy as np\n",
    "np.linalg.norm(wv['Illinois']-wv['Illini'])"
   ]
  },
  {
   "cell_type": "code",
   "execution_count": 8,
   "metadata": {},
   "outputs": [
    {
     "output_type": "execute_result",
     "data": {
      "text/plain": [
       "0.5501352"
      ]
     },
     "metadata": {},
     "execution_count": 8
    }
   ],
   "source": [
    "cos_sim=np.dot(wv['Illinois'],wv['Illini'])/(np.linalg.norm(wv['Illinois'])*np.linalg.norm(wv['Illini']))\n",
    "cos_sim"
   ]
  },
  {
   "cell_type": "code",
   "execution_count": 9,
   "metadata": {},
   "outputs": [
    {
     "output_type": "stream",
     "name": "stdout",
     "text": [
      "/home/oliver/anaconda3/lib/python3.8/site-packages/nlpia/bigdata/cities.csv\n"
     ]
    },
    {
     "output_type": "execute_result",
     "data": {
      "text/plain": [
       "geonameid                       3039154\n",
       "name                          El Tarter\n",
       "asciiname                     El Tarter\n",
       "alternatenames     Ehl Tarter,Эл Тартер\n",
       "latitude                        42.5795\n",
       "longitude                       1.65362\n",
       "feature_class                         P\n",
       "feature_code                        PPL\n",
       "country_code                         AD\n",
       "cc2                                 NaN\n",
       "admin1_code                          02\n",
       "admin2_code                         NaN\n",
       "admin3_code                         NaN\n",
       "admin4_code                         NaN\n",
       "population                         1052\n",
       "elevation                           NaN\n",
       "dem                                1721\n",
       "timezone                 Europe/Andorra\n",
       "modification_date            2012-11-03"
      ],
      "text/html": "<div>\n<style scoped>\n    .dataframe tbody tr th:only-of-type {\n        vertical-align: middle;\n    }\n\n    .dataframe tbody tr th {\n        vertical-align: top;\n    }\n\n    .dataframe thead th {\n        text-align: right;\n    }\n</style>\n<table border=\"1\" class=\"dataframe\">\n  <thead>\n    <tr style=\"text-align: right;\">\n      <th>geonameid</th>\n      <th>3039154</th>\n    </tr>\n  </thead>\n  <tbody>\n    <tr>\n      <th>name</th>\n      <td>El Tarter</td>\n    </tr>\n    <tr>\n      <th>asciiname</th>\n      <td>El Tarter</td>\n    </tr>\n    <tr>\n      <th>alternatenames</th>\n      <td>Ehl Tarter,Эл Тартер</td>\n    </tr>\n    <tr>\n      <th>latitude</th>\n      <td>42.5795</td>\n    </tr>\n    <tr>\n      <th>longitude</th>\n      <td>1.65362</td>\n    </tr>\n    <tr>\n      <th>feature_class</th>\n      <td>P</td>\n    </tr>\n    <tr>\n      <th>feature_code</th>\n      <td>PPL</td>\n    </tr>\n    <tr>\n      <th>country_code</th>\n      <td>AD</td>\n    </tr>\n    <tr>\n      <th>cc2</th>\n      <td>NaN</td>\n    </tr>\n    <tr>\n      <th>admin1_code</th>\n      <td>02</td>\n    </tr>\n    <tr>\n      <th>admin2_code</th>\n      <td>NaN</td>\n    </tr>\n    <tr>\n      <th>admin3_code</th>\n      <td>NaN</td>\n    </tr>\n    <tr>\n      <th>admin4_code</th>\n      <td>NaN</td>\n    </tr>\n    <tr>\n      <th>population</th>\n      <td>1052</td>\n    </tr>\n    <tr>\n      <th>elevation</th>\n      <td>NaN</td>\n    </tr>\n    <tr>\n      <th>dem</th>\n      <td>1721</td>\n    </tr>\n    <tr>\n      <th>timezone</th>\n      <td>Europe/Andorra</td>\n    </tr>\n    <tr>\n      <th>modification_date</th>\n      <td>2012-11-03</td>\n    </tr>\n  </tbody>\n</table>\n</div>"
     },
     "metadata": {},
     "execution_count": 9
    }
   ],
   "source": [
    "from nlpia.loaders import get_data\n",
    "cities=get_data('/home/oliver/anaconda3/lib/python3.8/site-packages/nlpia/bigdata/cities.csv')\n",
    "cities.head(1).T"
   ]
  },
  {
   "cell_type": "code",
   "execution_count": 10,
   "metadata": {},
   "outputs": [
    {
     "output_type": "execute_result",
     "data": {
      "text/plain": [
       "                             name               asciiname  \\\n",
       "geonameid                                                   \n",
       "4046255               Bay Minette             Bay Minette   \n",
       "4046274                      Edna                    Edna   \n",
       "4046319            Bayou La Batre          Bayou La Batre   \n",
       "4046332                 Henderson               Henderson   \n",
       "4046430                   Natalia                 Natalia   \n",
       "...                           ...                     ...   \n",
       "10300443   Sugarcreek Police Dept  Sugarcreek Police Dept   \n",
       "10629562              Scotts Mill             Scotts Mill   \n",
       "11395215                    Maine                   Maine   \n",
       "11468564                Plainview               Plainview   \n",
       "11550224               Allenstown              Allenstown   \n",
       "\n",
       "                                              alternatenames  latitude  \\\n",
       "geonameid                                                                \n",
       "4046255    Bay Minette,Bay Minette Station,Bej Minet,Bej-...  30.88296   \n",
       "4046274    Edna,Ednaville,Macaroni Station,adna,adna  tgz...  28.97859   \n",
       "4046319    Baju la Batr,Baju-La-Batr,Bayou La Batre,Bayou...  30.40352   \n",
       "4046332    Khenderson,hndrswn,hndrswn  tgzas,Хендерсон,هن...  32.15322   \n",
       "4046430                                                  NaN  29.18968   \n",
       "...                                                      ...       ...   \n",
       "10300443                                                 NaN  40.50253   \n",
       "10629562                                                 NaN  35.72666   \n",
       "11395215                                                 NaN  45.02716   \n",
       "11468564                                                 NaN  36.17731   \n",
       "11550224                                                 NaN  43.15673   \n",
       "\n",
       "           longitude feature_class feature_code country_code  cc2 admin1_code  \\\n",
       "geonameid                                                                       \n",
       "4046255    -87.77305             P        PPLA2           US  NaN          AL   \n",
       "4046274    -96.64609             P        PPLA2           US  NaN          TX   \n",
       "4046319    -88.24852             P          PPL           US  NaN          AL   \n",
       "4046332    -94.79938             P        PPLA2           US  NaN          TX   \n",
       "4046430    -98.86253             P          PPL           US  NaN          TX   \n",
       "...              ...           ...          ...          ...  ...         ...   \n",
       "10300443   -81.64176             P         PPLL           US  NaN          OH   \n",
       "10629562   -78.88390             P         PPLX           US  NaN          NC   \n",
       "11395215   -89.69039             P          PPL           US  NaN          WI   \n",
       "11468564   -83.79534             P          PPL           US  NaN          TN   \n",
       "11550224   -71.40478             P        PPLA3           US  NaN          NH   \n",
       "\n",
       "          admin2_code admin3_code admin4_code  population  elevation  dem  \\\n",
       "geonameid                                                                   \n",
       "4046255           003         NaN         NaN        9118       82.0   85   \n",
       "4046274           239         NaN         NaN        5792       20.0   24   \n",
       "4046319           097         NaN         NaN        2621        2.0    5   \n",
       "4046332           401         NaN         NaN       13529      156.0  160   \n",
       "4046430           325         NaN         NaN        1490      209.0  211   \n",
       "...               ...         ...         ...         ...        ...  ...   \n",
       "10300443          157       75217         NaN        2220        NaN  302   \n",
       "10629562          183       93984         NaN        2400        NaN  106   \n",
       "11395215          073       48225         NaN        2364      430.0  426   \n",
       "11468564          173         NaN         NaN        2061        NaN  354   \n",
       "11550224          013       00660         NaN           0        NaN   97   \n",
       "\n",
       "                   timezone modification_date  \n",
       "geonameid                                      \n",
       "4046255     America/Chicago        2017-03-09  \n",
       "4046274     America/Chicago        2017-03-09  \n",
       "4046319     America/Chicago        2017-03-09  \n",
       "4046332     America/Chicago        2017-03-09  \n",
       "4046430     America/Chicago        2017-03-09  \n",
       "...                     ...               ...  \n",
       "10300443   America/New_York        2017-05-23  \n",
       "10629562   America/New_York        2017-05-23  \n",
       "11395215    America/Chicago        2017-05-23  \n",
       "11468564   America/New_York        2017-03-09  \n",
       "11550224   America/New_York        2017-05-28  \n",
       "\n",
       "[11790 rows x 18 columns]"
      ],
      "text/html": "<div>\n<style scoped>\n    .dataframe tbody tr th:only-of-type {\n        vertical-align: middle;\n    }\n\n    .dataframe tbody tr th {\n        vertical-align: top;\n    }\n\n    .dataframe thead th {\n        text-align: right;\n    }\n</style>\n<table border=\"1\" class=\"dataframe\">\n  <thead>\n    <tr style=\"text-align: right;\">\n      <th></th>\n      <th>name</th>\n      <th>asciiname</th>\n      <th>alternatenames</th>\n      <th>latitude</th>\n      <th>longitude</th>\n      <th>feature_class</th>\n      <th>feature_code</th>\n      <th>country_code</th>\n      <th>cc2</th>\n      <th>admin1_code</th>\n      <th>admin2_code</th>\n      <th>admin3_code</th>\n      <th>admin4_code</th>\n      <th>population</th>\n      <th>elevation</th>\n      <th>dem</th>\n      <th>timezone</th>\n      <th>modification_date</th>\n    </tr>\n    <tr>\n      <th>geonameid</th>\n      <th></th>\n      <th></th>\n      <th></th>\n      <th></th>\n      <th></th>\n      <th></th>\n      <th></th>\n      <th></th>\n      <th></th>\n      <th></th>\n      <th></th>\n      <th></th>\n      <th></th>\n      <th></th>\n      <th></th>\n      <th></th>\n      <th></th>\n      <th></th>\n    </tr>\n  </thead>\n  <tbody>\n    <tr>\n      <th>4046255</th>\n      <td>Bay Minette</td>\n      <td>Bay Minette</td>\n      <td>Bay Minette,Bay Minette Station,Bej Minet,Bej-...</td>\n      <td>30.88296</td>\n      <td>-87.77305</td>\n      <td>P</td>\n      <td>PPLA2</td>\n      <td>US</td>\n      <td>NaN</td>\n      <td>AL</td>\n      <td>003</td>\n      <td>NaN</td>\n      <td>NaN</td>\n      <td>9118</td>\n      <td>82.0</td>\n      <td>85</td>\n      <td>America/Chicago</td>\n      <td>2017-03-09</td>\n    </tr>\n    <tr>\n      <th>4046274</th>\n      <td>Edna</td>\n      <td>Edna</td>\n      <td>Edna,Ednaville,Macaroni Station,adna,adna  tgz...</td>\n      <td>28.97859</td>\n      <td>-96.64609</td>\n      <td>P</td>\n      <td>PPLA2</td>\n      <td>US</td>\n      <td>NaN</td>\n      <td>TX</td>\n      <td>239</td>\n      <td>NaN</td>\n      <td>NaN</td>\n      <td>5792</td>\n      <td>20.0</td>\n      <td>24</td>\n      <td>America/Chicago</td>\n      <td>2017-03-09</td>\n    </tr>\n    <tr>\n      <th>4046319</th>\n      <td>Bayou La Batre</td>\n      <td>Bayou La Batre</td>\n      <td>Baju la Batr,Baju-La-Batr,Bayou La Batre,Bayou...</td>\n      <td>30.40352</td>\n      <td>-88.24852</td>\n      <td>P</td>\n      <td>PPL</td>\n      <td>US</td>\n      <td>NaN</td>\n      <td>AL</td>\n      <td>097</td>\n      <td>NaN</td>\n      <td>NaN</td>\n      <td>2621</td>\n      <td>2.0</td>\n      <td>5</td>\n      <td>America/Chicago</td>\n      <td>2017-03-09</td>\n    </tr>\n    <tr>\n      <th>4046332</th>\n      <td>Henderson</td>\n      <td>Henderson</td>\n      <td>Khenderson,hndrswn,hndrswn  tgzas,Хендерсон,هن...</td>\n      <td>32.15322</td>\n      <td>-94.79938</td>\n      <td>P</td>\n      <td>PPLA2</td>\n      <td>US</td>\n      <td>NaN</td>\n      <td>TX</td>\n      <td>401</td>\n      <td>NaN</td>\n      <td>NaN</td>\n      <td>13529</td>\n      <td>156.0</td>\n      <td>160</td>\n      <td>America/Chicago</td>\n      <td>2017-03-09</td>\n    </tr>\n    <tr>\n      <th>4046430</th>\n      <td>Natalia</td>\n      <td>Natalia</td>\n      <td>NaN</td>\n      <td>29.18968</td>\n      <td>-98.86253</td>\n      <td>P</td>\n      <td>PPL</td>\n      <td>US</td>\n      <td>NaN</td>\n      <td>TX</td>\n      <td>325</td>\n      <td>NaN</td>\n      <td>NaN</td>\n      <td>1490</td>\n      <td>209.0</td>\n      <td>211</td>\n      <td>America/Chicago</td>\n      <td>2017-03-09</td>\n    </tr>\n    <tr>\n      <th>...</th>\n      <td>...</td>\n      <td>...</td>\n      <td>...</td>\n      <td>...</td>\n      <td>...</td>\n      <td>...</td>\n      <td>...</td>\n      <td>...</td>\n      <td>...</td>\n      <td>...</td>\n      <td>...</td>\n      <td>...</td>\n      <td>...</td>\n      <td>...</td>\n      <td>...</td>\n      <td>...</td>\n      <td>...</td>\n      <td>...</td>\n    </tr>\n    <tr>\n      <th>10300443</th>\n      <td>Sugarcreek Police Dept</td>\n      <td>Sugarcreek Police Dept</td>\n      <td>NaN</td>\n      <td>40.50253</td>\n      <td>-81.64176</td>\n      <td>P</td>\n      <td>PPLL</td>\n      <td>US</td>\n      <td>NaN</td>\n      <td>OH</td>\n      <td>157</td>\n      <td>75217</td>\n      <td>NaN</td>\n      <td>2220</td>\n      <td>NaN</td>\n      <td>302</td>\n      <td>America/New_York</td>\n      <td>2017-05-23</td>\n    </tr>\n    <tr>\n      <th>10629562</th>\n      <td>Scotts Mill</td>\n      <td>Scotts Mill</td>\n      <td>NaN</td>\n      <td>35.72666</td>\n      <td>-78.88390</td>\n      <td>P</td>\n      <td>PPLX</td>\n      <td>US</td>\n      <td>NaN</td>\n      <td>NC</td>\n      <td>183</td>\n      <td>93984</td>\n      <td>NaN</td>\n      <td>2400</td>\n      <td>NaN</td>\n      <td>106</td>\n      <td>America/New_York</td>\n      <td>2017-05-23</td>\n    </tr>\n    <tr>\n      <th>11395215</th>\n      <td>Maine</td>\n      <td>Maine</td>\n      <td>NaN</td>\n      <td>45.02716</td>\n      <td>-89.69039</td>\n      <td>P</td>\n      <td>PPL</td>\n      <td>US</td>\n      <td>NaN</td>\n      <td>WI</td>\n      <td>073</td>\n      <td>48225</td>\n      <td>NaN</td>\n      <td>2364</td>\n      <td>430.0</td>\n      <td>426</td>\n      <td>America/Chicago</td>\n      <td>2017-05-23</td>\n    </tr>\n    <tr>\n      <th>11468564</th>\n      <td>Plainview</td>\n      <td>Plainview</td>\n      <td>NaN</td>\n      <td>36.17731</td>\n      <td>-83.79534</td>\n      <td>P</td>\n      <td>PPL</td>\n      <td>US</td>\n      <td>NaN</td>\n      <td>TN</td>\n      <td>173</td>\n      <td>NaN</td>\n      <td>NaN</td>\n      <td>2061</td>\n      <td>NaN</td>\n      <td>354</td>\n      <td>America/New_York</td>\n      <td>2017-03-09</td>\n    </tr>\n    <tr>\n      <th>11550224</th>\n      <td>Allenstown</td>\n      <td>Allenstown</td>\n      <td>NaN</td>\n      <td>43.15673</td>\n      <td>-71.40478</td>\n      <td>P</td>\n      <td>PPLA3</td>\n      <td>US</td>\n      <td>NaN</td>\n      <td>NH</td>\n      <td>013</td>\n      <td>00660</td>\n      <td>NaN</td>\n      <td>0</td>\n      <td>NaN</td>\n      <td>97</td>\n      <td>America/New_York</td>\n      <td>2017-05-28</td>\n    </tr>\n  </tbody>\n</table>\n<p>11790 rows × 18 columns</p>\n</div>"
     },
     "metadata": {},
     "execution_count": 10
    }
   ],
   "source": [
    "us=cities[(cities.country_code=='US') & (cities.admin1_code.notnull())]\n",
    "us"
   ]
  },
  {
   "cell_type": "code",
   "execution_count": 11,
   "metadata": {},
   "outputs": [],
   "source": [
    "import pandas as pd\n",
    "states=pd.read_csv('http://www.fonz.net/blog/wp-content/uploads/2008/04/states.csv')"
   ]
  },
  {
   "cell_type": "code",
   "execution_count": 12,
   "metadata": {},
   "outputs": [],
   "source": [
    "states=dict(zip(states.Abbreviation,states.State))"
   ]
  },
  {
   "cell_type": "code",
   "execution_count": 13,
   "metadata": {},
   "outputs": [
    {
     "output_type": "execute_result",
     "data": {
      "text/plain": [
       "{'AL': 'Alabama',\n",
       " 'AK': 'Alaska',\n",
       " 'AZ': 'Arizona',\n",
       " 'AR': 'Arkansas',\n",
       " 'CA': 'California',\n",
       " 'CO': 'Colorado',\n",
       " 'CT': 'Connecticut',\n",
       " 'DE': 'Delaware',\n",
       " 'DC': 'District of Columbia',\n",
       " 'FL': 'Florida',\n",
       " 'GA': 'Georgia',\n",
       " 'HI': 'Hawaii',\n",
       " 'ID': 'Idaho',\n",
       " 'IL': 'Illinois',\n",
       " 'IN': 'Indiana',\n",
       " 'IA': 'Iowa',\n",
       " 'KS': 'Kansas',\n",
       " 'KY': 'Kentucky',\n",
       " 'LA': 'Louisiana',\n",
       " 'ME': 'Maine',\n",
       " 'MT': 'Montana',\n",
       " 'NE': 'Nebraska',\n",
       " 'NV': 'Nevada',\n",
       " 'NH': 'New Hampshire',\n",
       " 'NJ': 'New Jersey',\n",
       " 'NM': 'New Mexico',\n",
       " 'NY': 'New York',\n",
       " 'NC': 'North Carolina',\n",
       " 'ND': 'North Dakota',\n",
       " 'OH': 'Ohio',\n",
       " 'OK': 'Oklahoma',\n",
       " 'OR': 'Oregon',\n",
       " 'MD': 'Maryland',\n",
       " 'MA': 'Massachusetts',\n",
       " 'MI': 'Michigan',\n",
       " 'MN': 'Minnesota',\n",
       " 'MS': 'Mississippi',\n",
       " 'MO': 'Missouri',\n",
       " 'PA': 'Pennsylvania',\n",
       " 'RI': 'Rhode Island',\n",
       " 'SC': 'South Carolina',\n",
       " 'SD': 'South Dakota',\n",
       " 'TN': 'Tennessee',\n",
       " 'TX': 'Texas',\n",
       " 'UT': 'Utah',\n",
       " 'VT': 'Vermont',\n",
       " 'VA': 'Virginia',\n",
       " 'WA': 'Washington',\n",
       " 'WV': 'West Virginia',\n",
       " 'WI': 'Wisconsin',\n",
       " 'WY': 'Wyoming'}"
      ]
     },
     "metadata": {},
     "execution_count": 13
    }
   ],
   "source": [
    "states"
   ]
  },
  {
   "cell_type": "code",
   "execution_count": 14,
   "metadata": {},
   "outputs": [
    {
     "output_type": "execute_result",
     "data": {
      "text/plain": [
       "                     city  st    state\n",
       "geonameid                             \n",
       "4046255       Bay Minette  AL  Alabama\n",
       "4046274              Edna  TX    Texas\n",
       "4046319    Bayou La Batre  AL  Alabama\n",
       "4046332         Henderson  TX    Texas\n",
       "4046430           Natalia  TX    Texas"
      ],
      "text/html": "<div>\n<style scoped>\n    .dataframe tbody tr th:only-of-type {\n        vertical-align: middle;\n    }\n\n    .dataframe tbody tr th {\n        vertical-align: top;\n    }\n\n    .dataframe thead th {\n        text-align: right;\n    }\n</style>\n<table border=\"1\" class=\"dataframe\">\n  <thead>\n    <tr style=\"text-align: right;\">\n      <th></th>\n      <th>city</th>\n      <th>st</th>\n      <th>state</th>\n    </tr>\n    <tr>\n      <th>geonameid</th>\n      <th></th>\n      <th></th>\n      <th></th>\n    </tr>\n  </thead>\n  <tbody>\n    <tr>\n      <th>4046255</th>\n      <td>Bay Minette</td>\n      <td>AL</td>\n      <td>Alabama</td>\n    </tr>\n    <tr>\n      <th>4046274</th>\n      <td>Edna</td>\n      <td>TX</td>\n      <td>Texas</td>\n    </tr>\n    <tr>\n      <th>4046319</th>\n      <td>Bayou La Batre</td>\n      <td>AL</td>\n      <td>Alabama</td>\n    </tr>\n    <tr>\n      <th>4046332</th>\n      <td>Henderson</td>\n      <td>TX</td>\n      <td>Texas</td>\n    </tr>\n    <tr>\n      <th>4046430</th>\n      <td>Natalia</td>\n      <td>TX</td>\n      <td>Texas</td>\n    </tr>\n  </tbody>\n</table>\n</div>"
     },
     "metadata": {},
     "execution_count": 14
    }
   ],
   "source": [
    "us['city']=us.name.copy()\n",
    "us['st']=us.admin1_code.copy()\n",
    "us['state']=us.st.map(states)\n",
    "us[us.columns[-3:]].head()"
   ]
  },
  {
   "cell_type": "code",
   "execution_count": 16,
   "metadata": {},
   "outputs": [
    {
     "output_type": "stream",
     "name": "stdout",
     "text": [
      "\n"
     ]
    }
   ],
   "source": [
    "print('')"
   ]
  },
  {
   "cell_type": "code",
   "execution_count": 18,
   "metadata": {},
   "outputs": [],
   "source": [
    "city_plus_state=[]\n",
    "for c ,state,st in zip(us.city,us.state,us.st):\n",
    "    if c not in vocab:\n",
    "        continue\n",
    "    row=[]\n",
    "    if state in vocab:\n",
    "        row.extend(wv[c]+wv[state])\n",
    "    else:\n",
    "        row.extend(wv[c]+wv[st])\n",
    "    city_plus_state.append(row)\n",
    "us_300d=pd.DataFrame(city_plus_state)\n"
   ]
  },
  {
   "cell_type": "code",
   "execution_count": 21,
   "metadata": {},
   "outputs": [
    {
     "output_type": "execute_result",
     "data": {
      "text/plain": [
       "              Unnamed: 0         1         2         3         4         5  \\\n",
       "0             Agoura, CA -0.302979  0.397949  0.121094  0.094299 -0.329102   \n",
       "1             Midway, TN  0.491699 -0.008057 -0.141209  0.549072 -0.168823   \n",
       "2       Los Serranos, CA -0.189697  0.245850  0.526367  0.184998 -0.465332   \n",
       "3           Carville, LA  0.337402  0.293945 -0.372314  0.600586 -0.417969   \n",
       "4       Johnsonville, TN  0.179199  0.018311 -0.312108  0.642578 -0.165161   \n",
       "...                  ...       ...       ...       ...       ...       ...   \n",
       "8856          Nevada, MO  0.654785  0.001465  0.336670  0.852539 -0.527832   \n",
       "8857  Southern Pines, NC  0.343933 -1.038086 -0.327881  0.418945  0.034180   \n",
       "8858           Pratt, KS  0.124512  0.200989 -0.082397  0.342773 -0.560303   \n",
       "8859    Saint Joseph, MO  0.414062  0.251953  0.245850  0.966797 -0.039062   \n",
       "8860      Washington, PA  0.287598 -0.231445 -0.211182  0.105835 -0.222168   \n",
       "\n",
       "             6         7         8         9  ...       292       293  \\\n",
       "0    -0.155029 -0.258209  0.112183 -0.176270  ...  0.078125  0.511230   \n",
       "1    -0.031250 -0.488159  0.125000 -0.665039  ...  0.509033 -0.611328   \n",
       "2    -0.383789 -0.476318 -0.017212  0.019043  ... -0.120361  0.417114   \n",
       "3     0.232422 -0.867188 -0.368164 -0.072998  ...  0.016113  0.164673   \n",
       "4     0.359375 -0.639526 -0.097656 -0.883789  ...  0.554932 -1.123047   \n",
       "...        ...       ...       ...       ...  ...       ...       ...   \n",
       "8856 -0.027588 -0.374756 -0.025879  0.099731  ...  0.879883 -0.308548   \n",
       "8857  0.152710 -1.039062 -0.065430 -0.881836  ... -0.019531 -0.935547   \n",
       "8858 -0.358185 -0.347656 -0.064941 -0.038086  ...  0.594727 -0.104858   \n",
       "8859 -0.226562 -0.321442 -0.077637  0.139282  ...  0.937500 -0.492142   \n",
       "8860 -0.465332 -0.541016  0.107361  0.062500  ... -0.293457 -0.390137   \n",
       "\n",
       "           294       295       296       297       298       299       300  \\\n",
       "0     0.602295 -0.073242 -0.347900 -0.828125  0.183594 -0.296509  0.256653   \n",
       "1    -0.126770  0.051270 -0.964844 -0.222733 -0.158691 -0.089466  0.297852   \n",
       "2     0.836914  0.254883 -0.266846 -0.458130  0.180176 -0.288513  0.132629   \n",
       "3     0.015869  0.060547 -0.056641 -0.000488 -0.695312 -0.387238  0.410522   \n",
       "4    -0.244446 -0.370117 -1.250000 -0.413086  0.010498 -0.176270  0.417480   \n",
       "...        ...       ...       ...       ...       ...       ...       ...   \n",
       "8856  0.368164  0.367188 -0.676147 -0.181259  0.399414 -0.440552  0.649292   \n",
       "8857 -0.073730  0.039551 -1.001953 -0.343506  0.237793  0.097656  0.102051   \n",
       "8858  0.314941  0.076294 -0.657227 -0.581055  0.787109 -0.475098  0.105469   \n",
       "8859 -0.115234  0.159180 -0.633423 -0.176376  0.200806 -0.230103  1.031250   \n",
       "8860  0.208496 -0.004272 -0.277100 -0.063721 -0.124756  0.460205 -0.080566   \n",
       "\n",
       "                    name  \n",
       "0             Agoura, CA  \n",
       "1             Midway, TN  \n",
       "2       Los Serranos, CA  \n",
       "3           Carville, LA  \n",
       "4       Johnsonville, TN  \n",
       "...                  ...  \n",
       "8856          Nevada, MO  \n",
       "8857  Southern Pines, NC  \n",
       "8858           Pratt, KS  \n",
       "8859    Saint Joseph, MO  \n",
       "8860      Washington, PA  \n",
       "\n",
       "[8861 rows x 302 columns]"
      ],
      "text/html": "<div>\n<style scoped>\n    .dataframe tbody tr th:only-of-type {\n        vertical-align: middle;\n    }\n\n    .dataframe tbody tr th {\n        vertical-align: top;\n    }\n\n    .dataframe thead th {\n        text-align: right;\n    }\n</style>\n<table border=\"1\" class=\"dataframe\">\n  <thead>\n    <tr style=\"text-align: right;\">\n      <th></th>\n      <th>Unnamed: 0</th>\n      <th>1</th>\n      <th>2</th>\n      <th>3</th>\n      <th>4</th>\n      <th>5</th>\n      <th>6</th>\n      <th>7</th>\n      <th>8</th>\n      <th>9</th>\n      <th>...</th>\n      <th>292</th>\n      <th>293</th>\n      <th>294</th>\n      <th>295</th>\n      <th>296</th>\n      <th>297</th>\n      <th>298</th>\n      <th>299</th>\n      <th>300</th>\n      <th>name</th>\n    </tr>\n  </thead>\n  <tbody>\n    <tr>\n      <th>0</th>\n      <td>Agoura, CA</td>\n      <td>-0.302979</td>\n      <td>0.397949</td>\n      <td>0.121094</td>\n      <td>0.094299</td>\n      <td>-0.329102</td>\n      <td>-0.155029</td>\n      <td>-0.258209</td>\n      <td>0.112183</td>\n      <td>-0.176270</td>\n      <td>...</td>\n      <td>0.078125</td>\n      <td>0.511230</td>\n      <td>0.602295</td>\n      <td>-0.073242</td>\n      <td>-0.347900</td>\n      <td>-0.828125</td>\n      <td>0.183594</td>\n      <td>-0.296509</td>\n      <td>0.256653</td>\n      <td>Agoura, CA</td>\n    </tr>\n    <tr>\n      <th>1</th>\n      <td>Midway, TN</td>\n      <td>0.491699</td>\n      <td>-0.008057</td>\n      <td>-0.141209</td>\n      <td>0.549072</td>\n      <td>-0.168823</td>\n      <td>-0.031250</td>\n      <td>-0.488159</td>\n      <td>0.125000</td>\n      <td>-0.665039</td>\n      <td>...</td>\n      <td>0.509033</td>\n      <td>-0.611328</td>\n      <td>-0.126770</td>\n      <td>0.051270</td>\n      <td>-0.964844</td>\n      <td>-0.222733</td>\n      <td>-0.158691</td>\n      <td>-0.089466</td>\n      <td>0.297852</td>\n      <td>Midway, TN</td>\n    </tr>\n    <tr>\n      <th>2</th>\n      <td>Los Serranos, CA</td>\n      <td>-0.189697</td>\n      <td>0.245850</td>\n      <td>0.526367</td>\n      <td>0.184998</td>\n      <td>-0.465332</td>\n      <td>-0.383789</td>\n      <td>-0.476318</td>\n      <td>-0.017212</td>\n      <td>0.019043</td>\n      <td>...</td>\n      <td>-0.120361</td>\n      <td>0.417114</td>\n      <td>0.836914</td>\n      <td>0.254883</td>\n      <td>-0.266846</td>\n      <td>-0.458130</td>\n      <td>0.180176</td>\n      <td>-0.288513</td>\n      <td>0.132629</td>\n      <td>Los Serranos, CA</td>\n    </tr>\n    <tr>\n      <th>3</th>\n      <td>Carville, LA</td>\n      <td>0.337402</td>\n      <td>0.293945</td>\n      <td>-0.372314</td>\n      <td>0.600586</td>\n      <td>-0.417969</td>\n      <td>0.232422</td>\n      <td>-0.867188</td>\n      <td>-0.368164</td>\n      <td>-0.072998</td>\n      <td>...</td>\n      <td>0.016113</td>\n      <td>0.164673</td>\n      <td>0.015869</td>\n      <td>0.060547</td>\n      <td>-0.056641</td>\n      <td>-0.000488</td>\n      <td>-0.695312</td>\n      <td>-0.387238</td>\n      <td>0.410522</td>\n      <td>Carville, LA</td>\n    </tr>\n    <tr>\n      <th>4</th>\n      <td>Johnsonville, TN</td>\n      <td>0.179199</td>\n      <td>0.018311</td>\n      <td>-0.312108</td>\n      <td>0.642578</td>\n      <td>-0.165161</td>\n      <td>0.359375</td>\n      <td>-0.639526</td>\n      <td>-0.097656</td>\n      <td>-0.883789</td>\n      <td>...</td>\n      <td>0.554932</td>\n      <td>-1.123047</td>\n      <td>-0.244446</td>\n      <td>-0.370117</td>\n      <td>-1.250000</td>\n      <td>-0.413086</td>\n      <td>0.010498</td>\n      <td>-0.176270</td>\n      <td>0.417480</td>\n      <td>Johnsonville, TN</td>\n    </tr>\n    <tr>\n      <th>...</th>\n      <td>...</td>\n      <td>...</td>\n      <td>...</td>\n      <td>...</td>\n      <td>...</td>\n      <td>...</td>\n      <td>...</td>\n      <td>...</td>\n      <td>...</td>\n      <td>...</td>\n      <td>...</td>\n      <td>...</td>\n      <td>...</td>\n      <td>...</td>\n      <td>...</td>\n      <td>...</td>\n      <td>...</td>\n      <td>...</td>\n      <td>...</td>\n      <td>...</td>\n      <td>...</td>\n    </tr>\n    <tr>\n      <th>8856</th>\n      <td>Nevada, MO</td>\n      <td>0.654785</td>\n      <td>0.001465</td>\n      <td>0.336670</td>\n      <td>0.852539</td>\n      <td>-0.527832</td>\n      <td>-0.027588</td>\n      <td>-0.374756</td>\n      <td>-0.025879</td>\n      <td>0.099731</td>\n      <td>...</td>\n      <td>0.879883</td>\n      <td>-0.308548</td>\n      <td>0.368164</td>\n      <td>0.367188</td>\n      <td>-0.676147</td>\n      <td>-0.181259</td>\n      <td>0.399414</td>\n      <td>-0.440552</td>\n      <td>0.649292</td>\n      <td>Nevada, MO</td>\n    </tr>\n    <tr>\n      <th>8857</th>\n      <td>Southern Pines, NC</td>\n      <td>0.343933</td>\n      <td>-1.038086</td>\n      <td>-0.327881</td>\n      <td>0.418945</td>\n      <td>0.034180</td>\n      <td>0.152710</td>\n      <td>-1.039062</td>\n      <td>-0.065430</td>\n      <td>-0.881836</td>\n      <td>...</td>\n      <td>-0.019531</td>\n      <td>-0.935547</td>\n      <td>-0.073730</td>\n      <td>0.039551</td>\n      <td>-1.001953</td>\n      <td>-0.343506</td>\n      <td>0.237793</td>\n      <td>0.097656</td>\n      <td>0.102051</td>\n      <td>Southern Pines, NC</td>\n    </tr>\n    <tr>\n      <th>8858</th>\n      <td>Pratt, KS</td>\n      <td>0.124512</td>\n      <td>0.200989</td>\n      <td>-0.082397</td>\n      <td>0.342773</td>\n      <td>-0.560303</td>\n      <td>-0.358185</td>\n      <td>-0.347656</td>\n      <td>-0.064941</td>\n      <td>-0.038086</td>\n      <td>...</td>\n      <td>0.594727</td>\n      <td>-0.104858</td>\n      <td>0.314941</td>\n      <td>0.076294</td>\n      <td>-0.657227</td>\n      <td>-0.581055</td>\n      <td>0.787109</td>\n      <td>-0.475098</td>\n      <td>0.105469</td>\n      <td>Pratt, KS</td>\n    </tr>\n    <tr>\n      <th>8859</th>\n      <td>Saint Joseph, MO</td>\n      <td>0.414062</td>\n      <td>0.251953</td>\n      <td>0.245850</td>\n      <td>0.966797</td>\n      <td>-0.039062</td>\n      <td>-0.226562</td>\n      <td>-0.321442</td>\n      <td>-0.077637</td>\n      <td>0.139282</td>\n      <td>...</td>\n      <td>0.937500</td>\n      <td>-0.492142</td>\n      <td>-0.115234</td>\n      <td>0.159180</td>\n      <td>-0.633423</td>\n      <td>-0.176376</td>\n      <td>0.200806</td>\n      <td>-0.230103</td>\n      <td>1.031250</td>\n      <td>Saint Joseph, MO</td>\n    </tr>\n    <tr>\n      <th>8860</th>\n      <td>Washington, PA</td>\n      <td>0.287598</td>\n      <td>-0.231445</td>\n      <td>-0.211182</td>\n      <td>0.105835</td>\n      <td>-0.222168</td>\n      <td>-0.465332</td>\n      <td>-0.541016</td>\n      <td>0.107361</td>\n      <td>0.062500</td>\n      <td>...</td>\n      <td>-0.293457</td>\n      <td>-0.390137</td>\n      <td>0.208496</td>\n      <td>-0.004272</td>\n      <td>-0.277100</td>\n      <td>-0.063721</td>\n      <td>-0.124756</td>\n      <td>0.460205</td>\n      <td>-0.080566</td>\n      <td>Washington, PA</td>\n    </tr>\n  </tbody>\n</table>\n<p>8861 rows × 302 columns</p>\n</div>"
     },
     "metadata": {},
     "execution_count": 21
    }
   ],
   "source": [
    "from sklearn.decomposition import PCA\n",
    "pca=PCA(n_components=2)\n",
    "us_300D=pd.read_csv('/home/oliver/data/cities_us_wordvectors.csv')\n",
    "us_300D\n"
   ]
  },
  {
   "cell_type": "code",
   "execution_count": 23,
   "metadata": {},
   "outputs": [],
   "source": [
    "us_2D=pca.fit_transform(us_300D.iloc[:,1:300])"
   ]
  },
  {
   "cell_type": "code",
   "execution_count": 24,
   "metadata": {},
   "outputs": [
    {
     "output_type": "execute_result",
     "data": {
      "text/plain": [
       "array([[ 5.24505635, -1.1528199 ],\n",
       "       [-0.99414028,  1.82371086],\n",
       "       [ 4.24101662, -0.9429509 ],\n",
       "       ...,\n",
       "       [-0.62077426, -0.15249719],\n",
       "       [-1.87320765, -0.78372379],\n",
       "       [-0.95432648, -1.17880479]])"
      ]
     },
     "metadata": {},
     "execution_count": 24
    }
   ],
   "source": [
    "us_2D"
   ]
  },
  {
   "cell_type": "code",
   "execution_count": 27,
   "metadata": {},
   "outputs": [
    {
     "output_type": "error",
     "ename": "ImportError",
     "evalue": "cannot import name '_plot_html' from 'plotly.offline.offline' (/home/oliver/anaconda3/lib/python3.8/site-packages/plotly/offline/offline.py)",
     "traceback": [
      "\u001b[0;31m---------------------------------------------------------------------------\u001b[0m",
      "\u001b[0;31mImportError\u001b[0m                               Traceback (most recent call last)",
      "\u001b[0;32m<ipython-input-27-53088965c89b>\u001b[0m in \u001b[0;36m<module>\u001b[0;34m\u001b[0m\n\u001b[1;32m      1\u001b[0m \u001b[0;32mimport\u001b[0m \u001b[0mseaborn\u001b[0m\u001b[0;34m\u001b[0m\u001b[0;34m\u001b[0m\u001b[0m\n\u001b[1;32m      2\u001b[0m \u001b[0;32mfrom\u001b[0m \u001b[0mmatplotlib\u001b[0m \u001b[0;32mimport\u001b[0m \u001b[0mpyplot\u001b[0m \u001b[0;32mas\u001b[0m \u001b[0mplt\u001b[0m\u001b[0;34m\u001b[0m\u001b[0;34m\u001b[0m\u001b[0m\n\u001b[0;32m----> 3\u001b[0;31m \u001b[0;32mfrom\u001b[0m \u001b[0mnlpia\u001b[0m\u001b[0;34m.\u001b[0m\u001b[0mplots\u001b[0m \u001b[0;32mimport\u001b[0m \u001b[0moffline_plotly_scatter_bubble\u001b[0m\u001b[0;34m\u001b[0m\u001b[0;34m\u001b[0m\u001b[0m\n\u001b[0m\u001b[1;32m      4\u001b[0m \u001b[0mdf\u001b[0m\u001b[0;34m=\u001b[0m\u001b[0mpd\u001b[0m\u001b[0;34m.\u001b[0m\u001b[0mread_csv\u001b[0m\u001b[0;34m(\u001b[0m\u001b[0;34m'/home/oliver/data/cities_us_wordvectors_pca2_meta.csv'\u001b[0m\u001b[0;34m)\u001b[0m\u001b[0;34m\u001b[0m\u001b[0;34m\u001b[0m\u001b[0m\n\u001b[1;32m      5\u001b[0m \u001b[0;34m\u001b[0m\u001b[0m\n",
      "\u001b[0;32m~/anaconda3/lib/python3.8/site-packages/nlpia/plots.py\u001b[0m in \u001b[0;36m<module>\u001b[0;34m\u001b[0m\n\u001b[1;32m     17\u001b[0m \u001b[0;32mexcept\u001b[0m \u001b[0mImportError\u001b[0m\u001b[0;34m:\u001b[0m\u001b[0;34m\u001b[0m\u001b[0;34m\u001b[0m\u001b[0m\n\u001b[1;32m     18\u001b[0m     \u001b[0;32mimport\u001b[0m \u001b[0mplotly\u001b[0m\u001b[0;34m.\u001b[0m\u001b[0mplotly\u001b[0m \u001b[0;32mas\u001b[0m \u001b[0mplotly\u001b[0m\u001b[0;34m\u001b[0m\u001b[0;34m\u001b[0m\u001b[0m\n\u001b[0;32m---> 19\u001b[0;31m \u001b[0;32mfrom\u001b[0m \u001b[0mplotly\u001b[0m\u001b[0;34m.\u001b[0m\u001b[0moffline\u001b[0m\u001b[0;34m.\u001b[0m\u001b[0moffline\u001b[0m \u001b[0;32mimport\u001b[0m \u001b[0m_plot_html\u001b[0m\u001b[0;34m\u001b[0m\u001b[0;34m\u001b[0m\u001b[0m\n\u001b[0m\u001b[1;32m     20\u001b[0m \u001b[0;32mfrom\u001b[0m \u001b[0mpugnlp\u001b[0m\u001b[0;34m.\u001b[0m\u001b[0mutil\u001b[0m \u001b[0;32mimport\u001b[0m \u001b[0mclean_columns\u001b[0m\u001b[0;34m\u001b[0m\u001b[0;34m\u001b[0m\u001b[0m\n\u001b[1;32m     21\u001b[0m \u001b[0;31m# from plotly import graph_objs  # Scatter, scatter.Marker, Layout, layout.YAxis, layout.XAxis\u001b[0m\u001b[0;34m\u001b[0m\u001b[0;34m\u001b[0m\u001b[0;34m\u001b[0m\u001b[0m\n",
      "\u001b[0;31mImportError\u001b[0m: cannot import name '_plot_html' from 'plotly.offline.offline' (/home/oliver/anaconda3/lib/python3.8/site-packages/plotly/offline/offline.py)"
     ]
    }
   ],
   "source": [
    "import seaborn\n",
    "from matplotlib import pyplot as plt\n",
    "from nlpia.plots import offline_plotly_scatter_bubble\n",
    "df=pd.read_csv('/home/oliver/data/cities_us_wordvectors_pca2_meta.csv')\n",
    "df = df.sort_values('population', ascending=False)[:10].copy()\n",
    "df[['x', 'y']] = - df[['x', 'y']]  # <1> flip East/West & North/South axes to match geography better\n",
    "html = offline_plotly_scatter_bubble(\n",
    "    df, x='x', y='y',\n",
    "    size_col=None, text_col='name', category_col=None,\n",
    "    xscale=None, yscale=None,  # 'log' or None\n",
    "    layout={}, marker={'sizeref': 3000})\n",
    "with open('wordmap.html', 'w') as fout:\n",
    "    fout.write(html)\n"
   ]
  },
  {
   "cell_type": "code",
   "execution_count": null,
   "metadata": {},
   "outputs": [],
   "source": []
  }
 ]
}