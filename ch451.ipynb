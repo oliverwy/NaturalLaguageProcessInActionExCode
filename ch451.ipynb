{
 "metadata": {
  "language_info": {
   "codemirror_mode": {
    "name": "ipython",
    "version": 3
   },
   "file_extension": ".py",
   "mimetype": "text/x-python",
   "name": "python",
   "nbconvert_exporter": "python",
   "pygments_lexer": "ipython3",
   "version": "3.8.5-final"
  },
  "orig_nbformat": 2,
  "kernelspec": {
   "name": "python3",
   "display_name": "Python 3",
   "language": "python"
  }
 },
 "nbformat": 4,
 "nbformat_minor": 2,
 "cells": [
  {
   "cell_type": "code",
   "execution_count": 1,
   "metadata": {},
   "outputs": [],
   "source": [
    "import pandas as pd\n",
    "from nlpia.data.loaders import get_data\n",
    "pd.options.display.width=120\n",
    "sms=get_data('sms-spam')\n",
    "index=['sms{}{}'.format(i,'!'*j) for (i,j) in zip(range(len(sms)),sms.spam)]\n",
    "sms.index=index\n",
    "from sklearn.feature_extraction.text import TfidfVectorizer\n",
    "from nltk.tokenize.casual import casual_tokenize\n",
    "tfidf=TfidfVectorizer(tokenizer=casual_tokenize)\n",
    "tfidf_docs=tfidf.fit_transform(raw_documents=sms.text).toarray()\n",
    "tfidf_docs=tfidf_docs-tfidf_docs.mean(axis=0)"
   ]
  },
  {
   "cell_type": "code",
   "execution_count": 2,
   "metadata": {},
   "outputs": [],
   "source": [
    "from sklearn.model_selection import train_test_split\n",
    "x_train,x_test,y_train,y_test=train_test_split(tfidf_docs,sms.spam.values,test_size=0.2,random_state=271828)\n"
   ]
  },
  {
   "cell_type": "code",
   "execution_count": 3,
   "metadata": {},
   "outputs": [],
   "source": [
    "from sklearn.discriminant_analysis import LinearDiscriminantAnalysis as LDA\n",
    "lda=LDA(n_components=1)"
   ]
  },
  {
   "cell_type": "code",
   "execution_count": 4,
   "metadata": {},
   "outputs": [
    {
     "output_type": "execute_result",
     "data": {
      "text/plain": [
       "LinearDiscriminantAnalysis(n_components=1)"
      ]
     },
     "metadata": {},
     "execution_count": 4
    }
   ],
   "source": [
    "lda.fit(x_train,y_train)"
   ]
  },
  {
   "cell_type": "code",
   "execution_count": 5,
   "metadata": {},
   "outputs": [
    {
     "output_type": "execute_result",
     "data": {
      "text/plain": [
       "1.0"
      ]
     },
     "metadata": {},
     "execution_count": 5
    }
   ],
   "source": [
    "round(float(lda.score(x_train,y_train)),3)\n"
   ]
  },
  {
   "cell_type": "code",
   "execution_count": 7,
   "metadata": {},
   "outputs": [
    {
     "output_type": "execute_result",
     "data": {
      "text/plain": [
       "0.764"
      ]
     },
     "metadata": {},
     "execution_count": 7
    }
   ],
   "source": [
    "round(float(lda.score(x_test,y_test)),3)"
   ]
  },
  {
   "cell_type": "code",
   "execution_count": 13,
   "metadata": {},
   "outputs": [],
   "source": [
    "tfidf_docs1=tfidf.fit_transform(raw_documents=sms.text).toarray()\n"
   ]
  },
  {
   "cell_type": "code",
   "execution_count": null,
   "metadata": {},
   "outputs": [],
   "source": [
    "tfidf_docs1"
   ]
  },
  {
   "cell_type": "code",
   "execution_count": 14,
   "metadata": {},
   "outputs": [
    {
     "output_type": "execute_result",
     "data": {
      "text/plain": [
       "(32, 9232)"
      ]
     },
     "metadata": {},
     "execution_count": 14
    }
   ],
   "source": [
    "from sklearn.decomposition import LatentDirichletAllocation as LDiA\n",
    "ldia=LDiA(n_components=32,learning_method='batch')\n",
    "ldia=ldia.fit(tfidf_docs1)\n",
    "ldia.components_.shape"
   ]
  },
  {
   "cell_type": "code",
   "execution_count": 16,
   "metadata": {},
   "outputs": [],
   "source": [
    "ldia_topic_vectors=ldia.transform(tfidf_docs1)\n",
    "columns32=['topic{}'.format(i) for i in range(ldia.n_components)]\n",
    "ldia_topic_vectors=pd.DataFrame(ldia_topic_vectors,index=index,columns=columns32)"
   ]
  },
  {
   "cell_type": "code",
   "execution_count": 17,
   "metadata": {},
   "outputs": [
    {
     "output_type": "execute_result",
     "data": {
      "text/plain": [
       "       topic0  topic1  topic2  topic3  topic4  topic5  topic6  topic7  topic8  topic9  ...  topic22  topic23  topic24  \\\n",
       "sms0    0.006   0.112   0.006   0.006   0.006   0.006   0.006   0.006   0.006   0.006  ...    0.006    0.006    0.329   \n",
       "sms1    0.009   0.009   0.009   0.009   0.009   0.009   0.009   0.009   0.009   0.009  ...    0.009    0.009    0.009   \n",
       "sms2!   0.005   0.005   0.005   0.005   0.005   0.005   0.005   0.005   0.005   0.005  ...    0.005    0.005    0.005   \n",
       "sms3    0.008   0.759   0.008   0.008   0.008   0.008   0.008   0.008   0.008   0.008  ...    0.008    0.008    0.008   \n",
       "sms4    0.007   0.007   0.174   0.007   0.007   0.007   0.007   0.007   0.007   0.007  ...    0.007    0.007    0.007   \n",
       "\n",
       "       topic25  topic26  topic27  topic28  topic29  topic30  topic31  \n",
       "sms0     0.006    0.006    0.006    0.006    0.006    0.006    0.006  \n",
       "sms1     0.009    0.009    0.009    0.009    0.009    0.009    0.284  \n",
       "sms2!    0.005    0.005    0.005    0.005    0.005    0.005    0.005  \n",
       "sms3     0.008    0.008    0.008    0.008    0.008    0.008    0.008  \n",
       "sms4     0.007    0.007    0.007    0.007    0.007    0.007    0.007  \n",
       "\n",
       "[5 rows x 32 columns]"
      ],
      "text/html": "<div>\n<style scoped>\n    .dataframe tbody tr th:only-of-type {\n        vertical-align: middle;\n    }\n\n    .dataframe tbody tr th {\n        vertical-align: top;\n    }\n\n    .dataframe thead th {\n        text-align: right;\n    }\n</style>\n<table border=\"1\" class=\"dataframe\">\n  <thead>\n    <tr style=\"text-align: right;\">\n      <th></th>\n      <th>topic0</th>\n      <th>topic1</th>\n      <th>topic2</th>\n      <th>topic3</th>\n      <th>topic4</th>\n      <th>topic5</th>\n      <th>topic6</th>\n      <th>topic7</th>\n      <th>topic8</th>\n      <th>topic9</th>\n      <th>...</th>\n      <th>topic22</th>\n      <th>topic23</th>\n      <th>topic24</th>\n      <th>topic25</th>\n      <th>topic26</th>\n      <th>topic27</th>\n      <th>topic28</th>\n      <th>topic29</th>\n      <th>topic30</th>\n      <th>topic31</th>\n    </tr>\n  </thead>\n  <tbody>\n    <tr>\n      <th>sms0</th>\n      <td>0.006</td>\n      <td>0.112</td>\n      <td>0.006</td>\n      <td>0.006</td>\n      <td>0.006</td>\n      <td>0.006</td>\n      <td>0.006</td>\n      <td>0.006</td>\n      <td>0.006</td>\n      <td>0.006</td>\n      <td>...</td>\n      <td>0.006</td>\n      <td>0.006</td>\n      <td>0.329</td>\n      <td>0.006</td>\n      <td>0.006</td>\n      <td>0.006</td>\n      <td>0.006</td>\n      <td>0.006</td>\n      <td>0.006</td>\n      <td>0.006</td>\n    </tr>\n    <tr>\n      <th>sms1</th>\n      <td>0.009</td>\n      <td>0.009</td>\n      <td>0.009</td>\n      <td>0.009</td>\n      <td>0.009</td>\n      <td>0.009</td>\n      <td>0.009</td>\n      <td>0.009</td>\n      <td>0.009</td>\n      <td>0.009</td>\n      <td>...</td>\n      <td>0.009</td>\n      <td>0.009</td>\n      <td>0.009</td>\n      <td>0.009</td>\n      <td>0.009</td>\n      <td>0.009</td>\n      <td>0.009</td>\n      <td>0.009</td>\n      <td>0.009</td>\n      <td>0.284</td>\n    </tr>\n    <tr>\n      <th>sms2!</th>\n      <td>0.005</td>\n      <td>0.005</td>\n      <td>0.005</td>\n      <td>0.005</td>\n      <td>0.005</td>\n      <td>0.005</td>\n      <td>0.005</td>\n      <td>0.005</td>\n      <td>0.005</td>\n      <td>0.005</td>\n      <td>...</td>\n      <td>0.005</td>\n      <td>0.005</td>\n      <td>0.005</td>\n      <td>0.005</td>\n      <td>0.005</td>\n      <td>0.005</td>\n      <td>0.005</td>\n      <td>0.005</td>\n      <td>0.005</td>\n      <td>0.005</td>\n    </tr>\n    <tr>\n      <th>sms3</th>\n      <td>0.008</td>\n      <td>0.759</td>\n      <td>0.008</td>\n      <td>0.008</td>\n      <td>0.008</td>\n      <td>0.008</td>\n      <td>0.008</td>\n      <td>0.008</td>\n      <td>0.008</td>\n      <td>0.008</td>\n      <td>...</td>\n      <td>0.008</td>\n      <td>0.008</td>\n      <td>0.008</td>\n      <td>0.008</td>\n      <td>0.008</td>\n      <td>0.008</td>\n      <td>0.008</td>\n      <td>0.008</td>\n      <td>0.008</td>\n      <td>0.008</td>\n    </tr>\n    <tr>\n      <th>sms4</th>\n      <td>0.007</td>\n      <td>0.007</td>\n      <td>0.174</td>\n      <td>0.007</td>\n      <td>0.007</td>\n      <td>0.007</td>\n      <td>0.007</td>\n      <td>0.007</td>\n      <td>0.007</td>\n      <td>0.007</td>\n      <td>...</td>\n      <td>0.007</td>\n      <td>0.007</td>\n      <td>0.007</td>\n      <td>0.007</td>\n      <td>0.007</td>\n      <td>0.007</td>\n      <td>0.007</td>\n      <td>0.007</td>\n      <td>0.007</td>\n      <td>0.007</td>\n    </tr>\n  </tbody>\n</table>\n<p>5 rows × 32 columns</p>\n</div>"
     },
     "metadata": {},
     "execution_count": 17
    }
   ],
   "source": [
    "ldia_topic_vectors.round(3).head()"
   ]
  },
  {
   "cell_type": "code",
   "execution_count": 18,
   "metadata": {},
   "outputs": [],
   "source": [
    "x_train,x_test,y_train,y_test=train_test_split(ldia_topic_vectors,sms.spam.values,test_size=0.2,random_state=271828)"
   ]
  },
  {
   "cell_type": "code",
   "execution_count": 20,
   "metadata": {},
   "outputs": [
    {
     "output_type": "execute_result",
     "data": {
      "text/plain": [
       "(3869, 32)"
      ]
     },
     "metadata": {},
     "execution_count": 20
    }
   ],
   "source": [
    "lda=LDA(n_components=1)\n",
    "lda=lda.fit(x_train,y_train)\n",
    "sms['ldia32_spam']=lda.predict(ldia_topic_vectors)\n",
    "x_train.shape"
   ]
  },
  {
   "cell_type": "code",
   "execution_count": 21,
   "metadata": {},
   "outputs": [
    {
     "output_type": "execute_result",
     "data": {
      "text/plain": [
       "0.88"
      ]
     },
     "metadata": {},
     "execution_count": 21
    }
   ],
   "source": [
    "round(float(lda.score(x_train,y_train)),3)"
   ]
  },
  {
   "cell_type": "code",
   "execution_count": 22,
   "metadata": {},
   "outputs": [
    {
     "output_type": "execute_result",
     "data": {
      "text/plain": [
       "0.887"
      ]
     },
     "metadata": {},
     "execution_count": 22
    }
   ],
   "source": [
    "round(float(lda.score(x_test,y_test)),3)"
   ]
  },
  {
   "cell_type": "code",
   "execution_count": 33,
   "metadata": {},
   "outputs": [],
   "source": [
    "from sklearn.decomposition import TruncatedSVD\n",
    "svd=TruncatedSVD(n_components=32,n_iter=100)\n",
    "svd_topic_vectors=svd.fit_transform(tfidf_docs)"
   ]
  },
  {
   "cell_type": "code",
   "execution_count": 34,
   "metadata": {},
   "outputs": [
    {
     "output_type": "execute_result",
     "data": {
      "text/plain": [
       "array([[ 2.01169147e-01,  2.77055415e-03,  3.72344467e-02, ...,\n",
       "        -1.82370549e-02, -1.32671462e-02,  7.31354557e-03],\n",
       "       [ 4.04379632e-01, -9.38752878e-02, -7.75125402e-02, ...,\n",
       "        -3.35126700e-02, -3.50042061e-02, -1.16406022e-02],\n",
       "       [-3.04586449e-02, -4.81044287e-02,  9.01907210e-02, ...,\n",
       "         1.73558412e-02, -3.43129436e-02,  7.23867110e-03],\n",
       "       ...,\n",
       "       [ 7.67081459e-02,  4.33699856e-02, -1.93974884e-02, ...,\n",
       "         7.00217900e-03, -6.32667291e-02,  1.24800087e-01],\n",
       "       [-2.92720423e-02,  6.63187253e-03,  7.91678485e-04, ...,\n",
       "         8.78457059e-03,  1.75428931e-02,  1.71095244e-02],\n",
       "       [-3.77106661e-02, -7.77956669e-02,  1.60040534e-02, ...,\n",
       "         4.02972342e-04, -2.70474185e-02, -1.78457818e-02]])"
      ]
     },
     "metadata": {},
     "execution_count": 34
    }
   ],
   "source": [
    "svd_topic_vectors"
   ]
  },
  {
   "cell_type": "code",
   "execution_count": 35,
   "metadata": {},
   "outputs": [],
   "source": [
    "columns32=['topic{}'.format(i) for i in range(svd.n_components)]\n",
    "svd_topic_vectors=pd.DataFrame(svd_topic_vectors,index=index,columns=columns32)"
   ]
  },
  {
   "cell_type": "code",
   "execution_count": 36,
   "metadata": {},
   "outputs": [
    {
     "output_type": "execute_result",
     "data": {
      "text/plain": [
       "         topic0    topic1    topic2    topic3    topic4    topic5    topic6    topic7    topic8    topic9  ...  \\\n",
       "sms0   0.201169  0.002771  0.037234  0.010974 -0.019225 -0.052975  0.039145 -0.065587  0.011950 -0.082529  ...   \n",
       "sms1   0.404380 -0.093875 -0.077513  0.050889  0.100057  0.047101  0.022874  0.064961  0.023051 -0.023995  ...   \n",
       "sms2! -0.030459 -0.048104  0.090191 -0.067057  0.090746 -0.043146 -0.000284 -0.000999 -0.057004  0.051373  ...   \n",
       "sms3   0.329048 -0.032768 -0.034568 -0.015813  0.052228  0.055726 -0.165577 -0.074179  0.062529 -0.107633  ...   \n",
       "sms4   0.002159  0.030857  0.038316  0.033874 -0.074668 -0.092527 -0.043713  0.061275 -0.044636  0.028772  ...   \n",
       "\n",
       "        topic22   topic23   topic24   topic25   topic26   topic27   topic28   topic29   topic30   topic31  \n",
       "sms0  -0.024518 -0.016674  0.001497  0.002929 -0.013521 -0.047072  0.061672 -0.018237 -0.013267  0.007314  \n",
       "sms1   0.006008  0.016093 -0.009995  0.021246 -0.006441  0.021068  0.014928 -0.033513 -0.035004 -0.011641  \n",
       "sms2! -0.029997 -0.004728 -0.020204 -0.026034  0.008701  0.035509 -0.031936  0.017356 -0.034313  0.007239  \n",
       "sms3  -0.000908 -0.009640 -0.038639  0.004286 -0.004476 -0.028598 -0.050049 -0.070882 -0.052402 -0.035095  \n",
       "sms4  -0.076065  0.021299 -0.054650  0.038878 -0.008421 -0.028016 -0.016697 -0.020853  0.044163  0.039013  \n",
       "\n",
       "[5 rows x 32 columns]"
      ],
      "text/html": "<div>\n<style scoped>\n    .dataframe tbody tr th:only-of-type {\n        vertical-align: middle;\n    }\n\n    .dataframe tbody tr th {\n        vertical-align: top;\n    }\n\n    .dataframe thead th {\n        text-align: right;\n    }\n</style>\n<table border=\"1\" class=\"dataframe\">\n  <thead>\n    <tr style=\"text-align: right;\">\n      <th></th>\n      <th>topic0</th>\n      <th>topic1</th>\n      <th>topic2</th>\n      <th>topic3</th>\n      <th>topic4</th>\n      <th>topic5</th>\n      <th>topic6</th>\n      <th>topic7</th>\n      <th>topic8</th>\n      <th>topic9</th>\n      <th>...</th>\n      <th>topic22</th>\n      <th>topic23</th>\n      <th>topic24</th>\n      <th>topic25</th>\n      <th>topic26</th>\n      <th>topic27</th>\n      <th>topic28</th>\n      <th>topic29</th>\n      <th>topic30</th>\n      <th>topic31</th>\n    </tr>\n  </thead>\n  <tbody>\n    <tr>\n      <th>sms0</th>\n      <td>0.201169</td>\n      <td>0.002771</td>\n      <td>0.037234</td>\n      <td>0.010974</td>\n      <td>-0.019225</td>\n      <td>-0.052975</td>\n      <td>0.039145</td>\n      <td>-0.065587</td>\n      <td>0.011950</td>\n      <td>-0.082529</td>\n      <td>...</td>\n      <td>-0.024518</td>\n      <td>-0.016674</td>\n      <td>0.001497</td>\n      <td>0.002929</td>\n      <td>-0.013521</td>\n      <td>-0.047072</td>\n      <td>0.061672</td>\n      <td>-0.018237</td>\n      <td>-0.013267</td>\n      <td>0.007314</td>\n    </tr>\n    <tr>\n      <th>sms1</th>\n      <td>0.404380</td>\n      <td>-0.093875</td>\n      <td>-0.077513</td>\n      <td>0.050889</td>\n      <td>0.100057</td>\n      <td>0.047101</td>\n      <td>0.022874</td>\n      <td>0.064961</td>\n      <td>0.023051</td>\n      <td>-0.023995</td>\n      <td>...</td>\n      <td>0.006008</td>\n      <td>0.016093</td>\n      <td>-0.009995</td>\n      <td>0.021246</td>\n      <td>-0.006441</td>\n      <td>0.021068</td>\n      <td>0.014928</td>\n      <td>-0.033513</td>\n      <td>-0.035004</td>\n      <td>-0.011641</td>\n    </tr>\n    <tr>\n      <th>sms2!</th>\n      <td>-0.030459</td>\n      <td>-0.048104</td>\n      <td>0.090191</td>\n      <td>-0.067057</td>\n      <td>0.090746</td>\n      <td>-0.043146</td>\n      <td>-0.000284</td>\n      <td>-0.000999</td>\n      <td>-0.057004</td>\n      <td>0.051373</td>\n      <td>...</td>\n      <td>-0.029997</td>\n      <td>-0.004728</td>\n      <td>-0.020204</td>\n      <td>-0.026034</td>\n      <td>0.008701</td>\n      <td>0.035509</td>\n      <td>-0.031936</td>\n      <td>0.017356</td>\n      <td>-0.034313</td>\n      <td>0.007239</td>\n    </tr>\n    <tr>\n      <th>sms3</th>\n      <td>0.329048</td>\n      <td>-0.032768</td>\n      <td>-0.034568</td>\n      <td>-0.015813</td>\n      <td>0.052228</td>\n      <td>0.055726</td>\n      <td>-0.165577</td>\n      <td>-0.074179</td>\n      <td>0.062529</td>\n      <td>-0.107633</td>\n      <td>...</td>\n      <td>-0.000908</td>\n      <td>-0.009640</td>\n      <td>-0.038639</td>\n      <td>0.004286</td>\n      <td>-0.004476</td>\n      <td>-0.028598</td>\n      <td>-0.050049</td>\n      <td>-0.070882</td>\n      <td>-0.052402</td>\n      <td>-0.035095</td>\n    </tr>\n    <tr>\n      <th>sms4</th>\n      <td>0.002159</td>\n      <td>0.030857</td>\n      <td>0.038316</td>\n      <td>0.033874</td>\n      <td>-0.074668</td>\n      <td>-0.092527</td>\n      <td>-0.043713</td>\n      <td>0.061275</td>\n      <td>-0.044636</td>\n      <td>0.028772</td>\n      <td>...</td>\n      <td>-0.076065</td>\n      <td>0.021299</td>\n      <td>-0.054650</td>\n      <td>0.038878</td>\n      <td>-0.008421</td>\n      <td>-0.028016</td>\n      <td>-0.016697</td>\n      <td>-0.020853</td>\n      <td>0.044163</td>\n      <td>0.039013</td>\n    </tr>\n  </tbody>\n</table>\n<p>5 rows × 32 columns</p>\n</div>"
     },
     "metadata": {},
     "execution_count": 36
    }
   ],
   "source": [
    "svd_topic_vectors.head()"
   ]
  },
  {
   "cell_type": "code",
   "execution_count": 37,
   "metadata": {},
   "outputs": [],
   "source": [
    "x_train,x_test,y_train,y_test=train_test_split(svd_topic_vectors,sms.spam.values,test_size=0.2,random_state=271828)"
   ]
  },
  {
   "cell_type": "code",
   "execution_count": 38,
   "metadata": {},
   "outputs": [
    {
     "output_type": "execute_result",
     "data": {
      "text/plain": [
       "(3869, 32)"
      ]
     },
     "metadata": {},
     "execution_count": 38
    }
   ],
   "source": [
    "lda=LDA(n_components=1)\n",
    "lda=lda.fit(x_train,y_train)\n",
    "sms['svd_spam']=lda.predict(svd_topic_vectors)\n",
    "x_train.shape"
   ]
  },
  {
   "cell_type": "code",
   "execution_count": 39,
   "metadata": {},
   "outputs": [
    {
     "output_type": "execute_result",
     "data": {
      "text/plain": [
       "0.965"
      ]
     },
     "metadata": {},
     "execution_count": 39
    }
   ],
   "source": [
    "round(float(lda.score(x_train,y_train)),3)"
   ]
  },
  {
   "cell_type": "code",
   "execution_count": 40,
   "metadata": {},
   "outputs": [
    {
     "output_type": "execute_result",
     "data": {
      "text/plain": [
       "0.973"
      ]
     },
     "metadata": {},
     "execution_count": 40
    }
   ],
   "source": [
    "round(float(lda.score(x_test,y_test)),3)"
   ]
  },
  {
   "cell_type": "code",
   "execution_count": 41,
   "metadata": {},
   "outputs": [
    {
     "output_type": "execute_result",
     "data": {
      "text/plain": [
       "svd_spam     0    1\n",
       "spam               \n",
       "0         4164   35\n",
       "1          125  513"
      ],
      "text/html": "<div>\n<style scoped>\n    .dataframe tbody tr th:only-of-type {\n        vertical-align: middle;\n    }\n\n    .dataframe tbody tr th {\n        vertical-align: top;\n    }\n\n    .dataframe thead th {\n        text-align: right;\n    }\n</style>\n<table border=\"1\" class=\"dataframe\">\n  <thead>\n    <tr style=\"text-align: right;\">\n      <th>svd_spam</th>\n      <th>0</th>\n      <th>1</th>\n    </tr>\n    <tr>\n      <th>spam</th>\n      <th></th>\n      <th></th>\n    </tr>\n  </thead>\n  <tbody>\n    <tr>\n      <th>0</th>\n      <td>4164</td>\n      <td>35</td>\n    </tr>\n    <tr>\n      <th>1</th>\n      <td>125</td>\n      <td>513</td>\n    </tr>\n  </tbody>\n</table>\n</div>"
     },
     "metadata": {},
     "execution_count": 41
    }
   ],
   "source": [
    "from pugnlp.stats import Confusion\n",
    "Confusion(sms['spam svd_spam'.split()])"
   ]
  },
  {
   "cell_type": "code",
   "execution_count": null,
   "metadata": {},
   "outputs": [],
   "source": []
  }
 ]
}