{
 "metadata": {
  "language_info": {
   "codemirror_mode": {
    "name": "ipython",
    "version": 3
   },
   "file_extension": ".py",
   "mimetype": "text/x-python",
   "name": "python",
   "nbconvert_exporter": "python",
   "pygments_lexer": "ipython3",
   "version": "3.8.5-final"
  },
  "orig_nbformat": 2,
  "kernelspec": {
   "name": "python3",
   "display_name": "Python 3",
   "language": "python"
  }
 },
 "nbformat": 4,
 "nbformat_minor": 2,
 "cells": [
  {
   "cell_type": "code",
   "execution_count": 1,
   "metadata": {},
   "outputs": [
    {
     "output_type": "execute_result",
     "data": {
      "text/plain": [
       "{'cat': 0.4484493901405543,\n",
       " 'dog': 0.7004124484277804,\n",
       " 'apple': 0.9642775099935134,\n",
       " 'lion': 0.8590614411563071,\n",
       " 'NYC': 0.4497812488383808,\n",
       " 'love': 0.1279547049841938}"
      ]
     },
     "metadata": {},
     "execution_count": 1
    }
   ],
   "source": [
    "import numpy as np\n",
    "topic={}\n",
    "tfidf=dict(list(zip('cat dog apple lion NYC love'.split(),np.random.rand(6))))\n",
    "tfidf"
   ]
  },
  {
   "cell_type": "code",
   "execution_count": 2,
   "metadata": {},
   "outputs": [],
   "source": [
    "topic['petness']=(.3*tfidf['cat']+.3*tfidf['dog']+0*tfidf['apple']+0*tfidf['lion']-.2*tfidf['NYC']+.2*tfidf['love'])\n",
    "topic['animalness']=(.1*tfidf['cat']+.1*tfidf['dog']-0.1*tfidf['apple']+0.5*tfidf['lion']-.1*tfidf['NYC']+.1*tfidf['love'])\n",
    "topic['cityness']=(0*tfidf['cat']-.1*tfidf['dog']+0.2*tfidf['apple']-0.1*tfidf['lion']+.5*tfidf['NYC']+.1*tfidf['love'])"
   ]
  },
  {
   "cell_type": "code",
   "execution_count": 3,
   "metadata": {},
   "outputs": [
    {
     "output_type": "execute_result",
     "data": {
      "text/plain": [
       "{'petness': 0.28029324279966306,\n",
       " 'animalness': 0.415806499050217,\n",
       " 'cityness': 0.27459420795790374}"
      ]
     },
     "metadata": {},
     "execution_count": 3
    }
   ],
   "source": [
    "topic"
   ]
  },
  {
   "cell_type": "code",
   "execution_count": 4,
   "metadata": {},
   "outputs": [],
   "source": [
    "word_vector={}\n",
    "word_vector['cat']=.3*topic['petness']+0.1*topic['animalness']+0.0*topic['cityness']\n",
    "word_vector['dog']=.3*topic['petness']+0.1*topic['animalness']-0.1*topic['cityness']\n",
    "word_vector['apple']=0*topic['petness']-0.1*topic['animalness']+0.2*topic['cityness']\n",
    "word_vector['lion']=.0*topic['petness']+0.5*topic['animalness']-0.1*topic['cityness']\n",
    "word_vector['NYC']=-0.2*topic['petness']+0.1*topic['animalness']+0.5*topic['cityness']\n",
    "word_vector['love']=.2*topic['petness'] -0.1*topic['animalness']+0.1*topic['cityness']"
   ]
  },
  {
   "cell_type": "code",
   "execution_count": 5,
   "metadata": {},
   "outputs": [
    {
     "output_type": "execute_result",
     "data": {
      "text/plain": [
       "{'cat': 0.1256686227449206,\n",
       " 'dog': 0.09820920194913023,\n",
       " 'apple': 0.013338191686559052,\n",
       " 'lion': 0.18044382872931813,\n",
       " 'NYC': 0.12281910532404094,\n",
       " 'love': 0.04193741945070129}"
      ]
     },
     "metadata": {},
     "execution_count": 5
    }
   ],
   "source": [
    "word_vector"
   ]
  },
  {
   "cell_type": "code",
   "execution_count": 6,
   "metadata": {},
   "outputs": [
    {
     "output_type": "stream",
     "name": "stdout",
     "text": [
      "      spam                                               text\n0        0  Go until jurong point, crazy.. Available only ...\n1        0                      Ok lar... Joking wif u oni...\n2        1  Free entry in 2 a wkly comp to win FA Cup fina...\n3        0  U dun say so early hor... U c already then say...\n4        0  Nah I don't think he goes to usf, he lives aro...\n...    ...                                                ...\n4832     1  This is the 2nd time we have tried 2 contact u...\n4833     0               Will ü b going to esplanade fr home?\n4834     0  Pity, * was in mood for that. So...any other s...\n4835     0  The guy did some bitching but I acted like i'd...\n4836     0                         Rofl. Its true to its name\n\n[4837 rows x 2 columns]\n"
     ]
    },
    {
     "output_type": "execute_result",
     "data": {
      "text/plain": [
       "4837"
      ]
     },
     "metadata": {},
     "execution_count": 6
    }
   ],
   "source": [
    "import pandas as pd\n",
    "from nlpia.data.loaders import get_data\n",
    "pd.options.display.width=120\n",
    "sms=get_data('sms-spam')\n",
    "print(sms)\n",
    "index=['sms{}{}'.format(i,'!'*j) for (i,j) in zip(range(len(sms)),sms.spam)]\n",
    "sms=pd.DataFrame(sms.values,columns=sms.columns,index=index)\n",
    "sms['spam']=sms.spam.astype(int)\n",
    "len(sms)"
   ]
  },
  {
   "cell_type": "code",
   "execution_count": 7,
   "metadata": {},
   "outputs": [
    {
     "output_type": "execute_result",
     "data": {
      "text/plain": [
       "638"
      ]
     },
     "metadata": {},
     "execution_count": 7
    }
   ],
   "source": [
    "sms.spam.sum()\n"
   ]
  },
  {
   "cell_type": "code",
   "execution_count": 8,
   "metadata": {},
   "outputs": [
    {
     "output_type": "execute_result",
     "data": {
      "text/plain": [
       "       spam                                               text\n",
       "sms0      0  Go until jurong point, crazy.. Available only ...\n",
       "sms1      0                      Ok lar... Joking wif u oni...\n",
       "sms2!     1  Free entry in 2 a wkly comp to win FA Cup fina...\n",
       "sms3      0  U dun say so early hor... U c already then say...\n",
       "sms4      0  Nah I don't think he goes to usf, he lives aro...\n",
       "sms5!     1  FreeMsg Hey there darling it's been 3 week's n...\n",
       "sms6      0  Even my brother is not like to speak with me. ...\n",
       "sms7      0  As per your request 'Melle Melle (Oru Minnamin...\n",
       "sms8!     1  WINNER!! As a valued network customer you have...\n",
       "sms9!     1  Had your mobile 11 months or more? U R entitle..."
      ],
      "text/html": "<div>\n<style scoped>\n    .dataframe tbody tr th:only-of-type {\n        vertical-align: middle;\n    }\n\n    .dataframe tbody tr th {\n        vertical-align: top;\n    }\n\n    .dataframe thead th {\n        text-align: right;\n    }\n</style>\n<table border=\"1\" class=\"dataframe\">\n  <thead>\n    <tr style=\"text-align: right;\">\n      <th></th>\n      <th>spam</th>\n      <th>text</th>\n    </tr>\n  </thead>\n  <tbody>\n    <tr>\n      <th>sms0</th>\n      <td>0</td>\n      <td>Go until jurong point, crazy.. Available only ...</td>\n    </tr>\n    <tr>\n      <th>sms1</th>\n      <td>0</td>\n      <td>Ok lar... Joking wif u oni...</td>\n    </tr>\n    <tr>\n      <th>sms2!</th>\n      <td>1</td>\n      <td>Free entry in 2 a wkly comp to win FA Cup fina...</td>\n    </tr>\n    <tr>\n      <th>sms3</th>\n      <td>0</td>\n      <td>U dun say so early hor... U c already then say...</td>\n    </tr>\n    <tr>\n      <th>sms4</th>\n      <td>0</td>\n      <td>Nah I don't think he goes to usf, he lives aro...</td>\n    </tr>\n    <tr>\n      <th>sms5!</th>\n      <td>1</td>\n      <td>FreeMsg Hey there darling it's been 3 week's n...</td>\n    </tr>\n    <tr>\n      <th>sms6</th>\n      <td>0</td>\n      <td>Even my brother is not like to speak with me. ...</td>\n    </tr>\n    <tr>\n      <th>sms7</th>\n      <td>0</td>\n      <td>As per your request 'Melle Melle (Oru Minnamin...</td>\n    </tr>\n    <tr>\n      <th>sms8!</th>\n      <td>1</td>\n      <td>WINNER!! As a valued network customer you have...</td>\n    </tr>\n    <tr>\n      <th>sms9!</th>\n      <td>1</td>\n      <td>Had your mobile 11 months or more? U R entitle...</td>\n    </tr>\n  </tbody>\n</table>\n</div>"
     },
     "metadata": {},
     "execution_count": 8
    }
   ],
   "source": [
    "sms.head(10)"
   ]
  },
  {
   "cell_type": "code",
   "execution_count": 9,
   "metadata": {},
   "outputs": [],
   "source": [
    "from sklearn.feature_extraction.text import TfidfVectorizer\n",
    "from nltk.tokenize.casual import casual_tokenize\n",
    "tfidf_model=TfidfVectorizer(tokenizer=casual_tokenize)\n",
    "tfidf_docs=tfidf_model.fit_transform(raw_documents=sms.text).toarray()"
   ]
  },
  {
   "cell_type": "code",
   "execution_count": 10,
   "metadata": {},
   "outputs": [
    {
     "output_type": "execute_result",
     "data": {
      "text/plain": [
       "(4837, 9232)"
      ]
     },
     "metadata": {},
     "execution_count": 10
    }
   ],
   "source": [
    "tfidf_docs.shape"
   ]
  },
  {
   "cell_type": "code",
   "execution_count": 11,
   "metadata": {},
   "outputs": [
    {
     "output_type": "stream",
     "name": "stdout",
     "text": [
      "[0.06377591 0.0041675  0.00056204 ... 0.         0.         0.        ]\n"
     ]
    }
   ],
   "source": [
    "mask=sms.spam.astype(bool).values\n",
    "spam_centriod=tfidf_docs[mask].mean(axis=0) #正常信息的tfidf的均值\n",
    "print(spam_centriod)"
   ]
  },
  {
   "cell_type": "code",
   "execution_count": 12,
   "metadata": {},
   "outputs": [
    {
     "output_type": "execute_result",
     "data": {
      "text/plain": [
       "array([False, False,  True, ..., False, False, False])"
      ]
     },
     "metadata": {},
     "execution_count": 12
    }
   ],
   "source": [
    "mask"
   ]
  },
  {
   "cell_type": "code",
   "execution_count": 13,
   "metadata": {},
   "outputs": [
    {
     "output_type": "execute_result",
     "data": {
      "text/plain": [
       "array([1.98493115e-02, 6.09435187e-03, 1.77747817e-04, ...,\n",
       "       6.31869803e-05, 6.31869803e-05, 6.31869803e-05])"
      ]
     },
     "metadata": {},
     "execution_count": 13
    }
   ],
   "source": [
    "ham_centroid=tfidf_docs[~mask].mean(axis=0) #垃圾短信的均值\n",
    "ham_centroid"
   ]
  },
  {
   "cell_type": "code",
   "execution_count": 14,
   "metadata": {},
   "outputs": [
    {
     "output_type": "stream",
     "name": "stdout",
     "text": [
      "[ 0.04 -0.    0.   ... -0.   -0.   -0.  ]\n[0.06 0.   0.   ... 0.   0.   0.  ]\n[0.02 0.01 0.   ... 0.   0.   0.  ]\n"
     ]
    }
   ],
   "source": [
    "distance_vector=spam_centriod-ham_centroid\n",
    "spamminess_score=tfidf_docs.dot(distance_vector)\n",
    "print(distance_vector.round(2))\n",
    "print(spam_centriod.round(2))\n",
    "print(ham_centroid.round(2))"
   ]
  },
  {
   "cell_type": "code",
   "execution_count": 15,
   "metadata": {},
   "outputs": [
    {
     "output_type": "execute_result",
     "data": {
      "text/plain": [
       "array([-0.01, -0.02,  0.04, ..., -0.01, -0.  ,  0.  ])"
      ]
     },
     "metadata": {},
     "execution_count": 15
    }
   ],
   "source": [
    "spamminess_score.round(2)"
   ]
  },
  {
   "cell_type": "code",
   "execution_count": 16,
   "metadata": {},
   "outputs": [],
   "source": [
    "from sklearn.preprocessing import MinMaxScaler\n",
    "sms['lda_score']=MinMaxScaler().fit_transform(spamminess_score.reshape(-1,1))"
   ]
  },
  {
   "cell_type": "code",
   "execution_count": 17,
   "metadata": {},
   "outputs": [
    {
     "output_type": "execute_result",
     "data": {
      "text/plain": [
       "       spam                                               text  lda_score\n",
       "sms0      0  Go until jurong point, crazy.. Available only ...   0.227478\n",
       "sms1      0                      Ok lar... Joking wif u oni...   0.177888\n",
       "sms2!     1  Free entry in 2 a wkly comp to win FA Cup fina...   0.718785\n",
       "sms3      0  U dun say so early hor... U c already then say...   0.184565\n",
       "sms4      0  Nah I don't think he goes to usf, he lives aro...   0.286944\n",
       "sms5!     1  FreeMsg Hey there darling it's been 3 week's n...   0.548003"
      ],
      "text/html": "<div>\n<style scoped>\n    .dataframe tbody tr th:only-of-type {\n        vertical-align: middle;\n    }\n\n    .dataframe tbody tr th {\n        vertical-align: top;\n    }\n\n    .dataframe thead th {\n        text-align: right;\n    }\n</style>\n<table border=\"1\" class=\"dataframe\">\n  <thead>\n    <tr style=\"text-align: right;\">\n      <th></th>\n      <th>spam</th>\n      <th>text</th>\n      <th>lda_score</th>\n    </tr>\n  </thead>\n  <tbody>\n    <tr>\n      <th>sms0</th>\n      <td>0</td>\n      <td>Go until jurong point, crazy.. Available only ...</td>\n      <td>0.227478</td>\n    </tr>\n    <tr>\n      <th>sms1</th>\n      <td>0</td>\n      <td>Ok lar... Joking wif u oni...</td>\n      <td>0.177888</td>\n    </tr>\n    <tr>\n      <th>sms2!</th>\n      <td>1</td>\n      <td>Free entry in 2 a wkly comp to win FA Cup fina...</td>\n      <td>0.718785</td>\n    </tr>\n    <tr>\n      <th>sms3</th>\n      <td>0</td>\n      <td>U dun say so early hor... U c already then say...</td>\n      <td>0.184565</td>\n    </tr>\n    <tr>\n      <th>sms4</th>\n      <td>0</td>\n      <td>Nah I don't think he goes to usf, he lives aro...</td>\n      <td>0.286944</td>\n    </tr>\n    <tr>\n      <th>sms5!</th>\n      <td>1</td>\n      <td>FreeMsg Hey there darling it's been 3 week's n...</td>\n      <td>0.548003</td>\n    </tr>\n  </tbody>\n</table>\n</div>"
     },
     "metadata": {},
     "execution_count": 17
    }
   ],
   "source": [
    "sms.head(6)"
   ]
  },
  {
   "cell_type": "code",
   "execution_count": 18,
   "metadata": {},
   "outputs": [],
   "source": [
    "sms['lda_predict']=(sms['lda_score']>.5).astype(int)"
   ]
  },
  {
   "cell_type": "code",
   "execution_count": 19,
   "metadata": {},
   "outputs": [
    {
     "output_type": "execute_result",
     "data": {
      "text/plain": [
       "657"
      ]
     },
     "metadata": {},
     "execution_count": 19
    }
   ],
   "source": [
    "sum(sms['lda_predict']==1)"
   ]
  },
  {
   "cell_type": "code",
   "execution_count": 20,
   "metadata": {},
   "outputs": [
    {
     "output_type": "execute_result",
     "data": {
      "text/plain": [
       "       spam  lda_predict  lda_score\n",
       "sms0      0            0       0.23\n",
       "sms1      0            0       0.18\n",
       "sms2!     1            1       0.72\n",
       "sms3      0            0       0.18\n",
       "sms4      0            0       0.29\n",
       "sms5!     1            1       0.55"
      ],
      "text/html": "<div>\n<style scoped>\n    .dataframe tbody tr th:only-of-type {\n        vertical-align: middle;\n    }\n\n    .dataframe tbody tr th {\n        vertical-align: top;\n    }\n\n    .dataframe thead th {\n        text-align: right;\n    }\n</style>\n<table border=\"1\" class=\"dataframe\">\n  <thead>\n    <tr style=\"text-align: right;\">\n      <th></th>\n      <th>spam</th>\n      <th>lda_predict</th>\n      <th>lda_score</th>\n    </tr>\n  </thead>\n  <tbody>\n    <tr>\n      <th>sms0</th>\n      <td>0</td>\n      <td>0</td>\n      <td>0.23</td>\n    </tr>\n    <tr>\n      <th>sms1</th>\n      <td>0</td>\n      <td>0</td>\n      <td>0.18</td>\n    </tr>\n    <tr>\n      <th>sms2!</th>\n      <td>1</td>\n      <td>1</td>\n      <td>0.72</td>\n    </tr>\n    <tr>\n      <th>sms3</th>\n      <td>0</td>\n      <td>0</td>\n      <td>0.18</td>\n    </tr>\n    <tr>\n      <th>sms4</th>\n      <td>0</td>\n      <td>0</td>\n      <td>0.29</td>\n    </tr>\n    <tr>\n      <th>sms5!</th>\n      <td>1</td>\n      <td>1</td>\n      <td>0.55</td>\n    </tr>\n  </tbody>\n</table>\n</div>"
     },
     "metadata": {},
     "execution_count": 20
    }
   ],
   "source": [
    "sms['spam lda_predict lda_score'.split()].round(2).head(6)"
   ]
  },
  {
   "cell_type": "code",
   "execution_count": 21,
   "metadata": {},
   "outputs": [
    {
     "output_type": "execute_result",
     "data": {
      "text/plain": [
       "0.977"
      ]
     },
     "metadata": {},
     "execution_count": 21
    }
   ],
   "source": [
    "(1.0-(sms.spam-sms.lda_predict).abs().sum()/len(sms)).round(3)"
   ]
  },
  {
   "source": [
    "xs=sum(sms.spam==sms.lda_predict)/len(sms)\n",
    "xs"
   ],
   "cell_type": "code",
   "metadata": {},
   "execution_count": 22,
   "outputs": [
    {
     "output_type": "execute_result",
     "data": {
      "text/plain": [
       "0.9774653710977879"
      ]
     },
     "metadata": {},
     "execution_count": 22
    }
   ]
  },
  {
   "cell_type": "code",
   "execution_count": 23,
   "metadata": {},
   "outputs": [
    {
     "output_type": "execute_result",
     "data": {
      "text/plain": [
       "lda_predict     0    1\n",
       "spam                  \n",
       "0            4135   64\n",
       "1              45  593"
      ],
      "text/html": "<div>\n<style scoped>\n    .dataframe tbody tr th:only-of-type {\n        vertical-align: middle;\n    }\n\n    .dataframe tbody tr th {\n        vertical-align: top;\n    }\n\n    .dataframe thead th {\n        text-align: right;\n    }\n</style>\n<table border=\"1\" class=\"dataframe\">\n  <thead>\n    <tr style=\"text-align: right;\">\n      <th>lda_predict</th>\n      <th>0</th>\n      <th>1</th>\n    </tr>\n    <tr>\n      <th>spam</th>\n      <th></th>\n      <th></th>\n    </tr>\n  </thead>\n  <tbody>\n    <tr>\n      <th>0</th>\n      <td>4135</td>\n      <td>64</td>\n    </tr>\n    <tr>\n      <th>1</th>\n      <td>45</td>\n      <td>593</td>\n    </tr>\n  </tbody>\n</table>\n</div>"
     },
     "metadata": {},
     "execution_count": 23
    }
   ],
   "source": [
    "from pugnlp.stats import Confusion\n",
    "Confusion(sms['spam lda_predict'.split()])"
   ]
  },
  {
   "cell_type": "code",
   "execution_count": 24,
   "metadata": {},
   "outputs": [
    {
     "output_type": "stream",
     "name": "stderr",
     "text": [
      "100%|██████████| 263/263 [00:00<00:00, 854455.42it/s]\n"
     ]
    },
    {
     "output_type": "execute_result",
     "data": {
      "text/plain": [
       "       cat   dog  apple  lion   nyc  love\n",
       "top0 -0.58 -0.40   0.51 -0.27  0.44 -0.07\n",
       "top1 -0.14 -0.31  -0.41 -0.11  0.09  0.84\n",
       "top2 -0.32  0.76  -0.08 -0.54  0.04  0.11"
      ],
      "text/html": "<div>\n<style scoped>\n    .dataframe tbody tr th:only-of-type {\n        vertical-align: middle;\n    }\n\n    .dataframe tbody tr th {\n        vertical-align: top;\n    }\n\n    .dataframe thead th {\n        text-align: right;\n    }\n</style>\n<table border=\"1\" class=\"dataframe\">\n  <thead>\n    <tr style=\"text-align: right;\">\n      <th></th>\n      <th>cat</th>\n      <th>dog</th>\n      <th>apple</th>\n      <th>lion</th>\n      <th>nyc</th>\n      <th>love</th>\n    </tr>\n  </thead>\n  <tbody>\n    <tr>\n      <th>top0</th>\n      <td>-0.58</td>\n      <td>-0.40</td>\n      <td>0.51</td>\n      <td>-0.27</td>\n      <td>0.44</td>\n      <td>-0.07</td>\n    </tr>\n    <tr>\n      <th>top1</th>\n      <td>-0.14</td>\n      <td>-0.31</td>\n      <td>-0.41</td>\n      <td>-0.11</td>\n      <td>0.09</td>\n      <td>0.84</td>\n    </tr>\n    <tr>\n      <th>top2</th>\n      <td>-0.32</td>\n      <td>0.76</td>\n      <td>-0.08</td>\n      <td>-0.54</td>\n      <td>0.04</td>\n      <td>0.11</td>\n    </tr>\n  </tbody>\n</table>\n</div>"
     },
     "metadata": {},
     "execution_count": 24
    }
   ],
   "source": [
    "from nlpia.book.examples.ch04_catdog_lsa_3x6x16 import word_topic_vectors\n",
    "word_topic_vectors.T.round(2)"
   ]
  },
  {
   "cell_type": "code",
   "execution_count": 25,
   "metadata": {},
   "outputs": [
    {
     "output_type": "stream",
     "name": "stderr",
     "text": [
      "100%|██████████| 263/263 [00:00<00:00, 851816.18it/s]\n",
      "100%|██████████| 263/263 [00:00<00:00, 820150.15it/s]\n"
     ]
    },
    {
     "output_type": "execute_result",
     "data": {
      "text/plain": [
       "{'u':               0         1         2             3         4         5\n",
       " cat    0.036000 -0.748420 -0.529793  1.261930e-18  0.198828  0.344031\n",
       " dog    0.003867 -0.176567 -0.212674 -7.071068e-01 -0.489127 -0.429340\n",
       " apple  0.723958  0.259623 -0.393405 -2.220446e-16  0.376633 -0.334457\n",
       " lion   0.003867 -0.176567 -0.212674  7.071068e-01 -0.489127 -0.429340\n",
       " nyc    0.657583 -0.070319  0.266404  8.774703e-17 -0.508780  0.482506\n",
       " love   0.205291 -0.552419  0.634917 -4.317961e-17  0.285073 -0.410246,\n",
       " 's': array([2.23578333, 1.62821839, 1.35725348, 0.83008327, 0.70772631,\n",
       "        0.56402658]),\n",
       " 'vt':                0             1             2             3             4             5             6             7   \\\n",
       " d0   4.374410e-01  4.374410e-01  2.479758e-01  4.374410e-01  4.374410e-01  3.238049e-01  1.610175e-02  1.041454e-02   \n",
       " d1   8.894408e-02  8.894408e-02 -2.991345e-01  8.894408e-02  8.894408e-02  1.594522e-01 -4.596559e-01 -3.463379e-01   \n",
       " d2  -8.246610e-02 -8.246610e-02  4.933060e-01 -8.246610e-02 -8.246610e-02 -2.898534e-01 -3.903422e-01 -3.477399e-01   \n",
       " d3   7.172305e-17  2.377160e-16  9.156902e-17  1.504992e-19 -7.872827e-17 -1.612632e-16  1.028674e-16  7.071068e-01   \n",
       " d4  -8.973782e-02 -8.973782e-02 -1.003096e-01 -8.973782e-02 -8.973782e-02  5.321734e-01  2.809394e-01 -4.170284e-01   \n",
       " d5   1.366028e-01  1.366028e-01 -8.064336e-02  1.366028e-01  1.366028e-01 -5.929815e-01  6.099557e-01 -2.917291e-01   \n",
       " d6  -5.835760e-01 -3.544543e-01  1.364850e-01  5.125312e-01  1.555038e-01  1.997937e-01  2.213078e-01 -3.101501e-17   \n",
       " d7  -3.900472e-01  4.605590e-01  2.895507e-01 -5.812473e-01  2.994948e-01  1.563159e-01  1.731483e-01  4.337566e-17   \n",
       " d8  -4.220085e-01  1.479422e-01 -3.115194e-01  1.411562e-01  5.161009e-01 -2.835573e-01 -3.140913e-01 -2.638991e-17   \n",
       " d9  -1.082049e-01  2.716951e-01 -6.059268e-01 -7.745532e-02 -1.704840e-01  6.249150e-02  6.922071e-02  1.325795e-17   \n",
       " d10 -2.910727e-01  5.777222e-01  1.498363e-01  3.751791e-01 -5.982616e-01 -4.703891e-02 -5.210416e-02 -2.382744e-16   \n",
       " \n",
       "                8             9             10  \n",
       " d0   7.919431e-02  2.479758e-01  1.041454e-02  \n",
       " d1  -5.592713e-01 -2.991345e-01 -3.463379e-01  \n",
       " d2   8.869960e-02  4.933060e-01 -3.477399e-01  \n",
       " d3   2.328060e-17 -5.225969e-17 -7.071068e-01  \n",
       " d4   4.875485e-01 -1.003096e-01 -4.170284e-01  \n",
       " d5  -1.358943e-01 -8.064336e-02 -2.917291e-01  \n",
       " d6  -3.321179e-01  1.706062e-01 -1.697929e-16  \n",
       " d7  -2.598446e-01 -4.928669e-02  1.562009e-17  \n",
       " d8   4.713585e-01 -1.243201e-01 -2.638991e-17  \n",
       " d9  -1.038799e-01  7.019789e-01  6.319055e-18  \n",
       " d10  7.819299e-02 -2.221370e-01  2.335704e-16  ,\n",
       " 'tdm':              0         1         2         3         4    5    6         7         8         9         10\n",
       " cat    0.000000  0.000000  0.000000  0.000000  0.000000  0.0  1.0  0.557639  0.666353  0.000000  0.557639\n",
       " dog    0.000000  0.000000  0.000000  0.000000  0.000000  0.0  0.0  0.000000  0.000000  0.000000  0.830083\n",
       " apple  0.739990  0.739990  0.000000  0.739990  0.739990  1.0  0.0  0.000000  0.000000  0.000000  0.000000\n",
       " lion   0.000000  0.000000  0.000000  0.000000  0.000000  0.0  0.0  0.830083  0.000000  0.000000  0.000000\n",
       " nyc    0.672618  0.672618  0.591367  0.672618  0.672618  0.0  0.0  0.000000  0.000000  0.591367  0.000000\n",
       " love   0.000000  0.000000  0.806402  0.000000  0.000000  0.0  0.0  0.000000  0.745636  0.806402  0.000000,\n",
       " 'docs': array(['NYC is the Big Apple.', 'NYC is known as the Big Apple.',\n",
       "        'I love NYC!', 'I wore a hat to the Big Apple party in NYC.',\n",
       "        'Come to NYC. See the Big Apple!',\n",
       "        'Manhattan is called the Big Apple.',\n",
       "        'New York is a big city for a small cat.',\n",
       "        'The lion, a big cat, is the king of the jungle.',\n",
       "        'I love my pet cat.', 'I love New York City (NYC).',\n",
       "        'Your dog chased my cat.'], dtype=object),\n",
       " 'err': [4.0625665574778993e-16,\n",
       "  0.06942687219212891,\n",
       "  0.11139627021373048,\n",
       "  0.1511591953440627,\n",
       "  0.22530039788435668,\n",
       "  0.301543325926483],\n",
       " 'accuracy': [0.9999999999999996,\n",
       "  0.930573127807871,\n",
       "  0.8886037297862696,\n",
       "  0.8488408046559373,\n",
       "  0.7746996021156434,\n",
       "  0.698456674073517]}"
      ]
     },
     "metadata": {},
     "execution_count": 25
    }
   ],
   "source": [
    "from nlpia.book.examples.ch04_catdog_lsa_sorted import lsa_models,prettify_tdm\n",
    "bow_svd,tfidf_svd=lsa_models()\n",
    "prettify_tdm(**tfidf_svd)\n",
    "tfidf_svd"
   ]
  },
  {
   "cell_type": "code",
   "execution_count": 26,
   "metadata": {},
   "outputs": [
    {
     "output_type": "execute_result",
     "data": {
      "text/plain": [
       "             0         1         2         3         4    5    6         7         8         9         10\n",
       "cat    0.000000  0.000000  0.000000  0.000000  0.000000  0.0  1.0  0.557639  0.666353  0.000000  0.557639\n",
       "dog    0.000000  0.000000  0.000000  0.000000  0.000000  0.0  0.0  0.000000  0.000000  0.000000  0.830083\n",
       "apple  0.739990  0.739990  0.000000  0.739990  0.739990  1.0  0.0  0.000000  0.000000  0.000000  0.000000\n",
       "lion   0.000000  0.000000  0.000000  0.000000  0.000000  0.0  0.0  0.830083  0.000000  0.000000  0.000000\n",
       "nyc    0.672618  0.672618  0.591367  0.672618  0.672618  0.0  0.0  0.000000  0.000000  0.591367  0.000000\n",
       "love   0.000000  0.000000  0.806402  0.000000  0.000000  0.0  0.0  0.000000  0.745636  0.806402  0.000000"
      ],
      "text/html": "<div>\n<style scoped>\n    .dataframe tbody tr th:only-of-type {\n        vertical-align: middle;\n    }\n\n    .dataframe tbody tr th {\n        vertical-align: top;\n    }\n\n    .dataframe thead th {\n        text-align: right;\n    }\n</style>\n<table border=\"1\" class=\"dataframe\">\n  <thead>\n    <tr style=\"text-align: right;\">\n      <th></th>\n      <th>0</th>\n      <th>1</th>\n      <th>2</th>\n      <th>3</th>\n      <th>4</th>\n      <th>5</th>\n      <th>6</th>\n      <th>7</th>\n      <th>8</th>\n      <th>9</th>\n      <th>10</th>\n    </tr>\n  </thead>\n  <tbody>\n    <tr>\n      <th>cat</th>\n      <td>0.000000</td>\n      <td>0.000000</td>\n      <td>0.000000</td>\n      <td>0.000000</td>\n      <td>0.000000</td>\n      <td>0.0</td>\n      <td>1.0</td>\n      <td>0.557639</td>\n      <td>0.666353</td>\n      <td>0.000000</td>\n      <td>0.557639</td>\n    </tr>\n    <tr>\n      <th>dog</th>\n      <td>0.000000</td>\n      <td>0.000000</td>\n      <td>0.000000</td>\n      <td>0.000000</td>\n      <td>0.000000</td>\n      <td>0.0</td>\n      <td>0.0</td>\n      <td>0.000000</td>\n      <td>0.000000</td>\n      <td>0.000000</td>\n      <td>0.830083</td>\n    </tr>\n    <tr>\n      <th>apple</th>\n      <td>0.739990</td>\n      <td>0.739990</td>\n      <td>0.000000</td>\n      <td>0.739990</td>\n      <td>0.739990</td>\n      <td>1.0</td>\n      <td>0.0</td>\n      <td>0.000000</td>\n      <td>0.000000</td>\n      <td>0.000000</td>\n      <td>0.000000</td>\n    </tr>\n    <tr>\n      <th>lion</th>\n      <td>0.000000</td>\n      <td>0.000000</td>\n      <td>0.000000</td>\n      <td>0.000000</td>\n      <td>0.000000</td>\n      <td>0.0</td>\n      <td>0.0</td>\n      <td>0.830083</td>\n      <td>0.000000</td>\n      <td>0.000000</td>\n      <td>0.000000</td>\n    </tr>\n    <tr>\n      <th>nyc</th>\n      <td>0.672618</td>\n      <td>0.672618</td>\n      <td>0.591367</td>\n      <td>0.672618</td>\n      <td>0.672618</td>\n      <td>0.0</td>\n      <td>0.0</td>\n      <td>0.000000</td>\n      <td>0.000000</td>\n      <td>0.591367</td>\n      <td>0.000000</td>\n    </tr>\n    <tr>\n      <th>love</th>\n      <td>0.000000</td>\n      <td>0.000000</td>\n      <td>0.806402</td>\n      <td>0.000000</td>\n      <td>0.000000</td>\n      <td>0.0</td>\n      <td>0.0</td>\n      <td>0.000000</td>\n      <td>0.745636</td>\n      <td>0.806402</td>\n      <td>0.000000</td>\n    </tr>\n  </tbody>\n</table>\n</div>"
     },
     "metadata": {},
     "execution_count": 26
    }
   ],
   "source": [
    "tdm=tfidf_svd['tdm']\n",
    "tdm"
   ]
  },
  {
   "cell_type": "code",
   "execution_count": 27,
   "metadata": {},
   "outputs": [],
   "source": [
    "import numpy as np\n",
    "U,S,Vt=np.linalg.svd(tdm)"
   ]
  },
  {
   "cell_type": "code",
   "execution_count": 28,
   "metadata": {},
   "outputs": [
    {
     "output_type": "execute_result",
     "data": {
      "text/plain": [
       "          0     1     2     3     4     5\n",
       "cat    0.04 -0.75 -0.53  0.00  0.20  0.34\n",
       "dog    0.00 -0.18 -0.21 -0.71 -0.49 -0.43\n",
       "apple  0.72  0.26 -0.39 -0.00  0.38 -0.33\n",
       "lion   0.00 -0.18 -0.21  0.71 -0.49 -0.43\n",
       "nyc    0.66 -0.07  0.27  0.00 -0.51  0.48\n",
       "love   0.21 -0.55  0.63 -0.00  0.29 -0.41"
      ],
      "text/html": "<div>\n<style scoped>\n    .dataframe tbody tr th:only-of-type {\n        vertical-align: middle;\n    }\n\n    .dataframe tbody tr th {\n        vertical-align: top;\n    }\n\n    .dataframe thead th {\n        text-align: right;\n    }\n</style>\n<table border=\"1\" class=\"dataframe\">\n  <thead>\n    <tr style=\"text-align: right;\">\n      <th></th>\n      <th>0</th>\n      <th>1</th>\n      <th>2</th>\n      <th>3</th>\n      <th>4</th>\n      <th>5</th>\n    </tr>\n  </thead>\n  <tbody>\n    <tr>\n      <th>cat</th>\n      <td>0.04</td>\n      <td>-0.75</td>\n      <td>-0.53</td>\n      <td>0.00</td>\n      <td>0.20</td>\n      <td>0.34</td>\n    </tr>\n    <tr>\n      <th>dog</th>\n      <td>0.00</td>\n      <td>-0.18</td>\n      <td>-0.21</td>\n      <td>-0.71</td>\n      <td>-0.49</td>\n      <td>-0.43</td>\n    </tr>\n    <tr>\n      <th>apple</th>\n      <td>0.72</td>\n      <td>0.26</td>\n      <td>-0.39</td>\n      <td>-0.00</td>\n      <td>0.38</td>\n      <td>-0.33</td>\n    </tr>\n    <tr>\n      <th>lion</th>\n      <td>0.00</td>\n      <td>-0.18</td>\n      <td>-0.21</td>\n      <td>0.71</td>\n      <td>-0.49</td>\n      <td>-0.43</td>\n    </tr>\n    <tr>\n      <th>nyc</th>\n      <td>0.66</td>\n      <td>-0.07</td>\n      <td>0.27</td>\n      <td>0.00</td>\n      <td>-0.51</td>\n      <td>0.48</td>\n    </tr>\n    <tr>\n      <th>love</th>\n      <td>0.21</td>\n      <td>-0.55</td>\n      <td>0.63</td>\n      <td>-0.00</td>\n      <td>0.29</td>\n      <td>-0.41</td>\n    </tr>\n  </tbody>\n</table>\n</div>"
     },
     "metadata": {},
     "execution_count": 28
    }
   ],
   "source": [
    "import pandas as pd\n",
    "pd.DataFrame(U,index=tdm.index).round(2)"
   ]
  },
  {
   "cell_type": "code",
   "execution_count": 29,
   "metadata": {},
   "outputs": [
    {
     "output_type": "stream",
     "name": "stdout",
     "text": [
      "[2.23578333 1.62821839 1.35725348 0.83008327 0.70772631 0.56402658]\n"
     ]
    }
   ],
   "source": [
    "print(S)"
   ]
  },
  {
   "cell_type": "code",
   "execution_count": 30,
   "metadata": {},
   "outputs": [
    {
     "output_type": "execute_result",
     "data": {
      "text/plain": [
       "(6,)"
      ]
     },
     "metadata": {},
     "execution_count": 30
    }
   ],
   "source": [
    "S.shape"
   ]
  },
  {
   "cell_type": "code",
   "execution_count": 31,
   "metadata": {},
   "outputs": [
    {
     "output_type": "execute_result",
     "data": {
      "text/plain": [
       "(11, 11)"
      ]
     },
     "metadata": {},
     "execution_count": 31
    }
   ],
   "source": [
    "Vt.shape"
   ]
  },
  {
   "cell_type": "code",
   "execution_count": 32,
   "metadata": {},
   "outputs": [
    {
     "output_type": "execute_result",
     "data": {
      "text/plain": [
       "array([2.24, 1.63, 1.36, 0.83, 0.71, 0.56])"
      ]
     },
     "metadata": {},
     "execution_count": 32
    }
   ],
   "source": [
    "S.round(2)"
   ]
  },
  {
   "cell_type": "code",
   "execution_count": 33,
   "metadata": {},
   "outputs": [],
   "source": [
    "s=np.zeros((len(U),len(Vt)))"
   ]
  },
  {
   "cell_type": "code",
   "execution_count": 34,
   "metadata": {},
   "outputs": [],
   "source": [
    "pd.np.fill_diagonal(s,S)"
   ]
  },
  {
   "cell_type": "code",
   "execution_count": 35,
   "metadata": {},
   "outputs": [
    {
     "output_type": "execute_result",
     "data": {
      "text/plain": [
       "array([[2.23578333, 0.        , 0.        , 0.        , 0.        ,\n",
       "        0.        , 0.        , 0.        , 0.        , 0.        ,\n",
       "        0.        ],\n",
       "       [0.        , 1.62821839, 0.        , 0.        , 0.        ,\n",
       "        0.        , 0.        , 0.        , 0.        , 0.        ,\n",
       "        0.        ],\n",
       "       [0.        , 0.        , 1.35725348, 0.        , 0.        ,\n",
       "        0.        , 0.        , 0.        , 0.        , 0.        ,\n",
       "        0.        ],\n",
       "       [0.        , 0.        , 0.        , 0.83008327, 0.        ,\n",
       "        0.        , 0.        , 0.        , 0.        , 0.        ,\n",
       "        0.        ],\n",
       "       [0.        , 0.        , 0.        , 0.        , 0.70772631,\n",
       "        0.        , 0.        , 0.        , 0.        , 0.        ,\n",
       "        0.        ],\n",
       "       [0.        , 0.        , 0.        , 0.        , 0.        ,\n",
       "        0.56402658, 0.        , 0.        , 0.        , 0.        ,\n",
       "        0.        ]])"
      ]
     },
     "metadata": {},
     "execution_count": 35
    }
   ],
   "source": [
    "s"
   ]
  },
  {
   "cell_type": "code",
   "execution_count": 36,
   "metadata": {},
   "outputs": [
    {
     "output_type": "execute_result",
     "data": {
      "text/plain": [
       "     0     1     2     3     4     5    6    7    8    9    10\n",
       "0  2.24  0.00  0.00  0.00  0.00  0.00  0.0  0.0  0.0  0.0  0.0\n",
       "1  0.00  1.63  0.00  0.00  0.00  0.00  0.0  0.0  0.0  0.0  0.0\n",
       "2  0.00  0.00  1.36  0.00  0.00  0.00  0.0  0.0  0.0  0.0  0.0\n",
       "3  0.00  0.00  0.00  0.83  0.00  0.00  0.0  0.0  0.0  0.0  0.0\n",
       "4  0.00  0.00  0.00  0.00  0.71  0.00  0.0  0.0  0.0  0.0  0.0\n",
       "5  0.00  0.00  0.00  0.00  0.00  0.56  0.0  0.0  0.0  0.0  0.0"
      ],
      "text/html": "<div>\n<style scoped>\n    .dataframe tbody tr th:only-of-type {\n        vertical-align: middle;\n    }\n\n    .dataframe tbody tr th {\n        vertical-align: top;\n    }\n\n    .dataframe thead th {\n        text-align: right;\n    }\n</style>\n<table border=\"1\" class=\"dataframe\">\n  <thead>\n    <tr style=\"text-align: right;\">\n      <th></th>\n      <th>0</th>\n      <th>1</th>\n      <th>2</th>\n      <th>3</th>\n      <th>4</th>\n      <th>5</th>\n      <th>6</th>\n      <th>7</th>\n      <th>8</th>\n      <th>9</th>\n      <th>10</th>\n    </tr>\n  </thead>\n  <tbody>\n    <tr>\n      <th>0</th>\n      <td>2.24</td>\n      <td>0.00</td>\n      <td>0.00</td>\n      <td>0.00</td>\n      <td>0.00</td>\n      <td>0.00</td>\n      <td>0.0</td>\n      <td>0.0</td>\n      <td>0.0</td>\n      <td>0.0</td>\n      <td>0.0</td>\n    </tr>\n    <tr>\n      <th>1</th>\n      <td>0.00</td>\n      <td>1.63</td>\n      <td>0.00</td>\n      <td>0.00</td>\n      <td>0.00</td>\n      <td>0.00</td>\n      <td>0.0</td>\n      <td>0.0</td>\n      <td>0.0</td>\n      <td>0.0</td>\n      <td>0.0</td>\n    </tr>\n    <tr>\n      <th>2</th>\n      <td>0.00</td>\n      <td>0.00</td>\n      <td>1.36</td>\n      <td>0.00</td>\n      <td>0.00</td>\n      <td>0.00</td>\n      <td>0.0</td>\n      <td>0.0</td>\n      <td>0.0</td>\n      <td>0.0</td>\n      <td>0.0</td>\n    </tr>\n    <tr>\n      <th>3</th>\n      <td>0.00</td>\n      <td>0.00</td>\n      <td>0.00</td>\n      <td>0.83</td>\n      <td>0.00</td>\n      <td>0.00</td>\n      <td>0.0</td>\n      <td>0.0</td>\n      <td>0.0</td>\n      <td>0.0</td>\n      <td>0.0</td>\n    </tr>\n    <tr>\n      <th>4</th>\n      <td>0.00</td>\n      <td>0.00</td>\n      <td>0.00</td>\n      <td>0.00</td>\n      <td>0.71</td>\n      <td>0.00</td>\n      <td>0.0</td>\n      <td>0.0</td>\n      <td>0.0</td>\n      <td>0.0</td>\n      <td>0.0</td>\n    </tr>\n    <tr>\n      <th>5</th>\n      <td>0.00</td>\n      <td>0.00</td>\n      <td>0.00</td>\n      <td>0.00</td>\n      <td>0.00</td>\n      <td>0.56</td>\n      <td>0.0</td>\n      <td>0.0</td>\n      <td>0.0</td>\n      <td>0.0</td>\n      <td>0.0</td>\n    </tr>\n  </tbody>\n</table>\n</div>"
     },
     "metadata": {},
     "execution_count": 36
    }
   ],
   "source": [
    "pd.DataFrame(s).round(2)"
   ]
  },
  {
   "cell_type": "code",
   "execution_count": 37,
   "metadata": {},
   "outputs": [
    {
     "output_type": "execute_result",
     "data": {
      "text/plain": [
       "[[1, 0, 0], [0, 0, 4], [2, 4, 0]]"
      ]
     },
     "metadata": {},
     "execution_count": 37
    }
   ],
   "source": [
    "a=[[1,0,0],[0,0,4],[2,4,0]]\n",
    "a"
   ]
  },
  {
   "cell_type": "code",
   "execution_count": 38,
   "metadata": {},
   "outputs": [
    {
     "output_type": "execute_result",
     "data": {
      "text/plain": [
       "[[0, 0, 1], [1, 1, -0.5333333333333333], [1, -1, -0.13333333333333333]]"
      ]
     },
     "metadata": {},
     "execution_count": 38
    }
   ],
   "source": [
    "q=[[0,0,1],[1,1,-8/15],[1,-1,-2/15]]\n",
    "q"
   ]
  },
  {
   "cell_type": "code",
   "execution_count": 39,
   "metadata": {},
   "outputs": [],
   "source": [
    "x=[[4,0,0],[0,-4,0],[0,0,1]]"
   ]
  },
  {
   "cell_type": "code",
   "execution_count": 40,
   "metadata": {},
   "outputs": [
    {
     "output_type": "execute_result",
     "data": {
      "text/plain": [
       "array([[ 0.        ,  0.        ,  1.        ],\n",
       "       [ 4.        , -4.        , -0.53333333],\n",
       "       [ 4.        ,  4.        , -0.13333333]])"
      ]
     },
     "metadata": {},
     "execution_count": 40
    }
   ],
   "source": [
    "import numpy as np\n",
    "c=np.matmul(a,q)\n",
    "c"
   ]
  },
  {
   "cell_type": "code",
   "execution_count": 41,
   "metadata": {},
   "outputs": [
    {
     "output_type": "execute_result",
     "data": {
      "text/plain": [
       "array([[ 0.        ,  0.        ,  1.        ],\n",
       "       [ 4.        , -4.        , -0.53333333],\n",
       "       [ 4.        ,  4.        , -0.13333333]])"
      ]
     },
     "metadata": {},
     "execution_count": 41
    }
   ],
   "source": [
    "cx=np.matmul(q,x)\n",
    "cx"
   ]
  },
  {
   "cell_type": "code",
   "execution_count": 43,
   "metadata": {},
   "outputs": [
    {
     "output_type": "error",
     "ename": "AttributeError",
     "evalue": "'list' object has no attribute 'T'",
     "traceback": [
      "\u001b[0;31m---------------------------------------------------------------------------\u001b[0m",
      "\u001b[0;31mAttributeError\u001b[0m                            Traceback (most recent call last)",
      "\u001b[0;32m<ipython-input-43-46a518b35b31>\u001b[0m in \u001b[0;36m<module>\u001b[0;34m\u001b[0m\n\u001b[0;32m----> 1\u001b[0;31m \u001b[0mes\u001b[0m\u001b[0;34m=\u001b[0m\u001b[0mnp\u001b[0m\u001b[0;34m.\u001b[0m\u001b[0mmatmul\u001b[0m\u001b[0;34m(\u001b[0m\u001b[0ma\u001b[0m\u001b[0;34m,\u001b[0m\u001b[0ma\u001b[0m\u001b[0;34m.\u001b[0m\u001b[0mT\u001b[0m\u001b[0;34m)\u001b[0m\u001b[0;34m\u001b[0m\u001b[0;34m\u001b[0m\u001b[0m\n\u001b[0m",
      "\u001b[0;31mAttributeError\u001b[0m: 'list' object has no attribute 'T'"
     ]
    }
   ],
   "source": [
    "es=np.matmul(a,a.T)"
   ]
  },
  {
   "cell_type": "code",
   "execution_count": 44,
   "metadata": {},
   "outputs": [
    {
     "output_type": "execute_result",
     "data": {
      "text/plain": [
       "array([[1, 0, 0],\n",
       "       [0, 0, 4],\n",
       "       [2, 4, 0]])"
      ]
     },
     "metadata": {},
     "execution_count": 44
    }
   ],
   "source": [
    "a=np.array(a)\n",
    "a"
   ]
  },
  {
   "cell_type": "code",
   "execution_count": 45,
   "metadata": {},
   "outputs": [
    {
     "output_type": "execute_result",
     "data": {
      "text/plain": [
       "array([[1, 0, 2],\n",
       "       [0, 0, 4],\n",
       "       [0, 4, 0]])"
      ]
     },
     "metadata": {},
     "execution_count": 45
    }
   ],
   "source": [
    "a.T"
   ]
  },
  {
   "cell_type": "code",
   "execution_count": 46,
   "metadata": {},
   "outputs": [
    {
     "output_type": "execute_result",
     "data": {
      "text/plain": [
       "array([[ 1,  0,  2],\n",
       "       [ 0, 16,  0],\n",
       "       [ 2,  0, 20]])"
      ]
     },
     "metadata": {},
     "execution_count": 46
    }
   ],
   "source": [
    "np.matmul(a,a.T)"
   ]
  },
  {
   "cell_type": "code",
   "execution_count": 47,
   "metadata": {},
   "outputs": [
    {
     "output_type": "execute_result",
     "data": {
      "text/plain": [
       "array([[ 5,  8,  0],\n",
       "       [ 8, 16,  0],\n",
       "       [ 0,  0, 16]])"
      ]
     },
     "metadata": {},
     "execution_count": 47
    }
   ],
   "source": [
    "np.matmul(a.T,a)"
   ]
  },
  {
   "cell_type": "code",
   "execution_count": null,
   "metadata": {},
   "outputs": [],
   "source": []
  }
 ]
}