{
 "metadata": {
  "language_info": {
   "codemirror_mode": {
    "name": "ipython",
    "version": 3
   },
   "file_extension": ".py",
   "mimetype": "text/x-python",
   "name": "python",
   "nbconvert_exporter": "python",
   "pygments_lexer": "ipython3",
   "version": "3.8.5-final"
  },
  "orig_nbformat": 2,
  "kernelspec": {
   "name": "python3",
   "display_name": "Python 3",
   "language": "python"
  }
 },
 "nbformat": 4,
 "nbformat_minor": 2,
 "cells": [
  {
   "cell_type": "code",
   "execution_count": 1,
   "metadata": {},
   "outputs": [],
   "source": [
    "sample_data=[[0,0],[0,1],[1,0],[1,1]]\n",
    "e_results=[0,1,1,1]\n",
    "act_threshold=0.5"
   ]
  },
  {
   "cell_type": "code",
   "execution_count": 2,
   "metadata": {},
   "outputs": [],
   "source": [
    "from random import random\n",
    "import cupy as np\n",
    "weights=np.random.random(2)/1000"
   ]
  },
  {
   "cell_type": "code",
   "execution_count": 3,
   "metadata": {},
   "outputs": [
    {
     "output_type": "execute_result",
     "data": {
      "text/plain": [
       "array([0.0007636 , 0.00032767])"
      ]
     },
     "metadata": {},
     "execution_count": 3
    }
   ],
   "source": [
    "weights"
   ]
  },
  {
   "cell_type": "code",
   "execution_count": 4,
   "metadata": {},
   "outputs": [
    {
     "output_type": "execute_result",
     "data": {
      "text/plain": [
       "array(0.00050932)"
      ]
     },
     "metadata": {},
     "execution_count": 4
    }
   ],
   "source": [
    "b_weights=np.random.random()/1000\n",
    "b_weights"
   ]
  },
  {
   "cell_type": "code",
   "execution_count": 5,
   "metadata": {},
   "outputs": [
    {
     "output_type": "stream",
     "name": "stdout",
     "text": [
      "预测结果为0\n实际结果为0\n\n预测结果为0\n实际结果为1\n\n预测结果为0\n实际结果为1\n\n预测结果为0\n实际结果为1\n\n"
     ]
    }
   ],
   "source": [
    "for idx,sample in enumerate(sample_data):\n",
    "    input_vector=np.array(sample)\n",
    "    ac_level=np.dot(input_vector,weights)+b_weights*1\n",
    "    if ac_level>act_threshold:\n",
    "        p_out=1\n",
    "    else:\n",
    "        p_out=0\n",
    "    print('预测结果为{}'.format(p_out))\n",
    "    print('实际结果为{}'.format(e_results[idx]))\n",
    "    print()"
   ]
  },
  {
   "cell_type": "code",
   "execution_count": 7,
   "metadata": {},
   "outputs": [
    {
     "output_type": "stream",
     "name": "stdout",
     "text": [
      "3个正确结果，总共4个，第0次迭代\n2个正确结果，总共4个，第1次迭代\n3个正确结果，总共4个，第2次迭代\n4个正确结果，总共4个，第3次迭代\n4个正确结果，总共4个，第4次迭代\n"
     ]
    }
   ],
   "source": [
    "for iteration_num in range(5):\n",
    "    correct_answers=0\n",
    "    for idx,sample in enumerate(sample_data):\n",
    "        input_vector=np.array(sample)\n",
    "        weights=np.array(weights)\n",
    "        ac_level=np.dot(input_vector,weights)+b_weights*1\n",
    "        if ac_level>act_threshold:\n",
    "            p_out=1\n",
    "        else:\n",
    "            p_out=0\n",
    "        if p_out==e_results[idx]:\n",
    "           correct_answers+=1\n",
    "        new_weights=[]\n",
    "        for i,x in enumerate(sample):\n",
    "            new_weights.append(weights[i]+(e_results[idx]-p_out)*x)\n",
    "        b_weights=b_weights+((e_results[idx]-p_out)*1)\n",
    "        weights=np.array(new_weights)\n",
    "    print('{}个正确结果，总共4个，第{}次迭代'.format(correct_answers,iteration_num))\n",
    "        \n"
   ]
  },
  {
   "cell_type": "code",
   "execution_count": 8,
   "metadata": {},
   "outputs": [
    {
     "output_type": "execute_result",
     "data": {
      "text/plain": [
       "array([1.0007636 , 1.00032767])"
      ]
     },
     "metadata": {},
     "execution_count": 8
    }
   ],
   "source": [
    "weights"
   ]
  },
  {
   "cell_type": "code",
   "execution_count": null,
   "metadata": {},
   "outputs": [],
   "source": []
  }
 ]
}